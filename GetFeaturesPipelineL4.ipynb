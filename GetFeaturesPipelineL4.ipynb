{
 "cells": [
  {
   "cell_type": "code",
   "execution_count": 108,
   "metadata": {},
   "outputs": [],
   "source": [
    "import pandas as pd\n",
    "import numpy as np\n",
    "import seaborn as sns\n",
    "import matplotlib.pyplot as plt\n",
    "import scipy.stats as stats\n",
    "import scipy.io as io\n",
    "import scipy.signal as signal\n",
    "from scipy.optimize import curve_fit\n",
    "import logging\n",
    "import importlib\n",
    "import os\n",
    "\n",
    "\n",
    "import ephys_extractor as efex\n",
    "import ephys_features as ft\n",
    "sns.set_style('whitegrid')\n",
    "\n",
    "import matplotlib as mpl\n",
    "mpl.rcParams['pdf.fonttype'] = 42\n",
    "\n",
    "%matplotlib inline"
   ]
  },
  {
   "cell_type": "code",
   "execution_count": 109,
   "metadata": {},
   "outputs": [
    {
     "data": {
      "text/plain": [
       "<module 'ephys_features' from '/gpfs01/berens/user/ybernaerts/EphysAnalysis/data/ephys/code/ephys_features.py'>"
      ]
     },
     "execution_count": 109,
     "metadata": {},
     "output_type": "execute_result"
    }
   ],
   "source": [
    "# Normally you don't change modules though\n",
    "importlib.reload(efex)\n",
    "importlib.reload(ft)"
   ]
  },
  {
   "cell_type": "markdown",
   "metadata": {},
   "source": [
    "# Load and process data"
   ]
  },
  {
   "cell_type": "code",
   "execution_count": 5,
   "metadata": {},
   "outputs": [],
   "source": [
    "# L4 data .mat files\n",
    "# Check out all directories with its subdirectories and files. Every step in the for-loop checks the root, all the\n",
    "# subdirectories and the files in the current directory (with name root). Save the file if .mat extension.\n",
    "L4 = []\n",
    "L4_names = []\n",
    "for root, dirs, files in os.walk('../L4/data/'):\n",
    "    if files:\n",
    "        for file in files:\n",
    "            if file.endswith('.mat'):\n",
    "                L4.append(io.loadmat(root + '/' + file))\n",
    "                L4_names.append(root + '/' + file)"
   ]
  },
  {
   "cell_type": "code",
   "execution_count": 124,
   "metadata": {},
   "outputs": [],
   "source": [
    "L4_re = []\n",
    "L4_re_names = []\n",
    "for root, dirs, files in os.walk('../L4/ReAnalysis/data/'):\n",
    "    if files:\n",
    "        for file in files:\n",
    "            if file.endswith('.mat'):\n",
    "                L4_re.append(io.loadmat(root + '/' + file))\n",
    "                L4_re_names.append(root + '/' + file)"
   ]
  },
  {
   "cell_type": "code",
   "execution_count": 56,
   "metadata": {},
   "outputs": [],
   "source": [
    "L4_excluded = []\n",
    "L4_excluded_names = []\n",
    "for root, dirs, files in os.walk('../L4/ReAnalysis/data/Excluded Data/'):\n",
    "    if files:\n",
    "        for file in files:\n",
    "            if file.endswith('.mat'):\n",
    "                L4_excluded.append(io.loadmat(root + '/' + file))\n",
    "                L4_excluded_names.append(root + '/' + file)"
   ]
  },
  {
   "cell_type": "code",
   "execution_count": 112,
   "metadata": {},
   "outputs": [
    {
     "data": {
      "text/plain": [
       "68"
      ]
     },
     "execution_count": 112,
     "metadata": {},
     "output_type": "execute_result"
    }
   ],
   "source": [
    "len(L4_re_names)"
   ]
  },
  {
   "cell_type": "code",
   "execution_count": 35,
   "metadata": {},
   "outputs": [],
   "source": [
    "def data_preparation(data, el_num = 2, current_step = 20):\n",
    "    \"\"\"Analyse the data in dictionary format (assumes a certain outlook of the data) and return the voltage traces, \n",
    "    stimulus current magnitudes for all traces, the time and the current index for which the current magnitude equals 0 pA.\n",
    "\n",
    "    Parameters\n",
    "    ----------\n",
    "    data : dictionary full of voltage (V) and time (s) traces\n",
    "    el_num : integer, from which electrode number has been measured (optional, 2 by default)\n",
    "    current_step : float, which current step (pA) has been used between consecutive experiments (optional, 20 by default)\n",
    "    \n",
    "    Returns\n",
    "    -------\n",
    "    voltage : numpy 2D array of voltage traces (mV)\n",
    "    time : numpy 1D array of time points (s)\n",
    "    current : numpy 1D array of current stimulus magnitudes\n",
    "    curr_index_0 : integer of current index where the current = 0 pA\n",
    "    \"\"\"\n",
    "    \n",
    "    \n",
    "    \n",
    "    # All the keys in the dictionary should have the form \"Trace_1_j_c_el\" where j represents a certain number which could\n",
    "    # be different between cells/samples, therefore we will store this number as num. c represents the current stimulus\n",
    "    # magnitude index, el the electrode number. They usually always record from electrode number el = 2.\n",
    "    num = list(data)[4].split('_')[2]\n",
    "    n_samp = data[list(data.keys())[4]].shape[0] # Amount of timepoints\n",
    "    dt = data[list(data.keys())[4]][1, 0] - data [list(data.keys())[4]][0, 0] # Time step\n",
    "    time = np.arange(0,n_samp*dt,dt)\n",
    "    \n",
    "    # We pick random voltage traces to look for the resting membrane voltage\n",
    "    Vm_tuple = []\n",
    "    \n",
    "    # Check whether we have hyperpolarisation in the beginning, otherwise the electrode where spikes have been recorded must have\n",
    "    # been a different one\n",
    "    object_ephys = efex.EphysSweepFeatureExtractor(t = time, v = 1000*data['Trace_{}_{}_{}_{}'.format(1, num, 1, el_num)][:, 1], \\\n",
    "                                                   start = 0.1, end = 0.7, filter = 10)\n",
    "    voltage_deflection_v, _ = object_ephys.voltage_deflection()\n",
    "    Vm = object_ephys._get_baseline_voltage()\n",
    "    V_defl = voltage_deflection_v\n",
    "    if  np.abs(Vm - V_defl) < 2:\n",
    "        el_num = 1\n",
    "        while np.abs(Vm - V_defl) < 2:\n",
    "            object_ephys = efex.EphysSweepFeatureExtractor(t = time, v = 1000*data['Trace_{}_{}_{}_{}'.format(1, num, 1, el_num)][:, 1], \\\n",
    "                                                   start = 0.1, end = 0.7, filter = 10)\n",
    "            Vm = object_ephys._get_baseline_voltage()\n",
    "            V_defl, _ = object_ephys.voltage_deflection()\n",
    "            if el_num == 1:\n",
    "                el_num = 3\n",
    "            else: el_num += 1\n",
    "        el_num = el_num - 1\n",
    "    #for i in np.arange(1, 12, 1):\n",
    "    #    voltage_trace = data['Trace_1_{}_{}_{}'.format(num, i, el_num)][:, 1]\n",
    "    #    object_ephys = efex.EphysSweepFeatureExtractor(t = time, v = 1000*voltage_trace, start = 0.1, end = 0.7, filter = 10)\n",
    "    #    Vm = object_ephys._get_baseline_voltage()\n",
    "    #    Vm_tuple.append(Vm)\n",
    "    #Vm = np.mean(np.array(Vm_tuple))\n",
    "    \n",
    "\n",
    "    \n",
    "    Amount_Of_Electrodes = np.max([int(g.split('_')[-1]) if (g.split('_')[0] == 'Trace') else 0 for g in list(data.keys())])\n",
    "    \n",
    "    # stim_paradigm_num is the number of current stimulus magnitudes that were used\n",
    "    stim_paradigm_num = (np.array(list(data)).size - 3)/Amount_Of_Electrodes\n",
    "                                    # 3 keys should just be '__globals__', '__header__', and '__version__'\n",
    "    \n",
    "    curr_index_0 = 0 # Current stimulus magnitude index that corresponds to stimulating the cell with 0 pA\n",
    "    \n",
    "    # Trace with the least amount of variance in the trace is assumed to be the trace corresponding to stimulating the cell\n",
    "    # with 0 pA stimulation current\n",
    "    best = np.var(1000*data['Trace_1_{}_{}_{}'.format(num, 1, el_num)][:, 1])\n",
    "    #best = np.abs(np.mean(1000*data['Trace_1_{}_{}_{}'.format(num, 1, el_num)][:, 1]) - Vm)\n",
    "    for i in np.arange(2, stim_paradigm_num + 1, 1, dtype = 'int'):\n",
    "        best_temp = np.var(1000*data['Trace_1_{}_{}_{}'.format(num, i, el_num)][:, 1])\n",
    "        #best_temp = np.abs(np.mean(1000*data['Trace_1_{}_{}_{}'.format(num, i, el_num)][:, 1]) - Vm)\n",
    "        if  best_temp < best:\n",
    "            best = best_temp\n",
    "            curr_index_0 = i\n",
    "    \n",
    "    start_current_impulse = -(curr_index_0 - 1)*current_step # - 1 since in the dictionary we start at 1 (not at zero)    \n",
    "    stop_current_impulse = start_current_impulse + (current_step*stim_paradigm_num)\n",
    "    current = np.arange(start_current_impulse, stop_current_impulse, current_step)\n",
    "    #current = current[current < 800] #After that the cell might die and it's probably innecessary for the analysis\n",
    "    \n",
    "    # voltage will give us the voltage response for all different current steps\n",
    "    voltage = np.zeros((n_samp,len(current)))\n",
    "    for c, C in enumerate(current):\n",
    "        voltage[:,c] = 1000*data['Trace_1_{}_{}_{}'.format(num, c+1, el_num)][:,1] # c+1: goes from 1 to end of possible current\n",
    "                                                                                   # stimulation magnitudes\n",
    "    \n",
    "    return time, current, voltage, (curr_index_0 - 1) # -1 since the current and voltage vector start at 0"
   ]
  },
  {
   "cell_type": "code",
   "execution_count": 89,
   "metadata": {},
   "outputs": [],
   "source": [
    "data = io.loadmat('../L4/ReAnalysis/data/Excluded Data//2018 19 09 slice 1 sample 1 (matinotti V1).mat')"
   ]
  },
  {
   "cell_type": "code",
   "execution_count": 85,
   "metadata": {},
   "outputs": [],
   "source": [
    "data1 = io.loadmat('../L4/ReAnalysis/data/Excluded Data//2018 04 06 slice 1 sample 3 (martinotti V1).mat')"
   ]
  },
  {
   "cell_type": "code",
   "execution_count": 92,
   "metadata": {},
   "outputs": [],
   "source": [
    "data2 = io.loadmat('../L4/ReAnalysis/data/Excluded Data//2018 03 07 slice 1 sample 2 (martinotti V1).mat')"
   ]
  },
  {
   "cell_type": "code",
   "execution_count": 96,
   "metadata": {},
   "outputs": [],
   "source": [
    "data3 = io.loadmat('../L4/ReAnalysis/data/Excluded Data//2018 26 06 slice 1 sample 2 (non-martinoti S1).mat')"
   ]
  },
  {
   "cell_type": "code",
   "execution_count": 101,
   "metadata": {},
   "outputs": [],
   "source": [
    "data4 = io.loadmat('../L4/ReAnalysis/data/Excluded Data//2018 05 06 slice 1 sample 17 (fast spiking S1).mat')"
   ]
  },
  {
   "cell_type": "code",
   "execution_count": 105,
   "metadata": {},
   "outputs": [],
   "source": [
    "data5 = io.loadmat('../L4/ReAnalysis/data/Excluded Data//2018 06 06 slice 1 sample 1.mat')"
   ]
  },
  {
   "cell_type": "code",
   "execution_count": 106,
   "metadata": {},
   "outputs": [
    {
     "name": "stdout",
     "output_type": "stream",
     "text": [
      "time:  [0.0000e+00 4.0000e-05 8.0000e-05 ... 8.9988e-01 8.9992e-01 8.9996e-01]\n",
      "\n",
      "\n",
      "current:  [-200. -180. -160. -140. -120. -100.  -80.  -60.  -40.  -20.    0.   20.\n",
      "   40.   60.   80.  100.  120.  140.  160.  180.  200.  220.  240.  260.\n",
      "  280.  300.  320.  340.  360.  380.  400.  420.  440.  460.  480.  500.\n",
      "  520.  540.  560.  580.  600.  620.  640.  660.  680.  700.  720.  740.\n",
      "  760.  780.  800.  820.  840.  860.  880.  900.  920.  940.  960.  980.\n",
      " 1000. 1020. 1040. 1060. 1080. 1100. 1120.]\n",
      "\n",
      "\n",
      "voltage:  [[-59.03378874 -57.41139501 -57.00514838 ... -64.84095752 -64.7655949\n",
      "  -64.8227483 ]\n",
      " [-59.03915316 -57.4320294  -56.9852218  ... -64.82154131 -64.79115784\n",
      "  -64.8271665 ]\n",
      " [-59.04709175 -57.44948983 -56.9675602  ... -64.80574608 -64.81363624\n",
      "  -64.83147293]\n",
      " ...\n",
      " [-53.48976701 -54.20354754 -54.67034504 ... -65.46019018 -65.03771245\n",
      "  -64.64067847]\n",
      " [-53.49024758 -54.21607941 -54.6743758  ... -65.47374278 -65.04885852\n",
      "  -64.63766098]\n",
      " [-53.4885563  -54.23043668 -54.67890203 ... -65.48512727 -65.05968422\n",
      "  -64.63199109]]\n",
      "\n",
      "\n",
      "curr_index_0:  10\n"
     ]
    }
   ],
   "source": [
    "time, current, voltage, curr_index_0 = data_preparation(data5, el_num = 2)\n",
    "print('time: ', time)\n",
    "print('\\n\\ncurrent: ', current)\n",
    "print('\\n\\nvoltage: ', voltage)\n",
    "print('\\n\\ncurr_index_0: ', curr_index_0)"
   ]
  },
  {
   "cell_type": "code",
   "execution_count": 91,
   "metadata": {},
   "outputs": [
    {
     "data": {
      "image/png": "[encoded data removed]",
      "text/plain": [
       "<matplotlib.figure.Figure at 0x7fbc1a3cae10>"
      ]
     },
     "metadata": {},
     "output_type": "display_data"
    }
   ],
   "source": [
    "plt.plot(time, voltage)\n",
    "plt.xlabel('Time (s)', fontsize = 15)\n",
    "plt.ylabel('voltage (mV)', fontsize = 15)\n",
    "plt.title('Raw voltage trace', fontsize = 25)\n",
    "plt.savefig('Example1.png')"
   ]
  },
  {
   "cell_type": "code",
   "execution_count": 87,
   "metadata": {},
   "outputs": [
    {
     "data": {
      "image/png": "[encoded data removed]",
      "text/plain": [
       "<matplotlib.figure.Figure at 0x7fbc142b2240>"
      ]
     },
     "metadata": {},
     "output_type": "display_data"
    }
   ],
   "source": [
    "plt.plot(time, voltage)\n",
    "plt.xlabel('Time (s)', fontsize = 15)\n",
    "plt.ylabel('voltage (mV)', fontsize = 15)\n",
    "plt.title('Raw voltage trace', fontsize = 25)\n",
    "plt.savefig('Example.png')"
   ]
  },
  {
   "cell_type": "code",
   "execution_count": 95,
   "metadata": {},
   "outputs": [
    {
     "data": {
      "image/png": "[encoded data removed]",
      "text/plain": [
       "<matplotlib.figure.Figure at 0x7fbc152ccf60>"
      ]
     },
     "metadata": {},
     "output_type": "display_data"
    }
   ],
   "source": [
    "plt.plot(time, voltage)\n",
    "plt.xlabel('Time (s)', fontsize = 15)\n",
    "plt.ylabel('voltage (mV)', fontsize = 15)\n",
    "plt.title('Raw voltage trace', fontsize = 25)\n",
    "plt.savefig('Example2.png')"
   ]
  },
  {
   "cell_type": "code",
   "execution_count": 100,
   "metadata": {},
   "outputs": [
    {
     "data": {
      "image/png": "[encoded data removed]",
      "text/plain": [
       "<matplotlib.figure.Figure at 0x7fbc1440dc50>"
      ]
     },
     "metadata": {},
     "output_type": "display_data"
    }
   ],
   "source": [
    "plt.plot(time, voltage)\n",
    "plt.xlabel('Time (s)', fontsize = 15)\n",
    "plt.ylabel('voltage (mV)', fontsize = 15)\n",
    "plt.title('Raw voltage trace', fontsize = 25)\n",
    "plt.savefig('Example3.png')"
   ]
  },
  {
   "cell_type": "code",
   "execution_count": 107,
   "metadata": {},
   "outputs": [
    {
     "data": {
      "image/png": "[encoded data removed]",
      "text/plain": [
       "<matplotlib.figure.Figure at 0x7fbc15099da0>"
      ]
     },
     "metadata": {},
     "output_type": "display_data"
    }
   ],
   "source": [
    "plt.plot(time, voltage)\n",
    "plt.xlabel('Time (s)', fontsize = 15)\n",
    "plt.ylabel('voltage (mV)', fontsize = 15)\n",
    "plt.title('Raw voltage trace', fontsize = 25)\n",
    "plt.savefig('Example4.png')"
   ]
  },
  {
   "cell_type": "code",
   "execution_count": 210,
   "metadata": {},
   "outputs": [],
   "source": [
    "dvdt = ft.calculate_dvdt(voltage[:, 16], time)"
   ]
  },
  {
   "cell_type": "code",
   "execution_count": 211,
   "metadata": {},
   "outputs": [
    {
     "data": {
      "text/plain": [
       "[<matplotlib.lines.Line2D at 0x7f9c62b6d550>]"
      ]
     },
     "execution_count": 211,
     "metadata": {},
     "output_type": "execute_result"
    },
    {
     "data": {
      "image/png": "[encoded data removed]",
      "text/plain": [
       "<matplotlib.figure.Figure at 0x7f9c628cac88>"
      ]
     },
     "metadata": {},
     "output_type": "display_data"
    }
   ],
   "source": [
    "plt.plot(dvdt)"
   ]
  },
  {
   "cell_type": "code",
   "execution_count": 70,
   "metadata": {},
   "outputs": [
    {
     "name": "stdout",
     "output_type": "stream",
     "text": [
      "time:  [0.0000e+00 4.0000e-05 8.0000e-05 ... 8.9988e-01 8.9992e-01 8.9996e-01]\n",
      "\n",
      "\n",
      "current:  [-200 -180 -160 -140 -120 -100  -80  -60  -40  -20    0   20   40   60\n",
      "   80  100  120  140  160  180  200  220  240  260  280  300  320  340\n",
      "  360  380  400  420  440  460  480  500  520  540  560  580]\n",
      "\n",
      "\n",
      "voltage:  [[-63.26682866 -61.4560023  -60.96274033 ... -68.39887053 -68.37533414\n",
      "  -68.57176125]\n",
      " [-63.28312308 -61.46592274 -60.94012037 ... -68.37874651 -68.39634478\n",
      "  -68.57612729]\n",
      " [-63.30004334 -61.47384271 -60.91597304 ... -68.35854799 -68.41933727\n",
      "  -68.58035922]\n",
      " ...\n",
      " [-58.7365441  -58.89197811 -58.74111876 ... -68.07727367 -68.23767722\n",
      "  -68.32093745]\n",
      " [-58.73662233 -58.89251828 -58.72721598 ... -68.07102263 -68.25365871\n",
      "  -68.33034754]\n",
      " [-58.7377362  -58.89437348 -58.71508271 ... -68.0674836  -68.26816499\n",
      "  -68.3369413 ]]\n",
      "\n",
      "\n",
      "curr_index_0  10\n"
     ]
    }
   ],
   "source": [
    "time_asc, current_asc, voltage_asc, curr_index_0_asc = data_preparation_asc('../M1/L5/01 02 2018/01 02 2018 sample 1.asc', \\\n",
    "                                                            '../M1/L5/01 02 2018/sample1splitfiles/')\n",
    "print('time: ', time_asc)\n",
    "print('\\n\\ncurrent: ', current_asc)\n",
    "print('\\n\\nvoltage: ', voltage_asc)\n",
    "print('\\n\\ncurr_index_0 ', curr_index_0_asc)"
   ]
  },
  {
   "cell_type": "markdown",
   "metadata": {},
   "source": [
    "# Analysing spikes"
   ]
  },
  {
   "cell_type": "code",
   "execution_count": 24,
   "metadata": {},
   "outputs": [],
   "source": [
    "def extract_spike_features(time, current, voltage, start = 0.1, end = 0.7, fil = 10):\n",
    "    \"\"\" Analyse the voltage traces and extract information for every spike (returned in df), and information for all the spikes\n",
    "    per current stimulus magnitude.\n",
    "\n",
    "    Parameters\n",
    "    ----------\n",
    "    time : numpy 1D array of the time (s)\n",
    "    current : numpy 1D array of all possible current stimulation magnitudes (pA)\n",
    "    voltage : numpy ND array of all voltage traces (mV) corresponding to current stimulation magnitudes\n",
    "    start : start of the stimulation (s) in the voltage trace (optional, default 0.1)\n",
    "    end : end of the stimulation (s) in the voltage trace (optional, default 0.7)\n",
    "    fil : cutoff frequency for 4-pole low-pass Bessel filter in kHz (optional, default 10)\n",
    "    \n",
    "    Returns\n",
    "    -------\n",
    "    df : DataFrame with information for every detected spike (peak_v, peak_index, threshold_v, ...)\n",
    "    df_related_features : DataFrame with information for every possible used current stimulation magnitude\n",
    "    \"\"\"\n",
    "    \n",
    "    df = pd.DataFrame()\n",
    "    df_related_features = pd.DataFrame()\n",
    "    for c, curr in enumerate(current):\n",
    "        current_array = curr*np.ones_like(time)\n",
    "        start_index = (np.abs(time - start)).argmin() # Find closest index where the injection current starts\n",
    "        end_index = (np.abs(time - end)).argmin() # Find closest index where the injection current ends\n",
    "        current_array[:start_index] = 0\n",
    "        current_array[end_index:len(current_array)] = 0\n",
    "        EphysObject = efex.EphysSweepFeatureExtractor(t = time, v = voltage[:, c], i = current_array, start = start, \\\n",
    "                                                      end = end, filter = fil)\n",
    "        EphysObject.process_spikes()\n",
    "        #if EphysObject._spikes_df.size:\n",
    "        #    #Random threshold 15 for now but:\n",
    "        #    if np.abs(EphysObject._get_baseline_voltage() - np.mean(EphysObject._spikes_df['threshold_v'].values)) < 15:\n",
    "        #        print('Too steep depolarisation here.')\n",
    "        #        EphysObject = efex.EphysSweepFeatureExtractor(t = time, v = voltage[:, c], i = current_array, start = 0.1005, \\\n",
    "        #                                                     end = end, filter = fil)\n",
    "        \n",
    "        # Adding peak_height (mV) + code for maximum frequency determination (see further)\n",
    "        spike_count = 0\n",
    "        if EphysObject._spikes_df.size:\n",
    "            EphysObject._spikes_df['peak_height'] = EphysObject._spikes_df['peak_v'].values - \\\n",
    "                                                   EphysObject._spikes_df['threshold_v'].values\n",
    "            spike_count = EphysObject._spikes_df['threshold_i'].values.size\n",
    "        df = pd.concat([df, EphysObject._spikes_df])\n",
    "\n",
    "        # Some easily found extra features\n",
    "        df_features = EphysObject._sweep_features\n",
    "\n",
    "        # Adding spike count\n",
    "        df_features.update({'spike_count': spike_count})\n",
    "        \n",
    "        # Adding current (pA)\n",
    "        df_features.update({'current': curr})\n",
    "\n",
    "        # Adding membrane voltage (mV)\n",
    "        df_features.update({'resting_membrane_potential': EphysObject._get_baseline_voltage()})\n",
    "\n",
    "        # Adding voltage deflection (mV)\n",
    "        voltage_deflection_v, voltage_deflection_i = EphysObject.voltage_deflection()\n",
    "        df_features.update({'voltage_deflection': voltage_deflection_v})\n",
    "        \n",
    "        # Adding input resistance (MOhm)\n",
    "        # How to calculate the input resistance is not clear yet but this could be an option (although in function\n",
    "        # get_cell_features it is being calculated differently)\n",
    "        input_resistance = np.nan\n",
    "        if not ('peak_i' in EphysObject._spikes_df.keys()) and not curr==0: # We only calculate input resistances \n",
    "                                                                            # from traces without peaks\n",
    "            input_resistance = (np.abs(voltage_deflection_v - EphysObject._get_baseline_voltage())*1000)/np.abs(curr)\n",
    "            if input_resistance == np.inf:\n",
    "                input_resistance = np.nan\n",
    "        df_features.update({'input_resistance': input_resistance})\n",
    "\n",
    "        # Adding membrane time constant (s) and voltage plateau level for hyperpolarisation paradigms after stimulus onset\n",
    "        tau = np.nan\n",
    "        E_plat = np.nan\n",
    "        if curr < 0: # We use hyperpolarising steps as required in the object function to estimate the membrane time constant\n",
    "                     # and E_plateau\n",
    "            tau = EphysObject.estimate_time_constant()  # Result in seconds!\n",
    "            E_plat = ft.average_voltage(voltage[:, c], time, start = end - 0.1, end = end)\n",
    "        df_features.update({'tau': tau})\n",
    "        df_features.update({'E_plat': E_plat})\n",
    "\n",
    "\n",
    "        df_related_features = pd.concat([df_related_features, pd.DataFrame([df_features])])\n",
    "    \n",
    "    return df, df_related_features"
   ]
  },
  {
   "cell_type": "code",
   "execution_count": 701,
   "metadata": {},
   "outputs": [
    {
     "name": "stderr",
     "output_type": "stream",
     "text": [
      "/gpfs01/berens/user/ybernaerts/EphysAnalysis/data/ephys/code/ephys_features.py:945: RuntimeWarning: invalid value encountered in sqrt\n",
      "  rsme = np.sqrt(np.mean(pred - v_window))\n"
     ]
    }
   ],
   "source": [
    "df, df_related_features = extract_spike_features(time, current, voltage)"
   ]
  },
  {
   "cell_type": "code",
   "execution_count": 650,
   "metadata": {},
   "outputs": [
    {
     "data": {
      "text/plain": [
       "0"
      ]
     },
     "execution_count": 650,
     "metadata": {},
     "output_type": "execute_result"
    }
   ],
   "source": [
    "np.where(df.loc[0]['fast_trough_i'].values > 0)[0][0]"
   ]
  },
  {
   "cell_type": "code",
   "execution_count": 639,
   "metadata": {},
   "outputs": [
    {
     "data": {
      "text/plain": [
       "-52.43586376309395"
      ]
     },
     "execution_count": 639,
     "metadata": {},
     "output_type": "execute_result"
    }
   ],
   "source": [
    "df.loc[0]['threshold_v'].values[11]"
   ]
  },
  {
   "cell_type": "code",
   "execution_count": 722,
   "metadata": {},
   "outputs": [
    {
     "data": {
      "text/html": [
       "<div>\n",
       "<style scoped>\n",
       "    .dataframe tbody tr th:only-of-type {\n",
       "        vertical-align: middle;\n",
       "    }\n",
       "\n",
       "    .dataframe tbody tr th {\n",
       "        vertical-align: top;\n",
       "    }\n",
       "\n",
       "    .dataframe thead th {\n",
       "        text-align: right;\n",
       "    }\n",
       "</style>\n",
       "<table border=\"1\" class=\"dataframe\">\n",
       "  <thead>\n",
       "    <tr style=\"text-align: right;\">\n",
       "      <th></th>\n",
       "      <th>adp_i</th>\n",
       "      <th>adp_index</th>\n",
       "      <th>adp_t</th>\n",
       "      <th>adp_v</th>\n",
       "      <th>clipped</th>\n",
       "      <th>downstroke</th>\n",
       "      <th>downstroke_index</th>\n",
       "      <th>downstroke_t</th>\n",
       "      <th>downstroke_v</th>\n",
       "      <th>fast_trough_i</th>\n",
       "      <th>...</th>\n",
       "      <th>trough_i</th>\n",
       "      <th>trough_index</th>\n",
       "      <th>trough_t</th>\n",
       "      <th>trough_v</th>\n",
       "      <th>upstroke</th>\n",
       "      <th>upstroke_downstroke_ratio</th>\n",
       "      <th>upstroke_index</th>\n",
       "      <th>upstroke_t</th>\n",
       "      <th>upstroke_v</th>\n",
       "      <th>width</th>\n",
       "    </tr>\n",
       "  </thead>\n",
       "  <tbody>\n",
       "    <tr>\n",
       "      <th>0</th>\n",
       "      <td>NaN</td>\n",
       "      <td>NaN</td>\n",
       "      <td>NaN</td>\n",
       "      <td>NaN</td>\n",
       "      <td>True</td>\n",
       "      <td>NaN</td>\n",
       "      <td>NaN</td>\n",
       "      <td>NaN</td>\n",
       "      <td>NaN</td>\n",
       "      <td>NaN</td>\n",
       "      <td>...</td>\n",
       "      <td>NaN</td>\n",
       "      <td>NaN</td>\n",
       "      <td>NaN</td>\n",
       "      <td>NaN</td>\n",
       "      <td>263.583454</td>\n",
       "      <td>NaN</td>\n",
       "      <td>17477</td>\n",
       "      <td>0.69908</td>\n",
       "      <td>-28.359072</td>\n",
       "      <td>NaN</td>\n",
       "    </tr>\n",
       "    <tr>\n",
       "      <th>0</th>\n",
       "      <td>NaN</td>\n",
       "      <td>NaN</td>\n",
       "      <td>NaN</td>\n",
       "      <td>NaN</td>\n",
       "      <td>True</td>\n",
       "      <td>NaN</td>\n",
       "      <td>NaN</td>\n",
       "      <td>NaN</td>\n",
       "      <td>NaN</td>\n",
       "      <td>NaN</td>\n",
       "      <td>...</td>\n",
       "      <td>NaN</td>\n",
       "      <td>NaN</td>\n",
       "      <td>NaN</td>\n",
       "      <td>NaN</td>\n",
       "      <td>263.226192</td>\n",
       "      <td>NaN</td>\n",
       "      <td>17235</td>\n",
       "      <td>0.68940</td>\n",
       "      <td>-34.985624</td>\n",
       "      <td>NaN</td>\n",
       "    </tr>\n",
       "    <tr>\n",
       "      <th>0</th>\n",
       "      <td>NaN</td>\n",
       "      <td>NaN</td>\n",
       "      <td>NaN</td>\n",
       "      <td>NaN</td>\n",
       "      <td>False</td>\n",
       "      <td>-157.439369</td>\n",
       "      <td>14330.0</td>\n",
       "      <td>0.57320</td>\n",
       "      <td>-5.580338</td>\n",
       "      <td>-240.0</td>\n",
       "      <td>...</td>\n",
       "      <td>-240.0</td>\n",
       "      <td>15513.0</td>\n",
       "      <td>0.62052</td>\n",
       "      <td>-83.952345</td>\n",
       "      <td>262.618771</td>\n",
       "      <td>1.668063</td>\n",
       "      <td>14318</td>\n",
       "      <td>0.57272</td>\n",
       "      <td>-26.816214</td>\n",
       "      <td>0.00072</td>\n",
       "    </tr>\n",
       "    <tr>\n",
       "      <th>1</th>\n",
       "      <td>NaN</td>\n",
       "      <td>NaN</td>\n",
       "      <td>NaN</td>\n",
       "      <td>NaN</td>\n",
       "      <td>False</td>\n",
       "      <td>-156.118780</td>\n",
       "      <td>17088.0</td>\n",
       "      <td>0.68352</td>\n",
       "      <td>-9.218973</td>\n",
       "      <td>-240.0</td>\n",
       "      <td>...</td>\n",
       "      <td>-240.0</td>\n",
       "      <td>17474.0</td>\n",
       "      <td>0.69896</td>\n",
       "      <td>-80.710299</td>\n",
       "      <td>264.016372</td>\n",
       "      <td>1.691125</td>\n",
       "      <td>17075</td>\n",
       "      <td>0.68300</td>\n",
       "      <td>-31.600405</td>\n",
       "      <td>0.00072</td>\n",
       "    </tr>\n",
       "    <tr>\n",
       "      <th>0</th>\n",
       "      <td>NaN</td>\n",
       "      <td>NaN</td>\n",
       "      <td>NaN</td>\n",
       "      <td>NaN</td>\n",
       "      <td>False</td>\n",
       "      <td>-159.525986</td>\n",
       "      <td>9811.0</td>\n",
       "      <td>0.39244</td>\n",
       "      <td>-5.738968</td>\n",
       "      <td>-200.0</td>\n",
       "      <td>...</td>\n",
       "      <td>-200.0</td>\n",
       "      <td>11359.0</td>\n",
       "      <td>0.45436</td>\n",
       "      <td>-80.606967</td>\n",
       "      <td>260.194903</td>\n",
       "      <td>1.631050</td>\n",
       "      <td>9799</td>\n",
       "      <td>0.39196</td>\n",
       "      <td>-25.246294</td>\n",
       "      <td>0.00068</td>\n",
       "    </tr>\n",
       "    <tr>\n",
       "      <th>1</th>\n",
       "      <td>NaN</td>\n",
       "      <td>NaN</td>\n",
       "      <td>NaN</td>\n",
       "      <td>NaN</td>\n",
       "      <td>False</td>\n",
       "      <td>-158.273671</td>\n",
       "      <td>14634.0</td>\n",
       "      <td>0.58536</td>\n",
       "      <td>-8.184350</td>\n",
       "      <td>-200.0</td>\n",
       "      <td>...</td>\n",
       "      <td>-200.0</td>\n",
       "      <td>17130.0</td>\n",
       "      <td>0.68520</td>\n",
       "      <td>-80.081478</td>\n",
       "      <td>260.613006</td>\n",
       "      <td>1.646597</td>\n",
       "      <td>14621</td>\n",
       "      <td>0.58484</td>\n",
       "      <td>-31.824388</td>\n",
       "      <td>0.00068</td>\n",
       "    </tr>\n",
       "    <tr>\n",
       "      <th>0</th>\n",
       "      <td>NaN</td>\n",
       "      <td>NaN</td>\n",
       "      <td>NaN</td>\n",
       "      <td>NaN</td>\n",
       "      <td>False</td>\n",
       "      <td>-164.444066</td>\n",
       "      <td>4628.0</td>\n",
       "      <td>0.18512</td>\n",
       "      <td>-3.918205</td>\n",
       "      <td>-160.0</td>\n",
       "      <td>...</td>\n",
       "      <td>-160.0</td>\n",
       "      <td>6384.0</td>\n",
       "      <td>0.25536</td>\n",
       "      <td>-77.656634</td>\n",
       "      <td>265.365510</td>\n",
       "      <td>1.613713</td>\n",
       "      <td>4616</td>\n",
       "      <td>0.18464</td>\n",
       "      <td>-26.480816</td>\n",
       "      <td>0.00068</td>\n",
       "    </tr>\n",
       "    <tr>\n",
       "      <th>1</th>\n",
       "      <td>NaN</td>\n",
       "      <td>NaN</td>\n",
       "      <td>NaN</td>\n",
       "      <td>NaN</td>\n",
       "      <td>False</td>\n",
       "      <td>-164.014221</td>\n",
       "      <td>6638.0</td>\n",
       "      <td>0.26552</td>\n",
       "      <td>-7.013537</td>\n",
       "      <td>-160.0</td>\n",
       "      <td>...</td>\n",
       "      <td>-160.0</td>\n",
       "      <td>8011.0</td>\n",
       "      <td>0.32044</td>\n",
       "      <td>-77.151097</td>\n",
       "      <td>263.642762</td>\n",
       "      <td>1.607438</td>\n",
       "      <td>6625</td>\n",
       "      <td>0.26500</td>\n",
       "      <td>-30.783214</td>\n",
       "      <td>0.00068</td>\n",
       "    </tr>\n",
       "    <tr>\n",
       "      <th>2</th>\n",
       "      <td>NaN</td>\n",
       "      <td>NaN</td>\n",
       "      <td>NaN</td>\n",
       "      <td>NaN</td>\n",
       "      <td>False</td>\n",
       "      <td>-164.302351</td>\n",
       "      <td>14754.0</td>\n",
       "      <td>0.59016</td>\n",
       "      <td>-2.549173</td>\n",
       "      <td>-160.0</td>\n",
       "      <td>...</td>\n",
       "      <td>-160.0</td>\n",
       "      <td>16352.0</td>\n",
       "      <td>0.65408</td>\n",
       "      <td>-76.093003</td>\n",
       "      <td>263.927963</td>\n",
       "      <td>1.606355</td>\n",
       "      <td>14742</td>\n",
       "      <td>0.58968</td>\n",
       "      <td>-28.425412</td>\n",
       "      <td>0.00064</td>\n",
       "    </tr>\n",
       "    <tr>\n",
       "      <th>0</th>\n",
       "      <td>NaN</td>\n",
       "      <td>NaN</td>\n",
       "      <td>NaN</td>\n",
       "      <td>NaN</td>\n",
       "      <td>False</td>\n",
       "      <td>-169.037783</td>\n",
       "      <td>13861.0</td>\n",
       "      <td>0.55444</td>\n",
       "      <td>-6.987336</td>\n",
       "      <td>-140.0</td>\n",
       "      <td>...</td>\n",
       "      <td>-140.0</td>\n",
       "      <td>15331.0</td>\n",
       "      <td>0.61324</td>\n",
       "      <td>-74.105062</td>\n",
       "      <td>262.787879</td>\n",
       "      <td>1.554610</td>\n",
       "      <td>13848</td>\n",
       "      <td>0.55392</td>\n",
       "      <td>-30.395150</td>\n",
       "      <td>0.00064</td>\n",
       "    </tr>\n",
       "    <tr>\n",
       "      <th>0</th>\n",
       "      <td>-80.0</td>\n",
       "      <td>8786.0</td>\n",
       "      <td>0.35144</td>\n",
       "      <td>-59.286647</td>\n",
       "      <td>False</td>\n",
       "      <td>-170.058592</td>\n",
       "      <td>8727.0</td>\n",
       "      <td>0.34908</td>\n",
       "      <td>-5.076213</td>\n",
       "      <td>-80.0</td>\n",
       "      <td>...</td>\n",
       "      <td>-80.0</td>\n",
       "      <td>10242.0</td>\n",
       "      <td>0.40968</td>\n",
       "      <td>-67.939825</td>\n",
       "      <td>256.305938</td>\n",
       "      <td>1.507163</td>\n",
       "      <td>8715</td>\n",
       "      <td>0.34860</td>\n",
       "      <td>-20.810500</td>\n",
       "      <td>0.00064</td>\n",
       "    </tr>\n",
       "    <tr>\n",
       "      <th>1</th>\n",
       "      <td>NaN</td>\n",
       "      <td>NaN</td>\n",
       "      <td>NaN</td>\n",
       "      <td>NaN</td>\n",
       "      <td>False</td>\n",
       "      <td>-170.249204</td>\n",
       "      <td>11518.0</td>\n",
       "      <td>0.46072</td>\n",
       "      <td>0.042464</td>\n",
       "      <td>-80.0</td>\n",
       "      <td>...</td>\n",
       "      <td>-80.0</td>\n",
       "      <td>12831.0</td>\n",
       "      <td>0.51324</td>\n",
       "      <td>-67.748837</td>\n",
       "      <td>256.383535</td>\n",
       "      <td>1.505931</td>\n",
       "      <td>11507</td>\n",
       "      <td>0.46028</td>\n",
       "      <td>-19.023092</td>\n",
       "      <td>0.00064</td>\n",
       "    </tr>\n",
       "    <tr>\n",
       "      <th>0</th>\n",
       "      <td>-60.0</td>\n",
       "      <td>7239.0</td>\n",
       "      <td>0.28956</td>\n",
       "      <td>-58.423113</td>\n",
       "      <td>False</td>\n",
       "      <td>-172.725469</td>\n",
       "      <td>7179.0</td>\n",
       "      <td>0.28716</td>\n",
       "      <td>0.267314</td>\n",
       "      <td>-60.0</td>\n",
       "      <td>...</td>\n",
       "      <td>-60.0</td>\n",
       "      <td>9146.0</td>\n",
       "      <td>0.36584</td>\n",
       "      <td>-65.755442</td>\n",
       "      <td>255.147927</td>\n",
       "      <td>1.477188</td>\n",
       "      <td>7168</td>\n",
       "      <td>0.28672</td>\n",
       "      <td>-17.397441</td>\n",
       "      <td>0.00064</td>\n",
       "    </tr>\n",
       "    <tr>\n",
       "      <th>1</th>\n",
       "      <td>NaN</td>\n",
       "      <td>NaN</td>\n",
       "      <td>NaN</td>\n",
       "      <td>NaN</td>\n",
       "      <td>False</td>\n",
       "      <td>-173.653598</td>\n",
       "      <td>11712.0</td>\n",
       "      <td>0.46848</td>\n",
       "      <td>0.034899</td>\n",
       "      <td>-60.0</td>\n",
       "      <td>...</td>\n",
       "      <td>-60.0</td>\n",
       "      <td>13227.0</td>\n",
       "      <td>0.52908</td>\n",
       "      <td>-65.602407</td>\n",
       "      <td>254.858233</td>\n",
       "      <td>1.467624</td>\n",
       "      <td>11701</td>\n",
       "      <td>0.46804</td>\n",
       "      <td>-16.938774</td>\n",
       "      <td>0.00064</td>\n",
       "    </tr>\n",
       "    <tr>\n",
       "      <th>0</th>\n",
       "      <td>NaN</td>\n",
       "      <td>NaN</td>\n",
       "      <td>NaN</td>\n",
       "      <td>NaN</td>\n",
       "      <td>False</td>\n",
       "      <td>-176.199511</td>\n",
       "      <td>7935.0</td>\n",
       "      <td>0.31740</td>\n",
       "      <td>-3.620361</td>\n",
       "      <td>-40.0</td>\n",
       "      <td>...</td>\n",
       "      <td>-40.0</td>\n",
       "      <td>8922.0</td>\n",
       "      <td>0.35688</td>\n",
       "      <td>-63.421115</td>\n",
       "      <td>255.061492</td>\n",
       "      <td>1.447572</td>\n",
       "      <td>7923</td>\n",
       "      <td>0.31692</td>\n",
       "      <td>-19.889943</td>\n",
       "      <td>0.00060</td>\n",
       "    </tr>\n",
       "    <tr>\n",
       "      <th>0</th>\n",
       "      <td>-20.0</td>\n",
       "      <td>9334.0</td>\n",
       "      <td>0.37336</td>\n",
       "      <td>-55.940058</td>\n",
       "      <td>False</td>\n",
       "      <td>-176.420864</td>\n",
       "      <td>9266.0</td>\n",
       "      <td>0.37064</td>\n",
       "      <td>-1.372941</td>\n",
       "      <td>-20.0</td>\n",
       "      <td>...</td>\n",
       "      <td>-20.0</td>\n",
       "      <td>10363.0</td>\n",
       "      <td>0.41452</td>\n",
       "      <td>-60.558144</td>\n",
       "      <td>248.784592</td>\n",
       "      <td>1.410177</td>\n",
       "      <td>9254</td>\n",
       "      <td>0.37016</td>\n",
       "      <td>-22.606939</td>\n",
       "      <td>0.00060</td>\n",
       "    </tr>\n",
       "    <tr>\n",
       "      <th>1</th>\n",
       "      <td>NaN</td>\n",
       "      <td>NaN</td>\n",
       "      <td>NaN</td>\n",
       "      <td>NaN</td>\n",
       "      <td>False</td>\n",
       "      <td>-176.833775</td>\n",
       "      <td>10411.0</td>\n",
       "      <td>0.41644</td>\n",
       "      <td>-1.970025</td>\n",
       "      <td>-20.0</td>\n",
       "      <td>...</td>\n",
       "      <td>-20.0</td>\n",
       "      <td>13401.0</td>\n",
       "      <td>0.53604</td>\n",
       "      <td>-60.904689</td>\n",
       "      <td>249.919106</td>\n",
       "      <td>1.413300</td>\n",
       "      <td>10399</td>\n",
       "      <td>0.41596</td>\n",
       "      <td>-21.244166</td>\n",
       "      <td>0.00060</td>\n",
       "    </tr>\n",
       "    <tr>\n",
       "      <th>0</th>\n",
       "      <td>0.0</td>\n",
       "      <td>6055.0</td>\n",
       "      <td>0.24220</td>\n",
       "      <td>-55.134401</td>\n",
       "      <td>False</td>\n",
       "      <td>-178.465093</td>\n",
       "      <td>5979.0</td>\n",
       "      <td>0.23916</td>\n",
       "      <td>-2.289169</td>\n",
       "      <td>0.0</td>\n",
       "      <td>...</td>\n",
       "      <td>0.0</td>\n",
       "      <td>8993.0</td>\n",
       "      <td>0.35972</td>\n",
       "      <td>-58.044374</td>\n",
       "      <td>245.773969</td>\n",
       "      <td>1.377154</td>\n",
       "      <td>5967</td>\n",
       "      <td>0.23868</td>\n",
       "      <td>-18.720681</td>\n",
       "      <td>0.00056</td>\n",
       "    </tr>\n",
       "    <tr>\n",
       "      <th>1</th>\n",
       "      <td>0.0</td>\n",
       "      <td>9314.0</td>\n",
       "      <td>0.37256</td>\n",
       "      <td>-55.125859</td>\n",
       "      <td>False</td>\n",
       "      <td>-177.756800</td>\n",
       "      <td>9239.0</td>\n",
       "      <td>0.36956</td>\n",
       "      <td>-1.524672</td>\n",
       "      <td>0.0</td>\n",
       "      <td>...</td>\n",
       "      <td>0.0</td>\n",
       "      <td>10129.0</td>\n",
       "      <td>0.40516</td>\n",
       "      <td>-58.216535</td>\n",
       "      <td>245.496910</td>\n",
       "      <td>1.381083</td>\n",
       "      <td>9227</td>\n",
       "      <td>0.36908</td>\n",
       "      <td>-19.938320</td>\n",
       "      <td>0.00060</td>\n",
       "    </tr>\n",
       "    <tr>\n",
       "      <th>2</th>\n",
       "      <td>NaN</td>\n",
       "      <td>NaN</td>\n",
       "      <td>NaN</td>\n",
       "      <td>NaN</td>\n",
       "      <td>False</td>\n",
       "      <td>-179.047418</td>\n",
       "      <td>10362.0</td>\n",
       "      <td>0.41448</td>\n",
       "      <td>0.617133</td>\n",
       "      <td>0.0</td>\n",
       "      <td>...</td>\n",
       "      <td>0.0</td>\n",
       "      <td>13168.0</td>\n",
       "      <td>0.52672</td>\n",
       "      <td>-58.331136</td>\n",
       "      <td>247.697005</td>\n",
       "      <td>1.383416</td>\n",
       "      <td>10351</td>\n",
       "      <td>0.41404</td>\n",
       "      <td>-12.954258</td>\n",
       "      <td>0.00060</td>\n",
       "    </tr>\n",
       "    <tr>\n",
       "      <th>0</th>\n",
       "      <td>20.0</td>\n",
       "      <td>4421.0</td>\n",
       "      <td>0.17684</td>\n",
       "      <td>-53.678498</td>\n",
       "      <td>False</td>\n",
       "      <td>-179.621134</td>\n",
       "      <td>4342.0</td>\n",
       "      <td>0.17368</td>\n",
       "      <td>0.657876</td>\n",
       "      <td>20.0</td>\n",
       "      <td>...</td>\n",
       "      <td>20.0</td>\n",
       "      <td>4364.0</td>\n",
       "      <td>0.17456</td>\n",
       "      <td>-57.507694</td>\n",
       "      <td>241.067123</td>\n",
       "      <td>1.342087</td>\n",
       "      <td>4331</td>\n",
       "      <td>0.17324</td>\n",
       "      <td>-11.952267</td>\n",
       "      <td>0.00060</td>\n",
       "    </tr>\n",
       "    <tr>\n",
       "      <th>1</th>\n",
       "      <td>20.0</td>\n",
       "      <td>5735.0</td>\n",
       "      <td>0.22940</td>\n",
       "      <td>-53.766739</td>\n",
       "      <td>False</td>\n",
       "      <td>-178.157052</td>\n",
       "      <td>5658.0</td>\n",
       "      <td>0.22632</td>\n",
       "      <td>-2.229033</td>\n",
       "      <td>20.0</td>\n",
       "      <td>...</td>\n",
       "      <td>20.0</td>\n",
       "      <td>5678.0</td>\n",
       "      <td>0.22712</td>\n",
       "      <td>-57.359498</td>\n",
       "      <td>239.943931</td>\n",
       "      <td>1.346811</td>\n",
       "      <td>5646</td>\n",
       "      <td>0.22584</td>\n",
       "      <td>-17.957959</td>\n",
       "      <td>0.00056</td>\n",
       "    </tr>\n",
       "    <tr>\n",
       "      <th>2</th>\n",
       "      <td>NaN</td>\n",
       "      <td>NaN</td>\n",
       "      <td>NaN</td>\n",
       "      <td>NaN</td>\n",
       "      <td>False</td>\n",
       "      <td>-180.613788</td>\n",
       "      <td>10329.0</td>\n",
       "      <td>0.41316</td>\n",
       "      <td>0.883140</td>\n",
       "      <td>20.0</td>\n",
       "      <td>...</td>\n",
       "      <td>20.0</td>\n",
       "      <td>10351.0</td>\n",
       "      <td>0.41404</td>\n",
       "      <td>-57.696626</td>\n",
       "      <td>242.457190</td>\n",
       "      <td>1.342407</td>\n",
       "      <td>10318</td>\n",
       "      <td>0.41272</td>\n",
       "      <td>-12.790586</td>\n",
       "      <td>0.00060</td>\n",
       "    </tr>\n",
       "    <tr>\n",
       "      <th>0</th>\n",
       "      <td>NaN</td>\n",
       "      <td>NaN</td>\n",
       "      <td>NaN</td>\n",
       "      <td>NaN</td>\n",
       "      <td>False</td>\n",
       "      <td>-177.713382</td>\n",
       "      <td>3095.0</td>\n",
       "      <td>0.12380</td>\n",
       "      <td>3.185534</td>\n",
       "      <td>40.0</td>\n",
       "      <td>...</td>\n",
       "      <td>40.0</td>\n",
       "      <td>3118.0</td>\n",
       "      <td>0.12472</td>\n",
       "      <td>-56.671988</td>\n",
       "      <td>234.423517</td>\n",
       "      <td>1.319110</td>\n",
       "      <td>3084</td>\n",
       "      <td>0.12336</td>\n",
       "      <td>-14.425745</td>\n",
       "      <td>0.00056</td>\n",
       "    </tr>\n",
       "    <tr>\n",
       "      <th>1</th>\n",
       "      <td>40.0</td>\n",
       "      <td>9039.0</td>\n",
       "      <td>0.36156</td>\n",
       "      <td>-52.614376</td>\n",
       "      <td>False</td>\n",
       "      <td>-175.648024</td>\n",
       "      <td>8951.0</td>\n",
       "      <td>0.35804</td>\n",
       "      <td>2.810315</td>\n",
       "      <td>40.0</td>\n",
       "      <td>...</td>\n",
       "      <td>40.0</td>\n",
       "      <td>8973.0</td>\n",
       "      <td>0.35892</td>\n",
       "      <td>-56.721546</td>\n",
       "      <td>233.098599</td>\n",
       "      <td>1.327078</td>\n",
       "      <td>8940</td>\n",
       "      <td>0.35760</td>\n",
       "      <td>-14.385585</td>\n",
       "      <td>0.00056</td>\n",
       "    </tr>\n",
       "    <tr>\n",
       "      <th>2</th>\n",
       "      <td>40.0</td>\n",
       "      <td>10512.0</td>\n",
       "      <td>0.42048</td>\n",
       "      <td>-52.695461</td>\n",
       "      <td>False</td>\n",
       "      <td>-175.132241</td>\n",
       "      <td>10428.0</td>\n",
       "      <td>0.41712</td>\n",
       "      <td>-2.332469</td>\n",
       "      <td>40.0</td>\n",
       "      <td>...</td>\n",
       "      <td>40.0</td>\n",
       "      <td>10449.0</td>\n",
       "      <td>0.41796</td>\n",
       "      <td>-56.563467</td>\n",
       "      <td>231.796367</td>\n",
       "      <td>1.323551</td>\n",
       "      <td>10416</td>\n",
       "      <td>0.41664</td>\n",
       "      <td>-17.290853</td>\n",
       "      <td>0.00056</td>\n",
       "    </tr>\n",
       "    <tr>\n",
       "      <th>3</th>\n",
       "      <td>NaN</td>\n",
       "      <td>NaN</td>\n",
       "      <td>NaN</td>\n",
       "      <td>NaN</td>\n",
       "      <td>False</td>\n",
       "      <td>-176.320559</td>\n",
       "      <td>15183.0</td>\n",
       "      <td>0.60732</td>\n",
       "      <td>2.497061</td>\n",
       "      <td>40.0</td>\n",
       "      <td>...</td>\n",
       "      <td>40.0</td>\n",
       "      <td>15204.0</td>\n",
       "      <td>0.60816</td>\n",
       "      <td>-56.825366</td>\n",
       "      <td>234.174121</td>\n",
       "      <td>1.328116</td>\n",
       "      <td>15172</td>\n",
       "      <td>0.60688</td>\n",
       "      <td>-14.259304</td>\n",
       "      <td>0.00056</td>\n",
       "    </tr>\n",
       "    <tr>\n",
       "      <th>0</th>\n",
       "      <td>NaN</td>\n",
       "      <td>NaN</td>\n",
       "      <td>NaN</td>\n",
       "      <td>NaN</td>\n",
       "      <td>False</td>\n",
       "      <td>-178.828901</td>\n",
       "      <td>3314.0</td>\n",
       "      <td>0.13256</td>\n",
       "      <td>0.768510</td>\n",
       "      <td>60.0</td>\n",
       "      <td>...</td>\n",
       "      <td>60.0</td>\n",
       "      <td>3336.0</td>\n",
       "      <td>0.13344</td>\n",
       "      <td>-55.591807</td>\n",
       "      <td>215.703365</td>\n",
       "      <td>1.206200</td>\n",
       "      <td>3303</td>\n",
       "      <td>0.13212</td>\n",
       "      <td>-6.527516</td>\n",
       "      <td>0.00056</td>\n",
       "    </tr>\n",
       "    <tr>\n",
       "      <th>1</th>\n",
       "      <td>NaN</td>\n",
       "      <td>NaN</td>\n",
       "      <td>NaN</td>\n",
       "      <td>NaN</td>\n",
       "      <td>False</td>\n",
       "      <td>-178.316765</td>\n",
       "      <td>7502.0</td>\n",
       "      <td>0.30008</td>\n",
       "      <td>-0.415858</td>\n",
       "      <td>60.0</td>\n",
       "      <td>...</td>\n",
       "      <td>60.0</td>\n",
       "      <td>7524.0</td>\n",
       "      <td>0.30096</td>\n",
       "      <td>-55.949491</td>\n",
       "      <td>224.205501</td>\n",
       "      <td>1.257344</td>\n",
       "      <td>7491</td>\n",
       "      <td>0.29964</td>\n",
       "      <td>-5.729745</td>\n",
       "      <td>0.00056</td>\n",
       "    </tr>\n",
       "    <tr>\n",
       "      <th>2</th>\n",
       "      <td>NaN</td>\n",
       "      <td>NaN</td>\n",
       "      <td>NaN</td>\n",
       "      <td>NaN</td>\n",
       "      <td>False</td>\n",
       "      <td>-179.384612</td>\n",
       "      <td>7913.0</td>\n",
       "      <td>0.31652</td>\n",
       "      <td>2.386738</td>\n",
       "      <td>60.0</td>\n",
       "      <td>...</td>\n",
       "      <td>60.0</td>\n",
       "      <td>7934.0</td>\n",
       "      <td>0.31736</td>\n",
       "      <td>-56.187794</td>\n",
       "      <td>231.414750</td>\n",
       "      <td>1.290048</td>\n",
       "      <td>7902</td>\n",
       "      <td>0.31608</td>\n",
       "      <td>-10.891213</td>\n",
       "      <td>0.00052</td>\n",
       "    </tr>\n",
       "    <tr>\n",
       "      <th>...</th>\n",
       "      <td>...</td>\n",
       "      <td>...</td>\n",
       "      <td>...</td>\n",
       "      <td>...</td>\n",
       "      <td>...</td>\n",
       "      <td>...</td>\n",
       "      <td>...</td>\n",
       "      <td>...</td>\n",
       "      <td>...</td>\n",
       "      <td>...</td>\n",
       "      <td>...</td>\n",
       "      <td>...</td>\n",
       "      <td>...</td>\n",
       "      <td>...</td>\n",
       "      <td>...</td>\n",
       "      <td>...</td>\n",
       "      <td>...</td>\n",
       "      <td>...</td>\n",
       "      <td>...</td>\n",
       "      <td>...</td>\n",
       "      <td>...</td>\n",
       "    </tr>\n",
       "    <tr>\n",
       "      <th>23</th>\n",
       "      <td>NaN</td>\n",
       "      <td>NaN</td>\n",
       "      <td>NaN</td>\n",
       "      <td>NaN</td>\n",
       "      <td>False</td>\n",
       "      <td>-27.987532</td>\n",
       "      <td>4827.0</td>\n",
       "      <td>0.19308</td>\n",
       "      <td>5.249376</td>\n",
       "      <td>1240.0</td>\n",
       "      <td>...</td>\n",
       "      <td>1240.0</td>\n",
       "      <td>4852.0</td>\n",
       "      <td>0.19408</td>\n",
       "      <td>-8.928437</td>\n",
       "      <td>22.778615</td>\n",
       "      <td>0.813884</td>\n",
       "      <td>4801</td>\n",
       "      <td>0.19204</td>\n",
       "      <td>8.768586</td>\n",
       "      <td>0.00108</td>\n",
       "    </tr>\n",
       "    <tr>\n",
       "      <th>24</th>\n",
       "      <td>NaN</td>\n",
       "      <td>NaN</td>\n",
       "      <td>NaN</td>\n",
       "      <td>NaN</td>\n",
       "      <td>False</td>\n",
       "      <td>-27.789181</td>\n",
       "      <td>4931.0</td>\n",
       "      <td>0.19724</td>\n",
       "      <td>5.734615</td>\n",
       "      <td>1240.0</td>\n",
       "      <td>...</td>\n",
       "      <td>1240.0</td>\n",
       "      <td>4957.0</td>\n",
       "      <td>0.19828</td>\n",
       "      <td>-9.582692</td>\n",
       "      <td>21.337725</td>\n",
       "      <td>0.767843</td>\n",
       "      <td>4906</td>\n",
       "      <td>0.19624</td>\n",
       "      <td>8.847876</td>\n",
       "      <td>0.00136</td>\n",
       "    </tr>\n",
       "    <tr>\n",
       "      <th>25</th>\n",
       "      <td>NaN</td>\n",
       "      <td>NaN</td>\n",
       "      <td>NaN</td>\n",
       "      <td>NaN</td>\n",
       "      <td>False</td>\n",
       "      <td>-25.502299</td>\n",
       "      <td>5150.0</td>\n",
       "      <td>0.20600</td>\n",
       "      <td>5.281516</td>\n",
       "      <td>1240.0</td>\n",
       "      <td>...</td>\n",
       "      <td>1240.0</td>\n",
       "      <td>5176.0</td>\n",
       "      <td>0.20704</td>\n",
       "      <td>-8.167694</td>\n",
       "      <td>22.585112</td>\n",
       "      <td>0.885611</td>\n",
       "      <td>5012</td>\n",
       "      <td>0.20048</td>\n",
       "      <td>8.512284</td>\n",
       "      <td>0.00136</td>\n",
       "    </tr>\n",
       "    <tr>\n",
       "      <th>26</th>\n",
       "      <td>NaN</td>\n",
       "      <td>NaN</td>\n",
       "      <td>NaN</td>\n",
       "      <td>NaN</td>\n",
       "      <td>True</td>\n",
       "      <td>-85.242852</td>\n",
       "      <td>17498.0</td>\n",
       "      <td>0.69992</td>\n",
       "      <td>-13.377746</td>\n",
       "      <td>NaN</td>\n",
       "      <td>...</td>\n",
       "      <td>1240.0</td>\n",
       "      <td>17499.0</td>\n",
       "      <td>0.69996</td>\n",
       "      <td>-16.797632</td>\n",
       "      <td>21.280786</td>\n",
       "      <td>0.249649</td>\n",
       "      <td>5231</td>\n",
       "      <td>0.20924</td>\n",
       "      <td>8.371004</td>\n",
       "      <td>NaN</td>\n",
       "    </tr>\n",
       "    <tr>\n",
       "      <th>0</th>\n",
       "      <td>NaN</td>\n",
       "      <td>NaN</td>\n",
       "      <td>NaN</td>\n",
       "      <td>NaN</td>\n",
       "      <td>False</td>\n",
       "      <td>-132.359008</td>\n",
       "      <td>2526.0</td>\n",
       "      <td>0.10104</td>\n",
       "      <td>26.767051</td>\n",
       "      <td>1260.0</td>\n",
       "      <td>...</td>\n",
       "      <td>1260.0</td>\n",
       "      <td>2547.0</td>\n",
       "      <td>0.10188</td>\n",
       "      <td>-24.989402</td>\n",
       "      <td>208.569678</td>\n",
       "      <td>1.575788</td>\n",
       "      <td>2514</td>\n",
       "      <td>0.10056</td>\n",
       "      <td>12.357553</td>\n",
       "      <td>0.00068</td>\n",
       "    </tr>\n",
       "    <tr>\n",
       "      <th>1</th>\n",
       "      <td>NaN</td>\n",
       "      <td>NaN</td>\n",
       "      <td>NaN</td>\n",
       "      <td>NaN</td>\n",
       "      <td>False</td>\n",
       "      <td>-88.465178</td>\n",
       "      <td>2606.0</td>\n",
       "      <td>0.10424</td>\n",
       "      <td>18.684078</td>\n",
       "      <td>1260.0</td>\n",
       "      <td>...</td>\n",
       "      <td>1260.0</td>\n",
       "      <td>2628.0</td>\n",
       "      <td>0.10512</td>\n",
       "      <td>-19.948084</td>\n",
       "      <td>122.238468</td>\n",
       "      <td>1.381769</td>\n",
       "      <td>2592</td>\n",
       "      <td>0.10368</td>\n",
       "      <td>15.086317</td>\n",
       "      <td>0.00068</td>\n",
       "    </tr>\n",
       "    <tr>\n",
       "      <th>2</th>\n",
       "      <td>NaN</td>\n",
       "      <td>NaN</td>\n",
       "      <td>NaN</td>\n",
       "      <td>NaN</td>\n",
       "      <td>False</td>\n",
       "      <td>-74.385172</td>\n",
       "      <td>2692.0</td>\n",
       "      <td>0.10768</td>\n",
       "      <td>14.766997</td>\n",
       "      <td>1260.0</td>\n",
       "      <td>...</td>\n",
       "      <td>1260.0</td>\n",
       "      <td>2715.0</td>\n",
       "      <td>0.10860</td>\n",
       "      <td>-17.215861</td>\n",
       "      <td>98.029802</td>\n",
       "      <td>1.317868</td>\n",
       "      <td>2676</td>\n",
       "      <td>0.10704</td>\n",
       "      <td>14.729042</td>\n",
       "      <td>0.00072</td>\n",
       "    </tr>\n",
       "    <tr>\n",
       "      <th>3</th>\n",
       "      <td>NaN</td>\n",
       "      <td>NaN</td>\n",
       "      <td>NaN</td>\n",
       "      <td>NaN</td>\n",
       "      <td>False</td>\n",
       "      <td>-64.025807</td>\n",
       "      <td>2781.0</td>\n",
       "      <td>0.11124</td>\n",
       "      <td>13.967769</td>\n",
       "      <td>1260.0</td>\n",
       "      <td>...</td>\n",
       "      <td>1260.0</td>\n",
       "      <td>2806.0</td>\n",
       "      <td>0.11224</td>\n",
       "      <td>-15.716758</td>\n",
       "      <td>82.695156</td>\n",
       "      <td>1.291591</td>\n",
       "      <td>2764</td>\n",
       "      <td>0.11056</td>\n",
       "      <td>14.495832</td>\n",
       "      <td>0.00076</td>\n",
       "    </tr>\n",
       "    <tr>\n",
       "      <th>4</th>\n",
       "      <td>NaN</td>\n",
       "      <td>NaN</td>\n",
       "      <td>NaN</td>\n",
       "      <td>NaN</td>\n",
       "      <td>False</td>\n",
       "      <td>-59.079117</td>\n",
       "      <td>2873.0</td>\n",
       "      <td>0.11492</td>\n",
       "      <td>13.520657</td>\n",
       "      <td>1260.0</td>\n",
       "      <td>...</td>\n",
       "      <td>1260.0</td>\n",
       "      <td>2899.0</td>\n",
       "      <td>0.11596</td>\n",
       "      <td>-14.335080</td>\n",
       "      <td>72.841316</td>\n",
       "      <td>1.232945</td>\n",
       "      <td>2855</td>\n",
       "      <td>0.11420</td>\n",
       "      <td>13.247647</td>\n",
       "      <td>0.00080</td>\n",
       "    </tr>\n",
       "    <tr>\n",
       "      <th>5</th>\n",
       "      <td>NaN</td>\n",
       "      <td>NaN</td>\n",
       "      <td>NaN</td>\n",
       "      <td>NaN</td>\n",
       "      <td>False</td>\n",
       "      <td>-54.357002</td>\n",
       "      <td>2969.0</td>\n",
       "      <td>0.11876</td>\n",
       "      <td>11.092403</td>\n",
       "      <td>1260.0</td>\n",
       "      <td>...</td>\n",
       "      <td>1260.0</td>\n",
       "      <td>2993.0</td>\n",
       "      <td>0.11972</td>\n",
       "      <td>-13.739938</td>\n",
       "      <td>65.399733</td>\n",
       "      <td>1.203152</td>\n",
       "      <td>2950</td>\n",
       "      <td>0.11800</td>\n",
       "      <td>13.264134</td>\n",
       "      <td>0.00080</td>\n",
       "    </tr>\n",
       "    <tr>\n",
       "      <th>6</th>\n",
       "      <td>NaN</td>\n",
       "      <td>NaN</td>\n",
       "      <td>NaN</td>\n",
       "      <td>NaN</td>\n",
       "      <td>False</td>\n",
       "      <td>-50.209195</td>\n",
       "      <td>3065.0</td>\n",
       "      <td>0.12260</td>\n",
       "      <td>11.581462</td>\n",
       "      <td>1260.0</td>\n",
       "      <td>...</td>\n",
       "      <td>1260.0</td>\n",
       "      <td>3090.0</td>\n",
       "      <td>0.12360</td>\n",
       "      <td>-12.717880</td>\n",
       "      <td>60.432883</td>\n",
       "      <td>1.203622</td>\n",
       "      <td>3045</td>\n",
       "      <td>0.12180</td>\n",
       "      <td>12.172660</td>\n",
       "      <td>0.00080</td>\n",
       "    </tr>\n",
       "    <tr>\n",
       "      <th>7</th>\n",
       "      <td>NaN</td>\n",
       "      <td>NaN</td>\n",
       "      <td>NaN</td>\n",
       "      <td>NaN</td>\n",
       "      <td>False</td>\n",
       "      <td>-48.310694</td>\n",
       "      <td>3163.0</td>\n",
       "      <td>0.12652</td>\n",
       "      <td>10.997520</td>\n",
       "      <td>1260.0</td>\n",
       "      <td>...</td>\n",
       "      <td>1260.0</td>\n",
       "      <td>3188.0</td>\n",
       "      <td>0.12752</td>\n",
       "      <td>-12.539986</td>\n",
       "      <td>54.248471</td>\n",
       "      <td>1.122908</td>\n",
       "      <td>3143</td>\n",
       "      <td>0.12572</td>\n",
       "      <td>11.862893</td>\n",
       "      <td>0.00080</td>\n",
       "    </tr>\n",
       "    <tr>\n",
       "      <th>8</th>\n",
       "      <td>NaN</td>\n",
       "      <td>NaN</td>\n",
       "      <td>NaN</td>\n",
       "      <td>NaN</td>\n",
       "      <td>False</td>\n",
       "      <td>-43.297307</td>\n",
       "      <td>3261.0</td>\n",
       "      <td>0.13044</td>\n",
       "      <td>10.093377</td>\n",
       "      <td>1260.0</td>\n",
       "      <td>...</td>\n",
       "      <td>1260.0</td>\n",
       "      <td>3286.0</td>\n",
       "      <td>0.13144</td>\n",
       "      <td>-11.985351</td>\n",
       "      <td>48.215499</td>\n",
       "      <td>1.113591</td>\n",
       "      <td>3240</td>\n",
       "      <td>0.12960</td>\n",
       "      <td>11.388405</td>\n",
       "      <td>0.00084</td>\n",
       "    </tr>\n",
       "    <tr>\n",
       "      <th>9</th>\n",
       "      <td>NaN</td>\n",
       "      <td>NaN</td>\n",
       "      <td>NaN</td>\n",
       "      <td>NaN</td>\n",
       "      <td>False</td>\n",
       "      <td>-41.910181</td>\n",
       "      <td>3361.0</td>\n",
       "      <td>0.13444</td>\n",
       "      <td>10.496618</td>\n",
       "      <td>1260.0</td>\n",
       "      <td>...</td>\n",
       "      <td>1260.0</td>\n",
       "      <td>3386.0</td>\n",
       "      <td>0.13544</td>\n",
       "      <td>-11.214680</td>\n",
       "      <td>45.852979</td>\n",
       "      <td>1.094077</td>\n",
       "      <td>3341</td>\n",
       "      <td>0.13364</td>\n",
       "      <td>12.033864</td>\n",
       "      <td>0.00084</td>\n",
       "    </tr>\n",
       "    <tr>\n",
       "      <th>10</th>\n",
       "      <td>NaN</td>\n",
       "      <td>NaN</td>\n",
       "      <td>NaN</td>\n",
       "      <td>NaN</td>\n",
       "      <td>False</td>\n",
       "      <td>-41.213814</td>\n",
       "      <td>3459.0</td>\n",
       "      <td>0.13836</td>\n",
       "      <td>10.045744</td>\n",
       "      <td>1260.0</td>\n",
       "      <td>...</td>\n",
       "      <td>1260.0</td>\n",
       "      <td>3486.0</td>\n",
       "      <td>0.13944</td>\n",
       "      <td>-11.775071</td>\n",
       "      <td>45.533131</td>\n",
       "      <td>1.104803</td>\n",
       "      <td>3438</td>\n",
       "      <td>0.13752</td>\n",
       "      <td>11.920763</td>\n",
       "      <td>0.00088</td>\n",
       "    </tr>\n",
       "    <tr>\n",
       "      <th>11</th>\n",
       "      <td>NaN</td>\n",
       "      <td>NaN</td>\n",
       "      <td>NaN</td>\n",
       "      <td>NaN</td>\n",
       "      <td>False</td>\n",
       "      <td>-40.109502</td>\n",
       "      <td>3560.0</td>\n",
       "      <td>0.14240</td>\n",
       "      <td>9.015220</td>\n",
       "      <td>1260.0</td>\n",
       "      <td>...</td>\n",
       "      <td>1260.0</td>\n",
       "      <td>3585.0</td>\n",
       "      <td>0.14340</td>\n",
       "      <td>-10.781206</td>\n",
       "      <td>39.869467</td>\n",
       "      <td>0.994016</td>\n",
       "      <td>3539</td>\n",
       "      <td>0.14156</td>\n",
       "      <td>11.486449</td>\n",
       "      <td>0.00084</td>\n",
       "    </tr>\n",
       "    <tr>\n",
       "      <th>12</th>\n",
       "      <td>NaN</td>\n",
       "      <td>NaN</td>\n",
       "      <td>NaN</td>\n",
       "      <td>NaN</td>\n",
       "      <td>False</td>\n",
       "      <td>-38.242131</td>\n",
       "      <td>3660.0</td>\n",
       "      <td>0.14640</td>\n",
       "      <td>9.668396</td>\n",
       "      <td>1260.0</td>\n",
       "      <td>...</td>\n",
       "      <td>1260.0</td>\n",
       "      <td>3686.0</td>\n",
       "      <td>0.14744</td>\n",
       "      <td>-10.792271</td>\n",
       "      <td>38.328195</td>\n",
       "      <td>1.002250</td>\n",
       "      <td>3639</td>\n",
       "      <td>0.14556</td>\n",
       "      <td>11.223753</td>\n",
       "      <td>0.00088</td>\n",
       "    </tr>\n",
       "    <tr>\n",
       "      <th>13</th>\n",
       "      <td>NaN</td>\n",
       "      <td>NaN</td>\n",
       "      <td>NaN</td>\n",
       "      <td>NaN</td>\n",
       "      <td>False</td>\n",
       "      <td>-36.820319</td>\n",
       "      <td>3765.0</td>\n",
       "      <td>0.15060</td>\n",
       "      <td>7.762819</td>\n",
       "      <td>1260.0</td>\n",
       "      <td>...</td>\n",
       "      <td>1260.0</td>\n",
       "      <td>3792.0</td>\n",
       "      <td>0.15168</td>\n",
       "      <td>-10.388267</td>\n",
       "      <td>35.758248</td>\n",
       "      <td>0.971155</td>\n",
       "      <td>3742</td>\n",
       "      <td>0.14968</td>\n",
       "      <td>10.265765</td>\n",
       "      <td>0.00092</td>\n",
       "    </tr>\n",
       "    <tr>\n",
       "      <th>14</th>\n",
       "      <td>NaN</td>\n",
       "      <td>NaN</td>\n",
       "      <td>NaN</td>\n",
       "      <td>NaN</td>\n",
       "      <td>False</td>\n",
       "      <td>-37.565294</td>\n",
       "      <td>3865.0</td>\n",
       "      <td>0.15460</td>\n",
       "      <td>8.869282</td>\n",
       "      <td>1260.0</td>\n",
       "      <td>...</td>\n",
       "      <td>1260.0</td>\n",
       "      <td>3891.0</td>\n",
       "      <td>0.15564</td>\n",
       "      <td>-10.760908</td>\n",
       "      <td>35.307727</td>\n",
       "      <td>0.939903</td>\n",
       "      <td>3843</td>\n",
       "      <td>0.15372</td>\n",
       "      <td>11.223352</td>\n",
       "      <td>0.00088</td>\n",
       "    </tr>\n",
       "    <tr>\n",
       "      <th>15</th>\n",
       "      <td>NaN</td>\n",
       "      <td>NaN</td>\n",
       "      <td>NaN</td>\n",
       "      <td>NaN</td>\n",
       "      <td>False</td>\n",
       "      <td>-35.099600</td>\n",
       "      <td>3968.0</td>\n",
       "      <td>0.15872</td>\n",
       "      <td>7.052047</td>\n",
       "      <td>1260.0</td>\n",
       "      <td>...</td>\n",
       "      <td>1260.0</td>\n",
       "      <td>3994.0</td>\n",
       "      <td>0.15976</td>\n",
       "      <td>-10.105860</td>\n",
       "      <td>30.720219</td>\n",
       "      <td>0.875230</td>\n",
       "      <td>3945</td>\n",
       "      <td>0.15780</td>\n",
       "      <td>10.464428</td>\n",
       "      <td>0.00100</td>\n",
       "    </tr>\n",
       "    <tr>\n",
       "      <th>16</th>\n",
       "      <td>NaN</td>\n",
       "      <td>NaN</td>\n",
       "      <td>NaN</td>\n",
       "      <td>NaN</td>\n",
       "      <td>False</td>\n",
       "      <td>-34.326190</td>\n",
       "      <td>4068.0</td>\n",
       "      <td>0.16272</td>\n",
       "      <td>8.545033</td>\n",
       "      <td>1260.0</td>\n",
       "      <td>...</td>\n",
       "      <td>1260.0</td>\n",
       "      <td>4095.0</td>\n",
       "      <td>0.16380</td>\n",
       "      <td>-10.260952</td>\n",
       "      <td>32.754412</td>\n",
       "      <td>0.954211</td>\n",
       "      <td>4045</td>\n",
       "      <td>0.16180</td>\n",
       "      <td>10.167938</td>\n",
       "      <td>0.00096</td>\n",
       "    </tr>\n",
       "    <tr>\n",
       "      <th>17</th>\n",
       "      <td>NaN</td>\n",
       "      <td>NaN</td>\n",
       "      <td>NaN</td>\n",
       "      <td>NaN</td>\n",
       "      <td>False</td>\n",
       "      <td>-31.885974</td>\n",
       "      <td>4173.0</td>\n",
       "      <td>0.16692</td>\n",
       "      <td>8.073666</td>\n",
       "      <td>1260.0</td>\n",
       "      <td>...</td>\n",
       "      <td>1260.0</td>\n",
       "      <td>4199.0</td>\n",
       "      <td>0.16796</td>\n",
       "      <td>-9.294805</td>\n",
       "      <td>29.459250</td>\n",
       "      <td>0.923894</td>\n",
       "      <td>4150</td>\n",
       "      <td>0.16600</td>\n",
       "      <td>10.167900</td>\n",
       "      <td>0.00088</td>\n",
       "    </tr>\n",
       "    <tr>\n",
       "      <th>18</th>\n",
       "      <td>NaN</td>\n",
       "      <td>NaN</td>\n",
       "      <td>NaN</td>\n",
       "      <td>NaN</td>\n",
       "      <td>False</td>\n",
       "      <td>-28.389012</td>\n",
       "      <td>4274.0</td>\n",
       "      <td>0.17096</td>\n",
       "      <td>9.503753</td>\n",
       "      <td>1260.0</td>\n",
       "      <td>...</td>\n",
       "      <td>1260.0</td>\n",
       "      <td>4304.0</td>\n",
       "      <td>0.17216</td>\n",
       "      <td>-9.582186</td>\n",
       "      <td>29.499569</td>\n",
       "      <td>1.039119</td>\n",
       "      <td>4252</td>\n",
       "      <td>0.17008</td>\n",
       "      <td>9.652783</td>\n",
       "      <td>0.00096</td>\n",
       "    </tr>\n",
       "    <tr>\n",
       "      <th>19</th>\n",
       "      <td>NaN</td>\n",
       "      <td>NaN</td>\n",
       "      <td>NaN</td>\n",
       "      <td>NaN</td>\n",
       "      <td>False</td>\n",
       "      <td>-30.963715</td>\n",
       "      <td>4383.0</td>\n",
       "      <td>0.17532</td>\n",
       "      <td>6.239228</td>\n",
       "      <td>1260.0</td>\n",
       "      <td>...</td>\n",
       "      <td>1260.0</td>\n",
       "      <td>4409.0</td>\n",
       "      <td>0.17636</td>\n",
       "      <td>-9.389105</td>\n",
       "      <td>24.754210</td>\n",
       "      <td>0.799459</td>\n",
       "      <td>4359</td>\n",
       "      <td>0.17436</td>\n",
       "      <td>10.579564</td>\n",
       "      <td>0.00096</td>\n",
       "    </tr>\n",
       "    <tr>\n",
       "      <th>20</th>\n",
       "      <td>NaN</td>\n",
       "      <td>NaN</td>\n",
       "      <td>NaN</td>\n",
       "      <td>NaN</td>\n",
       "      <td>False</td>\n",
       "      <td>-28.659346</td>\n",
       "      <td>4486.0</td>\n",
       "      <td>0.17944</td>\n",
       "      <td>7.241072</td>\n",
       "      <td>1260.0</td>\n",
       "      <td>...</td>\n",
       "      <td>1260.0</td>\n",
       "      <td>4515.0</td>\n",
       "      <td>0.18060</td>\n",
       "      <td>-9.370359</td>\n",
       "      <td>26.201632</td>\n",
       "      <td>0.914244</td>\n",
       "      <td>4461</td>\n",
       "      <td>0.17844</td>\n",
       "      <td>9.427491</td>\n",
       "      <td>0.00100</td>\n",
       "    </tr>\n",
       "    <tr>\n",
       "      <th>21</th>\n",
       "      <td>NaN</td>\n",
       "      <td>NaN</td>\n",
       "      <td>NaN</td>\n",
       "      <td>NaN</td>\n",
       "      <td>False</td>\n",
       "      <td>-31.199996</td>\n",
       "      <td>4589.0</td>\n",
       "      <td>0.18356</td>\n",
       "      <td>6.959705</td>\n",
       "      <td>1260.0</td>\n",
       "      <td>...</td>\n",
       "      <td>1260.0</td>\n",
       "      <td>4616.0</td>\n",
       "      <td>0.18464</td>\n",
       "      <td>-9.179648</td>\n",
       "      <td>26.976941</td>\n",
       "      <td>0.864646</td>\n",
       "      <td>4565</td>\n",
       "      <td>0.18260</td>\n",
       "      <td>9.389760</td>\n",
       "      <td>0.00096</td>\n",
       "    </tr>\n",
       "    <tr>\n",
       "      <th>22</th>\n",
       "      <td>NaN</td>\n",
       "      <td>NaN</td>\n",
       "      <td>NaN</td>\n",
       "      <td>NaN</td>\n",
       "      <td>False</td>\n",
       "      <td>-28.840445</td>\n",
       "      <td>4692.0</td>\n",
       "      <td>0.18768</td>\n",
       "      <td>7.894743</td>\n",
       "      <td>1260.0</td>\n",
       "      <td>...</td>\n",
       "      <td>1260.0</td>\n",
       "      <td>4719.0</td>\n",
       "      <td>0.18876</td>\n",
       "      <td>-9.297566</td>\n",
       "      <td>26.361903</td>\n",
       "      <td>0.914060</td>\n",
       "      <td>4669</td>\n",
       "      <td>0.18676</td>\n",
       "      <td>10.795468</td>\n",
       "      <td>0.00104</td>\n",
       "    </tr>\n",
       "    <tr>\n",
       "      <th>23</th>\n",
       "      <td>NaN</td>\n",
       "      <td>NaN</td>\n",
       "      <td>NaN</td>\n",
       "      <td>NaN</td>\n",
       "      <td>False</td>\n",
       "      <td>-29.118332</td>\n",
       "      <td>4801.0</td>\n",
       "      <td>0.19204</td>\n",
       "      <td>4.712273</td>\n",
       "      <td>1260.0</td>\n",
       "      <td>...</td>\n",
       "      <td>1260.0</td>\n",
       "      <td>4825.0</td>\n",
       "      <td>0.19300</td>\n",
       "      <td>-9.051683</td>\n",
       "      <td>23.741018</td>\n",
       "      <td>0.815329</td>\n",
       "      <td>4775</td>\n",
       "      <td>0.19100</td>\n",
       "      <td>9.059951</td>\n",
       "      <td>0.00096</td>\n",
       "    </tr>\n",
       "    <tr>\n",
       "      <th>24</th>\n",
       "      <td>NaN</td>\n",
       "      <td>NaN</td>\n",
       "      <td>NaN</td>\n",
       "      <td>NaN</td>\n",
       "      <td>False</td>\n",
       "      <td>-29.515459</td>\n",
       "      <td>4903.0</td>\n",
       "      <td>0.19612</td>\n",
       "      <td>6.390380</td>\n",
       "      <td>1260.0</td>\n",
       "      <td>...</td>\n",
       "      <td>1260.0</td>\n",
       "      <td>5044.0</td>\n",
       "      <td>0.20176</td>\n",
       "      <td>-7.816551</td>\n",
       "      <td>25.680450</td>\n",
       "      <td>0.870068</td>\n",
       "      <td>4878</td>\n",
       "      <td>0.19512</td>\n",
       "      <td>8.948805</td>\n",
       "      <td>0.00100</td>\n",
       "    </tr>\n",
       "    <tr>\n",
       "      <th>25</th>\n",
       "      <td>NaN</td>\n",
       "      <td>NaN</td>\n",
       "      <td>NaN</td>\n",
       "      <td>NaN</td>\n",
       "      <td>True</td>\n",
       "      <td>-89.401841</td>\n",
       "      <td>17498.0</td>\n",
       "      <td>0.69992</td>\n",
       "      <td>-12.675927</td>\n",
       "      <td>NaN</td>\n",
       "      <td>...</td>\n",
       "      <td>1260.0</td>\n",
       "      <td>17499.0</td>\n",
       "      <td>0.69996</td>\n",
       "      <td>-16.262539</td>\n",
       "      <td>20.253124</td>\n",
       "      <td>0.226540</td>\n",
       "      <td>5094</td>\n",
       "      <td>0.20376</td>\n",
       "      <td>8.299952</td>\n",
       "      <td>NaN</td>\n",
       "    </tr>\n",
       "  </tbody>\n",
       "</table>\n",
       "<p>5645 rows × 37 columns</p>\n",
       "</div>"
      ],
      "text/plain": [
       "    adp_i  adp_index    adp_t      adp_v  clipped  downstroke  \\\n",
       "0     NaN        NaN      NaN        NaN     True         NaN   \n",
       "0     NaN        NaN      NaN        NaN     True         NaN   \n",
       "0     NaN        NaN      NaN        NaN    False -157.439369   \n",
       "1     NaN        NaN      NaN        NaN    False -156.118780   \n",
       "0     NaN        NaN      NaN        NaN    False -159.525986   \n",
       "1     NaN        NaN      NaN        NaN    False -158.273671   \n",
       "0     NaN        NaN      NaN        NaN    False -164.444066   \n",
       "1     NaN        NaN      NaN        NaN    False -164.014221   \n",
       "2     NaN        NaN      NaN        NaN    False -164.302351   \n",
       "0     NaN        NaN      NaN        NaN    False -169.037783   \n",
       "0   -80.0     8786.0  0.35144 -59.286647    False -170.058592   \n",
       "1     NaN        NaN      NaN        NaN    False -170.249204   \n",
       "0   -60.0     7239.0  0.28956 -58.423113    False -172.725469   \n",
       "1     NaN        NaN      NaN        NaN    False -173.653598   \n",
       "0     NaN        NaN      NaN        NaN    False -176.199511   \n",
       "0   -20.0     9334.0  0.37336 -55.940058    False -176.420864   \n",
       "1     NaN        NaN      NaN        NaN    False -176.833775   \n",
       "0     0.0     6055.0  0.24220 -55.134401    False -178.465093   \n",
       "1     0.0     9314.0  0.37256 -55.125859    False -177.756800   \n",
       "2     NaN        NaN      NaN        NaN    False -179.047418   \n",
       "0    20.0     4421.0  0.17684 -53.678498    False -179.621134   \n",
       "1    20.0     5735.0  0.22940 -53.766739    False -178.157052   \n",
       "2     NaN        NaN      NaN        NaN    False -180.613788   \n",
       "0     NaN        NaN      NaN        NaN    False -177.713382   \n",
       "1    40.0     9039.0  0.36156 -52.614376    False -175.648024   \n",
       "2    40.0    10512.0  0.42048 -52.695461    False -175.132241   \n",
       "3     NaN        NaN      NaN        NaN    False -176.320559   \n",
       "0     NaN        NaN      NaN        NaN    False -178.828901   \n",
       "1     NaN        NaN      NaN        NaN    False -178.316765   \n",
       "2     NaN        NaN      NaN        NaN    False -179.384612   \n",
       "..    ...        ...      ...        ...      ...         ...   \n",
       "23    NaN        NaN      NaN        NaN    False  -27.987532   \n",
       "24    NaN        NaN      NaN        NaN    False  -27.789181   \n",
       "25    NaN        NaN      NaN        NaN    False  -25.502299   \n",
       "26    NaN        NaN      NaN        NaN     True  -85.242852   \n",
       "0     NaN        NaN      NaN        NaN    False -132.359008   \n",
       "1     NaN        NaN      NaN        NaN    False  -88.465178   \n",
       "2     NaN        NaN      NaN        NaN    False  -74.385172   \n",
       "3     NaN        NaN      NaN        NaN    False  -64.025807   \n",
       "4     NaN        NaN      NaN        NaN    False  -59.079117   \n",
       "5     NaN        NaN      NaN        NaN    False  -54.357002   \n",
       "6     NaN        NaN      NaN        NaN    False  -50.209195   \n",
       "7     NaN        NaN      NaN        NaN    False  -48.310694   \n",
       "8     NaN        NaN      NaN        NaN    False  -43.297307   \n",
       "9     NaN        NaN      NaN        NaN    False  -41.910181   \n",
       "10    NaN        NaN      NaN        NaN    False  -41.213814   \n",
       "11    NaN        NaN      NaN        NaN    False  -40.109502   \n",
       "12    NaN        NaN      NaN        NaN    False  -38.242131   \n",
       "13    NaN        NaN      NaN        NaN    False  -36.820319   \n",
       "14    NaN        NaN      NaN        NaN    False  -37.565294   \n",
       "15    NaN        NaN      NaN        NaN    False  -35.099600   \n",
       "16    NaN        NaN      NaN        NaN    False  -34.326190   \n",
       "17    NaN        NaN      NaN        NaN    False  -31.885974   \n",
       "18    NaN        NaN      NaN        NaN    False  -28.389012   \n",
       "19    NaN        NaN      NaN        NaN    False  -30.963715   \n",
       "20    NaN        NaN      NaN        NaN    False  -28.659346   \n",
       "21    NaN        NaN      NaN        NaN    False  -31.199996   \n",
       "22    NaN        NaN      NaN        NaN    False  -28.840445   \n",
       "23    NaN        NaN      NaN        NaN    False  -29.118332   \n",
       "24    NaN        NaN      NaN        NaN    False  -29.515459   \n",
       "25    NaN        NaN      NaN        NaN     True  -89.401841   \n",
       "\n",
       "    downstroke_index  downstroke_t  downstroke_v  fast_trough_i   ...     \\\n",
       "0                NaN           NaN           NaN            NaN   ...      \n",
       "0                NaN           NaN           NaN            NaN   ...      \n",
       "0            14330.0       0.57320     -5.580338         -240.0   ...      \n",
       "1            17088.0       0.68352     -9.218973         -240.0   ...      \n",
       "0             9811.0       0.39244     -5.738968         -200.0   ...      \n",
       "1            14634.0       0.58536     -8.184350         -200.0   ...      \n",
       "0             4628.0       0.18512     -3.918205         -160.0   ...      \n",
       "1             6638.0       0.26552     -7.013537         -160.0   ...      \n",
       "2            14754.0       0.59016     -2.549173         -160.0   ...      \n",
       "0            13861.0       0.55444     -6.987336         -140.0   ...      \n",
       "0             8727.0       0.34908     -5.076213          -80.0   ...      \n",
       "1            11518.0       0.46072      0.042464          -80.0   ...      \n",
       "0             7179.0       0.28716      0.267314          -60.0   ...      \n",
       "1            11712.0       0.46848      0.034899          -60.0   ...      \n",
       "0             7935.0       0.31740     -3.620361          -40.0   ...      \n",
       "0             9266.0       0.37064     -1.372941          -20.0   ...      \n",
       "1            10411.0       0.41644     -1.970025          -20.0   ...      \n",
       "0             5979.0       0.23916     -2.289169            0.0   ...      \n",
       "1             9239.0       0.36956     -1.524672            0.0   ...      \n",
       "2            10362.0       0.41448      0.617133            0.0   ...      \n",
       "0             4342.0       0.17368      0.657876           20.0   ...      \n",
       "1             5658.0       0.22632     -2.229033           20.0   ...      \n",
       "2            10329.0       0.41316      0.883140           20.0   ...      \n",
       "0             3095.0       0.12380      3.185534           40.0   ...      \n",
       "1             8951.0       0.35804      2.810315           40.0   ...      \n",
       "2            10428.0       0.41712     -2.332469           40.0   ...      \n",
       "3            15183.0       0.60732      2.497061           40.0   ...      \n",
       "0             3314.0       0.13256      0.768510           60.0   ...      \n",
       "1             7502.0       0.30008     -0.415858           60.0   ...      \n",
       "2             7913.0       0.31652      2.386738           60.0   ...      \n",
       "..               ...           ...           ...            ...   ...      \n",
       "23            4827.0       0.19308      5.249376         1240.0   ...      \n",
       "24            4931.0       0.19724      5.734615         1240.0   ...      \n",
       "25            5150.0       0.20600      5.281516         1240.0   ...      \n",
       "26           17498.0       0.69992    -13.377746            NaN   ...      \n",
       "0             2526.0       0.10104     26.767051         1260.0   ...      \n",
       "1             2606.0       0.10424     18.684078         1260.0   ...      \n",
       "2             2692.0       0.10768     14.766997         1260.0   ...      \n",
       "3             2781.0       0.11124     13.967769         1260.0   ...      \n",
       "4             2873.0       0.11492     13.520657         1260.0   ...      \n",
       "5             2969.0       0.11876     11.092403         1260.0   ...      \n",
       "6             3065.0       0.12260     11.581462         1260.0   ...      \n",
       "7             3163.0       0.12652     10.997520         1260.0   ...      \n",
       "8             3261.0       0.13044     10.093377         1260.0   ...      \n",
       "9             3361.0       0.13444     10.496618         1260.0   ...      \n",
       "10            3459.0       0.13836     10.045744         1260.0   ...      \n",
       "11            3560.0       0.14240      9.015220         1260.0   ...      \n",
       "12            3660.0       0.14640      9.668396         1260.0   ...      \n",
       "13            3765.0       0.15060      7.762819         1260.0   ...      \n",
       "14            3865.0       0.15460      8.869282         1260.0   ...      \n",
       "15            3968.0       0.15872      7.052047         1260.0   ...      \n",
       "16            4068.0       0.16272      8.545033         1260.0   ...      \n",
       "17            4173.0       0.16692      8.073666         1260.0   ...      \n",
       "18            4274.0       0.17096      9.503753         1260.0   ...      \n",
       "19            4383.0       0.17532      6.239228         1260.0   ...      \n",
       "20            4486.0       0.17944      7.241072         1260.0   ...      \n",
       "21            4589.0       0.18356      6.959705         1260.0   ...      \n",
       "22            4692.0       0.18768      7.894743         1260.0   ...      \n",
       "23            4801.0       0.19204      4.712273         1260.0   ...      \n",
       "24            4903.0       0.19612      6.390380         1260.0   ...      \n",
       "25           17498.0       0.69992    -12.675927            NaN   ...      \n",
       "\n",
       "    trough_i  trough_index  trough_t   trough_v    upstroke  \\\n",
       "0        NaN           NaN       NaN        NaN  263.583454   \n",
       "0        NaN           NaN       NaN        NaN  263.226192   \n",
       "0     -240.0       15513.0   0.62052 -83.952345  262.618771   \n",
       "1     -240.0       17474.0   0.69896 -80.710299  264.016372   \n",
       "0     -200.0       11359.0   0.45436 -80.606967  260.194903   \n",
       "1     -200.0       17130.0   0.68520 -80.081478  260.613006   \n",
       "0     -160.0        6384.0   0.25536 -77.656634  265.365510   \n",
       "1     -160.0        8011.0   0.32044 -77.151097  263.642762   \n",
       "2     -160.0       16352.0   0.65408 -76.093003  263.927963   \n",
       "0     -140.0       15331.0   0.61324 -74.105062  262.787879   \n",
       "0      -80.0       10242.0   0.40968 -67.939825  256.305938   \n",
       "1      -80.0       12831.0   0.51324 -67.748837  256.383535   \n",
       "0      -60.0        9146.0   0.36584 -65.755442  255.147927   \n",
       "1      -60.0       13227.0   0.52908 -65.602407  254.858233   \n",
       "0      -40.0        8922.0   0.35688 -63.421115  255.061492   \n",
       "0      -20.0       10363.0   0.41452 -60.558144  248.784592   \n",
       "1      -20.0       13401.0   0.53604 -60.904689  249.919106   \n",
       "0        0.0        8993.0   0.35972 -58.044374  245.773969   \n",
       "1        0.0       10129.0   0.40516 -58.216535  245.496910   \n",
       "2        0.0       13168.0   0.52672 -58.331136  247.697005   \n",
       "0       20.0        4364.0   0.17456 -57.507694  241.067123   \n",
       "1       20.0        5678.0   0.22712 -57.359498  239.943931   \n",
       "2       20.0       10351.0   0.41404 -57.696626  242.457190   \n",
       "0       40.0        3118.0   0.12472 -56.671988  234.423517   \n",
       "1       40.0        8973.0   0.35892 -56.721546  233.098599   \n",
       "2       40.0       10449.0   0.41796 -56.563467  231.796367   \n",
       "3       40.0       15204.0   0.60816 -56.825366  234.174121   \n",
       "0       60.0        3336.0   0.13344 -55.591807  215.703365   \n",
       "1       60.0        7524.0   0.30096 -55.949491  224.205501   \n",
       "2       60.0        7934.0   0.31736 -56.187794  231.414750   \n",
       "..       ...           ...       ...        ...         ...   \n",
       "23    1240.0        4852.0   0.19408  -8.928437   22.778615   \n",
       "24    1240.0        4957.0   0.19828  -9.582692   21.337725   \n",
       "25    1240.0        5176.0   0.20704  -8.167694   22.585112   \n",
       "26    1240.0       17499.0   0.69996 -16.797632   21.280786   \n",
       "0     1260.0        2547.0   0.10188 -24.989402  208.569678   \n",
       "1     1260.0        2628.0   0.10512 -19.948084  122.238468   \n",
       "2     1260.0        2715.0   0.10860 -17.215861   98.029802   \n",
       "3     1260.0        2806.0   0.11224 -15.716758   82.695156   \n",
       "4     1260.0        2899.0   0.11596 -14.335080   72.841316   \n",
       "5     1260.0        2993.0   0.11972 -13.739938   65.399733   \n",
       "6     1260.0        3090.0   0.12360 -12.717880   60.432883   \n",
       "7     1260.0        3188.0   0.12752 -12.539986   54.248471   \n",
       "8     1260.0        3286.0   0.13144 -11.985351   48.215499   \n",
       "9     1260.0        3386.0   0.13544 -11.214680   45.852979   \n",
       "10    1260.0        3486.0   0.13944 -11.775071   45.533131   \n",
       "11    1260.0        3585.0   0.14340 -10.781206   39.869467   \n",
       "12    1260.0        3686.0   0.14744 -10.792271   38.328195   \n",
       "13    1260.0        3792.0   0.15168 -10.388267   35.758248   \n",
       "14    1260.0        3891.0   0.15564 -10.760908   35.307727   \n",
       "15    1260.0        3994.0   0.15976 -10.105860   30.720219   \n",
       "16    1260.0        4095.0   0.16380 -10.260952   32.754412   \n",
       "17    1260.0        4199.0   0.16796  -9.294805   29.459250   \n",
       "18    1260.0        4304.0   0.17216  -9.582186   29.499569   \n",
       "19    1260.0        4409.0   0.17636  -9.389105   24.754210   \n",
       "20    1260.0        4515.0   0.18060  -9.370359   26.201632   \n",
       "21    1260.0        4616.0   0.18464  -9.179648   26.976941   \n",
       "22    1260.0        4719.0   0.18876  -9.297566   26.361903   \n",
       "23    1260.0        4825.0   0.19300  -9.051683   23.741018   \n",
       "24    1260.0        5044.0   0.20176  -7.816551   25.680450   \n",
       "25    1260.0       17499.0   0.69996 -16.262539   20.253124   \n",
       "\n",
       "    upstroke_downstroke_ratio  upstroke_index  upstroke_t  upstroke_v    width  \n",
       "0                         NaN           17477     0.69908  -28.359072      NaN  \n",
       "0                         NaN           17235     0.68940  -34.985624      NaN  \n",
       "0                    1.668063           14318     0.57272  -26.816214  0.00072  \n",
       "1                    1.691125           17075     0.68300  -31.600405  0.00072  \n",
       "0                    1.631050            9799     0.39196  -25.246294  0.00068  \n",
       "1                    1.646597           14621     0.58484  -31.824388  0.00068  \n",
       "0                    1.613713            4616     0.18464  -26.480816  0.00068  \n",
       "1                    1.607438            6625     0.26500  -30.783214  0.00068  \n",
       "2                    1.606355           14742     0.58968  -28.425412  0.00064  \n",
       "0                    1.554610           13848     0.55392  -30.395150  0.00064  \n",
       "0                    1.507163            8715     0.34860  -20.810500  0.00064  \n",
       "1                    1.505931           11507     0.46028  -19.023092  0.00064  \n",
       "0                    1.477188            7168     0.28672  -17.397441  0.00064  \n",
       "1                    1.467624           11701     0.46804  -16.938774  0.00064  \n",
       "0                    1.447572            7923     0.31692  -19.889943  0.00060  \n",
       "0                    1.410177            9254     0.37016  -22.606939  0.00060  \n",
       "1                    1.413300           10399     0.41596  -21.244166  0.00060  \n",
       "0                    1.377154            5967     0.23868  -18.720681  0.00056  \n",
       "1                    1.381083            9227     0.36908  -19.938320  0.00060  \n",
       "2                    1.383416           10351     0.41404  -12.954258  0.00060  \n",
       "0                    1.342087            4331     0.17324  -11.952267  0.00060  \n",
       "1                    1.346811            5646     0.22584  -17.957959  0.00056  \n",
       "2                    1.342407           10318     0.41272  -12.790586  0.00060  \n",
       "0                    1.319110            3084     0.12336  -14.425745  0.00056  \n",
       "1                    1.327078            8940     0.35760  -14.385585  0.00056  \n",
       "2                    1.323551           10416     0.41664  -17.290853  0.00056  \n",
       "3                    1.328116           15172     0.60688  -14.259304  0.00056  \n",
       "0                    1.206200            3303     0.13212   -6.527516  0.00056  \n",
       "1                    1.257344            7491     0.29964   -5.729745  0.00056  \n",
       "2                    1.290048            7902     0.31608  -10.891213  0.00052  \n",
       "..                        ...             ...         ...         ...      ...  \n",
       "23                   0.813884            4801     0.19204    8.768586  0.00108  \n",
       "24                   0.767843            4906     0.19624    8.847876  0.00136  \n",
       "25                   0.885611            5012     0.20048    8.512284  0.00136  \n",
       "26                   0.249649            5231     0.20924    8.371004      NaN  \n",
       "0                    1.575788            2514     0.10056   12.357553  0.00068  \n",
       "1                    1.381769            2592     0.10368   15.086317  0.00068  \n",
       "2                    1.317868            2676     0.10704   14.729042  0.00072  \n",
       "3                    1.291591            2764     0.11056   14.495832  0.00076  \n",
       "4                    1.232945            2855     0.11420   13.247647  0.00080  \n",
       "5                    1.203152            2950     0.11800   13.264134  0.00080  \n",
       "6                    1.203622            3045     0.12180   12.172660  0.00080  \n",
       "7                    1.122908            3143     0.12572   11.862893  0.00080  \n",
       "8                    1.113591            3240     0.12960   11.388405  0.00084  \n",
       "9                    1.094077            3341     0.13364   12.033864  0.00084  \n",
       "10                   1.104803            3438     0.13752   11.920763  0.00088  \n",
       "11                   0.994016            3539     0.14156   11.486449  0.00084  \n",
       "12                   1.002250            3639     0.14556   11.223753  0.00088  \n",
       "13                   0.971155            3742     0.14968   10.265765  0.00092  \n",
       "14                   0.939903            3843     0.15372   11.223352  0.00088  \n",
       "15                   0.875230            3945     0.15780   10.464428  0.00100  \n",
       "16                   0.954211            4045     0.16180   10.167938  0.00096  \n",
       "17                   0.923894            4150     0.16600   10.167900  0.00088  \n",
       "18                   1.039119            4252     0.17008    9.652783  0.00096  \n",
       "19                   0.799459            4359     0.17436   10.579564  0.00096  \n",
       "20                   0.914244            4461     0.17844    9.427491  0.00100  \n",
       "21                   0.864646            4565     0.18260    9.389760  0.00096  \n",
       "22                   0.914060            4669     0.18676   10.795468  0.00104  \n",
       "23                   0.815329            4775     0.19100    9.059951  0.00096  \n",
       "24                   0.870068            4878     0.19512    8.948805  0.00100  \n",
       "25                   0.226540            5094     0.20376    8.299952      NaN  \n",
       "\n",
       "[5645 rows x 37 columns]"
      ]
     },
     "execution_count": 722,
     "metadata": {},
     "output_type": "execute_result"
    }
   ],
   "source": [
    "df"
   ]
  },
  {
   "cell_type": "code",
   "execution_count": 666,
   "metadata": {},
   "outputs": [
    {
     "data": {
      "text/html": [
       "<div>\n",
       "<style scoped>\n",
       "    .dataframe tbody tr th:only-of-type {\n",
       "        vertical-align: middle;\n",
       "    }\n",
       "\n",
       "    .dataframe tbody tr th {\n",
       "        vertical-align: top;\n",
       "    }\n",
       "\n",
       "    .dataframe thead th {\n",
       "        text-align: right;\n",
       "    }\n",
       "</style>\n",
       "<table border=\"1\" class=\"dataframe\">\n",
       "  <thead>\n",
       "    <tr style=\"text-align: right;\">\n",
       "      <th></th>\n",
       "      <th>E_plat</th>\n",
       "      <th>adapt</th>\n",
       "      <th>adaptation_index</th>\n",
       "      <th>avg_rate</th>\n",
       "      <th>current</th>\n",
       "      <th>first_isi</th>\n",
       "      <th>input_resistance</th>\n",
       "      <th>isi_cv</th>\n",
       "      <th>latency</th>\n",
       "      <th>mean_isi</th>\n",
       "      <th>median_isi</th>\n",
       "      <th>resting_membrane_potential</th>\n",
       "      <th>spike_count</th>\n",
       "      <th>tau</th>\n",
       "      <th>v_baseline</th>\n",
       "      <th>voltage_deflection</th>\n",
       "    </tr>\n",
       "  </thead>\n",
       "  <tbody>\n",
       "    <tr>\n",
       "      <th>0</th>\n",
       "      <td>-91.101843</td>\n",
       "      <td>NaN</td>\n",
       "      <td>NaN</td>\n",
       "      <td>0.000000</td>\n",
       "      <td>-200.0</td>\n",
       "      <td>NaN</td>\n",
       "      <td>199.270332</td>\n",
       "      <td>NaN</td>\n",
       "      <td>NaN</td>\n",
       "      <td>NaN</td>\n",
       "      <td>NaN</td>\n",
       "      <td>-54.897768</td>\n",
       "      <td>0</td>\n",
       "      <td>0.006455</td>\n",
       "      <td>-54.897768</td>\n",
       "      <td>-94.751835</td>\n",
       "    </tr>\n",
       "    <tr>\n",
       "      <th>0</th>\n",
       "      <td>-88.312217</td>\n",
       "      <td>NaN</td>\n",
       "      <td>NaN</td>\n",
       "      <td>0.000000</td>\n",
       "      <td>-180.0</td>\n",
       "      <td>NaN</td>\n",
       "      <td>214.636014</td>\n",
       "      <td>NaN</td>\n",
       "      <td>NaN</td>\n",
       "      <td>NaN</td>\n",
       "      <td>NaN</td>\n",
       "      <td>-52.708749</td>\n",
       "      <td>0</td>\n",
       "      <td>0.007022</td>\n",
       "      <td>-52.708749</td>\n",
       "      <td>-91.343231</td>\n",
       "    </tr>\n",
       "    <tr>\n",
       "      <th>0</th>\n",
       "      <td>-85.652386</td>\n",
       "      <td>NaN</td>\n",
       "      <td>NaN</td>\n",
       "      <td>0.000000</td>\n",
       "      <td>-160.0</td>\n",
       "      <td>NaN</td>\n",
       "      <td>224.495623</td>\n",
       "      <td>NaN</td>\n",
       "      <td>NaN</td>\n",
       "      <td>NaN</td>\n",
       "      <td>NaN</td>\n",
       "      <td>-52.636193</td>\n",
       "      <td>0</td>\n",
       "      <td>0.009061</td>\n",
       "      <td>-52.636193</td>\n",
       "      <td>-88.555492</td>\n",
       "    </tr>\n",
       "    <tr>\n",
       "      <th>0</th>\n",
       "      <td>-82.647944</td>\n",
       "      <td>NaN</td>\n",
       "      <td>NaN</td>\n",
       "      <td>0.000000</td>\n",
       "      <td>-140.0</td>\n",
       "      <td>NaN</td>\n",
       "      <td>232.718780</td>\n",
       "      <td>NaN</td>\n",
       "      <td>NaN</td>\n",
       "      <td>NaN</td>\n",
       "      <td>NaN</td>\n",
       "      <td>-53.007357</td>\n",
       "      <td>0</td>\n",
       "      <td>0.008949</td>\n",
       "      <td>-53.007357</td>\n",
       "      <td>-85.587986</td>\n",
       "    </tr>\n",
       "    <tr>\n",
       "      <th>0</th>\n",
       "      <td>-79.644557</td>\n",
       "      <td>NaN</td>\n",
       "      <td>NaN</td>\n",
       "      <td>1.666667</td>\n",
       "      <td>-120.0</td>\n",
       "      <td>NaN</td>\n",
       "      <td>NaN</td>\n",
       "      <td>NaN</td>\n",
       "      <td>0.07816</td>\n",
       "      <td>NaN</td>\n",
       "      <td>NaN</td>\n",
       "      <td>-52.825661</td>\n",
       "      <td>1</td>\n",
       "      <td>0.009931</td>\n",
       "      <td>-52.825661</td>\n",
       "      <td>-82.447827</td>\n",
       "    </tr>\n",
       "    <tr>\n",
       "      <th>0</th>\n",
       "      <td>-76.318241</td>\n",
       "      <td>NaN</td>\n",
       "      <td>NaN</td>\n",
       "      <td>1.666667</td>\n",
       "      <td>-100.0</td>\n",
       "      <td>NaN</td>\n",
       "      <td>NaN</td>\n",
       "      <td>NaN</td>\n",
       "      <td>0.46732</td>\n",
       "      <td>NaN</td>\n",
       "      <td>NaN</td>\n",
       "      <td>-52.931618</td>\n",
       "      <td>1</td>\n",
       "      <td>0.010404</td>\n",
       "      <td>-52.931618</td>\n",
       "      <td>-78.951702</td>\n",
       "    </tr>\n",
       "    <tr>\n",
       "      <th>0</th>\n",
       "      <td>-73.022337</td>\n",
       "      <td>NaN</td>\n",
       "      <td>NaN</td>\n",
       "      <td>0.000000</td>\n",
       "      <td>-80.0</td>\n",
       "      <td>NaN</td>\n",
       "      <td>282.551499</td>\n",
       "      <td>NaN</td>\n",
       "      <td>NaN</td>\n",
       "      <td>NaN</td>\n",
       "      <td>NaN</td>\n",
       "      <td>-52.794251</td>\n",
       "      <td>0</td>\n",
       "      <td>0.012114</td>\n",
       "      <td>-52.794251</td>\n",
       "      <td>-75.398371</td>\n",
       "    </tr>\n",
       "    <tr>\n",
       "      <th>0</th>\n",
       "      <td>-69.139054</td>\n",
       "      <td>NaN</td>\n",
       "      <td>NaN</td>\n",
       "      <td>0.000000</td>\n",
       "      <td>-60.0</td>\n",
       "      <td>NaN</td>\n",
       "      <td>288.402731</td>\n",
       "      <td>NaN</td>\n",
       "      <td>NaN</td>\n",
       "      <td>NaN</td>\n",
       "      <td>NaN</td>\n",
       "      <td>-53.799558</td>\n",
       "      <td>0</td>\n",
       "      <td>0.013563</td>\n",
       "      <td>-53.799558</td>\n",
       "      <td>-71.103722</td>\n",
       "    </tr>\n",
       "    <tr>\n",
       "      <th>0</th>\n",
       "      <td>-65.140975</td>\n",
       "      <td>NaN</td>\n",
       "      <td>NaN</td>\n",
       "      <td>0.000000</td>\n",
       "      <td>-40.0</td>\n",
       "      <td>NaN</td>\n",
       "      <td>320.979813</td>\n",
       "      <td>NaN</td>\n",
       "      <td>NaN</td>\n",
       "      <td>NaN</td>\n",
       "      <td>NaN</td>\n",
       "      <td>-53.701585</td>\n",
       "      <td>0</td>\n",
       "      <td>0.017697</td>\n",
       "      <td>-53.701585</td>\n",
       "      <td>-66.540778</td>\n",
       "    </tr>\n",
       "    <tr>\n",
       "      <th>0</th>\n",
       "      <td>-60.126410</td>\n",
       "      <td>NaN</td>\n",
       "      <td>NaN</td>\n",
       "      <td>0.000000</td>\n",
       "      <td>-20.0</td>\n",
       "      <td>NaN</td>\n",
       "      <td>362.151011</td>\n",
       "      <td>NaN</td>\n",
       "      <td>NaN</td>\n",
       "      <td>NaN</td>\n",
       "      <td>NaN</td>\n",
       "      <td>-53.772813</td>\n",
       "      <td>0</td>\n",
       "      <td>0.019902</td>\n",
       "      <td>-53.772813</td>\n",
       "      <td>-61.015833</td>\n",
       "    </tr>\n",
       "    <tr>\n",
       "      <th>0</th>\n",
       "      <td>NaN</td>\n",
       "      <td>NaN</td>\n",
       "      <td>NaN</td>\n",
       "      <td>0.000000</td>\n",
       "      <td>0.0</td>\n",
       "      <td>NaN</td>\n",
       "      <td>NaN</td>\n",
       "      <td>NaN</td>\n",
       "      <td>NaN</td>\n",
       "      <td>NaN</td>\n",
       "      <td>NaN</td>\n",
       "      <td>-54.019560</td>\n",
       "      <td>0</td>\n",
       "      <td>NaN</td>\n",
       "      <td>NaN</td>\n",
       "      <td>-53.183883</td>\n",
       "    </tr>\n",
       "    <tr>\n",
       "      <th>0</th>\n",
       "      <td>NaN</td>\n",
       "      <td>NaN</td>\n",
       "      <td>NaN</td>\n",
       "      <td>0.000000</td>\n",
       "      <td>20.0</td>\n",
       "      <td>NaN</td>\n",
       "      <td>489.747497</td>\n",
       "      <td>NaN</td>\n",
       "      <td>NaN</td>\n",
       "      <td>NaN</td>\n",
       "      <td>NaN</td>\n",
       "      <td>-54.123945</td>\n",
       "      <td>0</td>\n",
       "      <td>NaN</td>\n",
       "      <td>NaN</td>\n",
       "      <td>-44.328995</td>\n",
       "    </tr>\n",
       "    <tr>\n",
       "      <th>0</th>\n",
       "      <td>NaN</td>\n",
       "      <td>0.006974</td>\n",
       "      <td>164.853896</td>\n",
       "      <td>16.666667</td>\n",
       "      <td>40.0</td>\n",
       "      <td>0.04928</td>\n",
       "      <td>NaN</td>\n",
       "      <td>0.168990</td>\n",
       "      <td>0.07160</td>\n",
       "      <td>0.058222</td>\n",
       "      <td>0.05760</td>\n",
       "      <td>-55.032853</td>\n",
       "      <td>10</td>\n",
       "      <td>NaN</td>\n",
       "      <td>NaN</td>\n",
       "      <td>37.240855</td>\n",
       "    </tr>\n",
       "    <tr>\n",
       "      <th>0</th>\n",
       "      <td>NaN</td>\n",
       "      <td>0.007122</td>\n",
       "      <td>124.766977</td>\n",
       "      <td>30.000000</td>\n",
       "      <td>60.0</td>\n",
       "      <td>0.03004</td>\n",
       "      <td>NaN</td>\n",
       "      <td>0.090533</td>\n",
       "      <td>0.01056</td>\n",
       "      <td>0.033386</td>\n",
       "      <td>0.03256</td>\n",
       "      <td>-55.876704</td>\n",
       "      <td>18</td>\n",
       "      <td>NaN</td>\n",
       "      <td>NaN</td>\n",
       "      <td>38.157947</td>\n",
       "    </tr>\n",
       "    <tr>\n",
       "      <th>0</th>\n",
       "      <td>NaN</td>\n",
       "      <td>0.006981</td>\n",
       "      <td>113.197026</td>\n",
       "      <td>40.000000</td>\n",
       "      <td>80.0</td>\n",
       "      <td>0.02152</td>\n",
       "      <td>NaN</td>\n",
       "      <td>0.095161</td>\n",
       "      <td>0.00884</td>\n",
       "      <td>0.025410</td>\n",
       "      <td>0.02480</td>\n",
       "      <td>-57.107000</td>\n",
       "      <td>24</td>\n",
       "      <td>NaN</td>\n",
       "      <td>NaN</td>\n",
       "      <td>38.597431</td>\n",
       "    </tr>\n",
       "    <tr>\n",
       "      <th>0</th>\n",
       "      <td>NaN</td>\n",
       "      <td>0.001999</td>\n",
       "      <td>101.727862</td>\n",
       "      <td>46.666667</td>\n",
       "      <td>100.0</td>\n",
       "      <td>0.01852</td>\n",
       "      <td>NaN</td>\n",
       "      <td>0.078346</td>\n",
       "      <td>0.00820</td>\n",
       "      <td>0.021064</td>\n",
       "      <td>0.02132</td>\n",
       "      <td>-58.430372</td>\n",
       "      <td>28</td>\n",
       "      <td>NaN</td>\n",
       "      <td>NaN</td>\n",
       "      <td>39.350681</td>\n",
       "    </tr>\n",
       "    <tr>\n",
       "      <th>0</th>\n",
       "      <td>NaN</td>\n",
       "      <td>0.004387</td>\n",
       "      <td>111.080332</td>\n",
       "      <td>56.666667</td>\n",
       "      <td>120.0</td>\n",
       "      <td>0.01444</td>\n",
       "      <td>NaN</td>\n",
       "      <td>0.097834</td>\n",
       "      <td>0.00596</td>\n",
       "      <td>0.017992</td>\n",
       "      <td>0.01820</td>\n",
       "      <td>-59.080017</td>\n",
       "      <td>34</td>\n",
       "      <td>NaN</td>\n",
       "      <td>NaN</td>\n",
       "      <td>39.272446</td>\n",
       "    </tr>\n",
       "    <tr>\n",
       "      <th>0</th>\n",
       "      <td>NaN</td>\n",
       "      <td>0.004248</td>\n",
       "      <td>113.538462</td>\n",
       "      <td>61.666667</td>\n",
       "      <td>140.0</td>\n",
       "      <td>0.01300</td>\n",
       "      <td>NaN</td>\n",
       "      <td>0.081887</td>\n",
       "      <td>0.00572</td>\n",
       "      <td>0.016484</td>\n",
       "      <td>0.01626</td>\n",
       "      <td>-60.554455</td>\n",
       "      <td>37</td>\n",
       "      <td>NaN</td>\n",
       "      <td>NaN</td>\n",
       "      <td>39.984092</td>\n",
       "    </tr>\n",
       "    <tr>\n",
       "      <th>0</th>\n",
       "      <td>NaN</td>\n",
       "      <td>0.006530</td>\n",
       "      <td>132.584270</td>\n",
       "      <td>65.000000</td>\n",
       "      <td>160.0</td>\n",
       "      <td>0.01068</td>\n",
       "      <td>NaN</td>\n",
       "      <td>0.095743</td>\n",
       "      <td>0.00500</td>\n",
       "      <td>0.015272</td>\n",
       "      <td>0.01526</td>\n",
       "      <td>-61.167829</td>\n",
       "      <td>39</td>\n",
       "      <td>NaN</td>\n",
       "      <td>NaN</td>\n",
       "      <td>39.261591</td>\n",
       "    </tr>\n",
       "    <tr>\n",
       "      <th>0</th>\n",
       "      <td>NaN</td>\n",
       "      <td>0.006281</td>\n",
       "      <td>130.196078</td>\n",
       "      <td>68.333333</td>\n",
       "      <td>180.0</td>\n",
       "      <td>0.01020</td>\n",
       "      <td>NaN</td>\n",
       "      <td>0.092492</td>\n",
       "      <td>0.00564</td>\n",
       "      <td>0.014586</td>\n",
       "      <td>0.01474</td>\n",
       "      <td>-60.680824</td>\n",
       "      <td>41</td>\n",
       "      <td>NaN</td>\n",
       "      <td>NaN</td>\n",
       "      <td>38.850132</td>\n",
       "    </tr>\n",
       "    <tr>\n",
       "      <th>0</th>\n",
       "      <td>NaN</td>\n",
       "      <td>0.005612</td>\n",
       "      <td>135.744681</td>\n",
       "      <td>73.333333</td>\n",
       "      <td>200.0</td>\n",
       "      <td>0.00940</td>\n",
       "      <td>NaN</td>\n",
       "      <td>0.092836</td>\n",
       "      <td>0.00492</td>\n",
       "      <td>0.013520</td>\n",
       "      <td>0.01360</td>\n",
       "      <td>-62.997404</td>\n",
       "      <td>44</td>\n",
       "      <td>NaN</td>\n",
       "      <td>NaN</td>\n",
       "      <td>38.844250</td>\n",
       "    </tr>\n",
       "    <tr>\n",
       "      <th>0</th>\n",
       "      <td>NaN</td>\n",
       "      <td>0.005511</td>\n",
       "      <td>123.041475</td>\n",
       "      <td>81.666667</td>\n",
       "      <td>220.0</td>\n",
       "      <td>0.00868</td>\n",
       "      <td>NaN</td>\n",
       "      <td>0.090580</td>\n",
       "      <td>0.00416</td>\n",
       "      <td>0.012115</td>\n",
       "      <td>0.01202</td>\n",
       "      <td>-62.945691</td>\n",
       "      <td>49</td>\n",
       "      <td>NaN</td>\n",
       "      <td>NaN</td>\n",
       "      <td>40.081982</td>\n",
       "    </tr>\n",
       "    <tr>\n",
       "      <th>0</th>\n",
       "      <td>NaN</td>\n",
       "      <td>0.002489</td>\n",
       "      <td>121.818182</td>\n",
       "      <td>85.000000</td>\n",
       "      <td>240.0</td>\n",
       "      <td>0.00880</td>\n",
       "      <td>NaN</td>\n",
       "      <td>0.094246</td>\n",
       "      <td>0.00288</td>\n",
       "      <td>0.011814</td>\n",
       "      <td>0.01170</td>\n",
       "      <td>-60.305571</td>\n",
       "      <td>51</td>\n",
       "      <td>NaN</td>\n",
       "      <td>NaN</td>\n",
       "      <td>41.497819</td>\n",
       "    </tr>\n",
       "    <tr>\n",
       "      <th>0</th>\n",
       "      <td>NaN</td>\n",
       "      <td>0.003734</td>\n",
       "      <td>138.265306</td>\n",
       "      <td>90.000000</td>\n",
       "      <td>260.0</td>\n",
       "      <td>0.00784</td>\n",
       "      <td>NaN</td>\n",
       "      <td>0.079253</td>\n",
       "      <td>0.00352</td>\n",
       "      <td>0.011131</td>\n",
       "      <td>0.01096</td>\n",
       "      <td>-63.585383</td>\n",
       "      <td>54</td>\n",
       "      <td>NaN</td>\n",
       "      <td>NaN</td>\n",
       "      <td>41.541528</td>\n",
       "    </tr>\n",
       "    <tr>\n",
       "      <th>0</th>\n",
       "      <td>NaN</td>\n",
       "      <td>0.003599</td>\n",
       "      <td>129.743590</td>\n",
       "      <td>93.333333</td>\n",
       "      <td>280.0</td>\n",
       "      <td>0.00780</td>\n",
       "      <td>NaN</td>\n",
       "      <td>0.085558</td>\n",
       "      <td>0.00340</td>\n",
       "      <td>0.010784</td>\n",
       "      <td>0.01064</td>\n",
       "      <td>-63.847478</td>\n",
       "      <td>56</td>\n",
       "      <td>NaN</td>\n",
       "      <td>NaN</td>\n",
       "      <td>41.752424</td>\n",
       "    </tr>\n",
       "    <tr>\n",
       "      <th>0</th>\n",
       "      <td>NaN</td>\n",
       "      <td>0.005439</td>\n",
       "      <td>123.033708</td>\n",
       "      <td>96.666667</td>\n",
       "      <td>300.0</td>\n",
       "      <td>0.00712</td>\n",
       "      <td>NaN</td>\n",
       "      <td>0.085669</td>\n",
       "      <td>0.00328</td>\n",
       "      <td>0.010349</td>\n",
       "      <td>0.01032</td>\n",
       "      <td>-64.235804</td>\n",
       "      <td>58</td>\n",
       "      <td>NaN</td>\n",
       "      <td>NaN</td>\n",
       "      <td>41.130405</td>\n",
       "    </tr>\n",
       "    <tr>\n",
       "      <th>0</th>\n",
       "      <td>NaN</td>\n",
       "      <td>0.004211</td>\n",
       "      <td>136.627907</td>\n",
       "      <td>98.333333</td>\n",
       "      <td>320.0</td>\n",
       "      <td>0.00688</td>\n",
       "      <td>NaN</td>\n",
       "      <td>0.109832</td>\n",
       "      <td>0.00320</td>\n",
       "      <td>0.010114</td>\n",
       "      <td>0.00992</td>\n",
       "      <td>-64.315543</td>\n",
       "      <td>59</td>\n",
       "      <td>NaN</td>\n",
       "      <td>NaN</td>\n",
       "      <td>40.779509</td>\n",
       "    </tr>\n",
       "    <tr>\n",
       "      <th>0</th>\n",
       "      <td>NaN</td>\n",
       "      <td>0.004872</td>\n",
       "      <td>118.994413</td>\n",
       "      <td>98.333333</td>\n",
       "      <td>340.0</td>\n",
       "      <td>0.00716</td>\n",
       "      <td>NaN</td>\n",
       "      <td>0.174577</td>\n",
       "      <td>0.00300</td>\n",
       "      <td>0.010217</td>\n",
       "      <td>0.01002</td>\n",
       "      <td>-64.494034</td>\n",
       "      <td>59</td>\n",
       "      <td>NaN</td>\n",
       "      <td>NaN</td>\n",
       "      <td>41.427836</td>\n",
       "    </tr>\n",
       "    <tr>\n",
       "      <th>0</th>\n",
       "      <td>NaN</td>\n",
       "      <td>0.005899</td>\n",
       "      <td>127.152318</td>\n",
       "      <td>100.000000</td>\n",
       "      <td>360.0</td>\n",
       "      <td>0.00604</td>\n",
       "      <td>NaN</td>\n",
       "      <td>0.147504</td>\n",
       "      <td>0.00284</td>\n",
       "      <td>0.009894</td>\n",
       "      <td>0.00972</td>\n",
       "      <td>-64.236096</td>\n",
       "      <td>60</td>\n",
       "      <td>NaN</td>\n",
       "      <td>NaN</td>\n",
       "      <td>40.945183</td>\n",
       "    </tr>\n",
       "    <tr>\n",
       "      <th>0</th>\n",
       "      <td>NaN</td>\n",
       "      <td>0.005558</td>\n",
       "      <td>112.727273</td>\n",
       "      <td>100.000000</td>\n",
       "      <td>380.0</td>\n",
       "      <td>0.00660</td>\n",
       "      <td>NaN</td>\n",
       "      <td>0.142330</td>\n",
       "      <td>0.00264</td>\n",
       "      <td>0.010087</td>\n",
       "      <td>0.01016</td>\n",
       "      <td>-64.363579</td>\n",
       "      <td>60</td>\n",
       "      <td>NaN</td>\n",
       "      <td>NaN</td>\n",
       "      <td>40.997341</td>\n",
       "    </tr>\n",
       "    <tr>\n",
       "      <th>...</th>\n",
       "      <td>...</td>\n",
       "      <td>...</td>\n",
       "      <td>...</td>\n",
       "      <td>...</td>\n",
       "      <td>...</td>\n",
       "      <td>...</td>\n",
       "      <td>...</td>\n",
       "      <td>...</td>\n",
       "      <td>...</td>\n",
       "      <td>...</td>\n",
       "      <td>...</td>\n",
       "      <td>...</td>\n",
       "      <td>...</td>\n",
       "      <td>...</td>\n",
       "      <td>...</td>\n",
       "      <td>...</td>\n",
       "    </tr>\n",
       "    <tr>\n",
       "      <th>0</th>\n",
       "      <td>NaN</td>\n",
       "      <td>0.031437</td>\n",
       "      <td>124.528302</td>\n",
       "      <td>31.666667</td>\n",
       "      <td>800.0</td>\n",
       "      <td>0.00424</td>\n",
       "      <td>NaN</td>\n",
       "      <td>0.251358</td>\n",
       "      <td>0.00072</td>\n",
       "      <td>0.006407</td>\n",
       "      <td>0.00618</td>\n",
       "      <td>-63.277329</td>\n",
       "      <td>19</td>\n",
       "      <td>NaN</td>\n",
       "      <td>NaN</td>\n",
       "      <td>53.661916</td>\n",
       "    </tr>\n",
       "    <tr>\n",
       "      <th>0</th>\n",
       "      <td>NaN</td>\n",
       "      <td>0.015183</td>\n",
       "      <td>121.100917</td>\n",
       "      <td>28.333333</td>\n",
       "      <td>820.0</td>\n",
       "      <td>0.00436</td>\n",
       "      <td>NaN</td>\n",
       "      <td>0.097109</td>\n",
       "      <td>0.00072</td>\n",
       "      <td>0.006085</td>\n",
       "      <td>0.00622</td>\n",
       "      <td>-63.207089</td>\n",
       "      <td>17</td>\n",
       "      <td>NaN</td>\n",
       "      <td>NaN</td>\n",
       "      <td>53.729050</td>\n",
       "    </tr>\n",
       "    <tr>\n",
       "      <th>0</th>\n",
       "      <td>NaN</td>\n",
       "      <td>0.014540</td>\n",
       "      <td>121.153846</td>\n",
       "      <td>28.333333</td>\n",
       "      <td>840.0</td>\n",
       "      <td>0.00416</td>\n",
       "      <td>NaN</td>\n",
       "      <td>0.096308</td>\n",
       "      <td>0.00068</td>\n",
       "      <td>0.005953</td>\n",
       "      <td>0.00616</td>\n",
       "      <td>-63.027628</td>\n",
       "      <td>17</td>\n",
       "      <td>NaN</td>\n",
       "      <td>NaN</td>\n",
       "      <td>54.834355</td>\n",
       "    </tr>\n",
       "    <tr>\n",
       "      <th>0</th>\n",
       "      <td>NaN</td>\n",
       "      <td>0.015088</td>\n",
       "      <td>117.924528</td>\n",
       "      <td>25.000000</td>\n",
       "      <td>860.0</td>\n",
       "      <td>0.00424</td>\n",
       "      <td>NaN</td>\n",
       "      <td>0.101929</td>\n",
       "      <td>0.00068</td>\n",
       "      <td>0.005920</td>\n",
       "      <td>0.00618</td>\n",
       "      <td>-63.037669</td>\n",
       "      <td>15</td>\n",
       "      <td>NaN</td>\n",
       "      <td>NaN</td>\n",
       "      <td>55.398311</td>\n",
       "    </tr>\n",
       "    <tr>\n",
       "      <th>0</th>\n",
       "      <td>NaN</td>\n",
       "      <td>0.015399</td>\n",
       "      <td>112.380952</td>\n",
       "      <td>23.333333</td>\n",
       "      <td>880.0</td>\n",
       "      <td>0.00420</td>\n",
       "      <td>NaN</td>\n",
       "      <td>0.108824</td>\n",
       "      <td>0.00064</td>\n",
       "      <td>0.005748</td>\n",
       "      <td>0.00600</td>\n",
       "      <td>-63.070659</td>\n",
       "      <td>14</td>\n",
       "      <td>NaN</td>\n",
       "      <td>NaN</td>\n",
       "      <td>56.195389</td>\n",
       "    </tr>\n",
       "    <tr>\n",
       "      <th>0</th>\n",
       "      <td>NaN</td>\n",
       "      <td>0.016651</td>\n",
       "      <td>121.698113</td>\n",
       "      <td>21.666667</td>\n",
       "      <td>900.0</td>\n",
       "      <td>0.00424</td>\n",
       "      <td>NaN</td>\n",
       "      <td>0.097093</td>\n",
       "      <td>0.00060</td>\n",
       "      <td>0.005790</td>\n",
       "      <td>0.00594</td>\n",
       "      <td>-62.936535</td>\n",
       "      <td>13</td>\n",
       "      <td>NaN</td>\n",
       "      <td>NaN</td>\n",
       "      <td>56.787521</td>\n",
       "    </tr>\n",
       "    <tr>\n",
       "      <th>0</th>\n",
       "      <td>NaN</td>\n",
       "      <td>0.013237</td>\n",
       "      <td>110.280374</td>\n",
       "      <td>25.000000</td>\n",
       "      <td>920.0</td>\n",
       "      <td>0.00428</td>\n",
       "      <td>NaN</td>\n",
       "      <td>0.102492</td>\n",
       "      <td>0.00060</td>\n",
       "      <td>0.005729</td>\n",
       "      <td>0.00586</td>\n",
       "      <td>-62.812483</td>\n",
       "      <td>15</td>\n",
       "      <td>NaN</td>\n",
       "      <td>NaN</td>\n",
       "      <td>57.882879</td>\n",
       "    </tr>\n",
       "    <tr>\n",
       "      <th>0</th>\n",
       "      <td>NaN</td>\n",
       "      <td>0.018548</td>\n",
       "      <td>120.792079</td>\n",
       "      <td>21.666667</td>\n",
       "      <td>940.0</td>\n",
       "      <td>0.00404</td>\n",
       "      <td>NaN</td>\n",
       "      <td>0.114751</td>\n",
       "      <td>0.00060</td>\n",
       "      <td>0.005687</td>\n",
       "      <td>0.00582</td>\n",
       "      <td>-62.521746</td>\n",
       "      <td>13</td>\n",
       "      <td>NaN</td>\n",
       "      <td>NaN</td>\n",
       "      <td>57.774924</td>\n",
       "    </tr>\n",
       "    <tr>\n",
       "      <th>0</th>\n",
       "      <td>NaN</td>\n",
       "      <td>0.021376</td>\n",
       "      <td>118.811881</td>\n",
       "      <td>20.000000</td>\n",
       "      <td>960.0</td>\n",
       "      <td>0.00404</td>\n",
       "      <td>NaN</td>\n",
       "      <td>0.116996</td>\n",
       "      <td>0.00056</td>\n",
       "      <td>0.005665</td>\n",
       "      <td>0.00584</td>\n",
       "      <td>-62.798454</td>\n",
       "      <td>12</td>\n",
       "      <td>NaN</td>\n",
       "      <td>NaN</td>\n",
       "      <td>57.204798</td>\n",
       "    </tr>\n",
       "    <tr>\n",
       "      <th>0</th>\n",
       "      <td>NaN</td>\n",
       "      <td>0.022652</td>\n",
       "      <td>126.262626</td>\n",
       "      <td>18.333333</td>\n",
       "      <td>980.0</td>\n",
       "      <td>0.00396</td>\n",
       "      <td>NaN</td>\n",
       "      <td>0.118166</td>\n",
       "      <td>0.00056</td>\n",
       "      <td>0.005596</td>\n",
       "      <td>0.00588</td>\n",
       "      <td>-62.600421</td>\n",
       "      <td>11</td>\n",
       "      <td>NaN</td>\n",
       "      <td>NaN</td>\n",
       "      <td>57.412028</td>\n",
       "    </tr>\n",
       "    <tr>\n",
       "      <th>0</th>\n",
       "      <td>NaN</td>\n",
       "      <td>0.020531</td>\n",
       "      <td>116.190476</td>\n",
       "      <td>18.333333</td>\n",
       "      <td>1000.0</td>\n",
       "      <td>0.00420</td>\n",
       "      <td>NaN</td>\n",
       "      <td>0.112691</td>\n",
       "      <td>0.00052</td>\n",
       "      <td>0.005632</td>\n",
       "      <td>0.00588</td>\n",
       "      <td>-62.618642</td>\n",
       "      <td>11</td>\n",
       "      <td>NaN</td>\n",
       "      <td>NaN</td>\n",
       "      <td>58.118392</td>\n",
       "    </tr>\n",
       "    <tr>\n",
       "      <th>0</th>\n",
       "      <td>NaN</td>\n",
       "      <td>0.021403</td>\n",
       "      <td>113.725490</td>\n",
       "      <td>18.333333</td>\n",
       "      <td>1020.0</td>\n",
       "      <td>0.00408</td>\n",
       "      <td>NaN</td>\n",
       "      <td>0.118982</td>\n",
       "      <td>0.00052</td>\n",
       "      <td>0.005504</td>\n",
       "      <td>0.00586</td>\n",
       "      <td>-62.590293</td>\n",
       "      <td>11</td>\n",
       "      <td>NaN</td>\n",
       "      <td>NaN</td>\n",
       "      <td>59.379727</td>\n",
       "    </tr>\n",
       "    <tr>\n",
       "      <th>0</th>\n",
       "      <td>NaN</td>\n",
       "      <td>0.023594</td>\n",
       "      <td>119.000000</td>\n",
       "      <td>18.333333</td>\n",
       "      <td>1040.0</td>\n",
       "      <td>0.00400</td>\n",
       "      <td>NaN</td>\n",
       "      <td>0.118761</td>\n",
       "      <td>0.00052</td>\n",
       "      <td>0.005520</td>\n",
       "      <td>0.00570</td>\n",
       "      <td>-62.343352</td>\n",
       "      <td>11</td>\n",
       "      <td>NaN</td>\n",
       "      <td>NaN</td>\n",
       "      <td>59.793826</td>\n",
       "    </tr>\n",
       "    <tr>\n",
       "      <th>0</th>\n",
       "      <td>NaN</td>\n",
       "      <td>0.019918</td>\n",
       "      <td>127.835052</td>\n",
       "      <td>18.333333</td>\n",
       "      <td>1060.0</td>\n",
       "      <td>0.00388</td>\n",
       "      <td>NaN</td>\n",
       "      <td>0.115717</td>\n",
       "      <td>0.00056</td>\n",
       "      <td>0.005484</td>\n",
       "      <td>0.00558</td>\n",
       "      <td>-62.349027</td>\n",
       "      <td>11</td>\n",
       "      <td>NaN</td>\n",
       "      <td>NaN</td>\n",
       "      <td>59.635956</td>\n",
       "    </tr>\n",
       "    <tr>\n",
       "      <th>0</th>\n",
       "      <td>NaN</td>\n",
       "      <td>0.021776</td>\n",
       "      <td>115.686275</td>\n",
       "      <td>18.333333</td>\n",
       "      <td>1080.0</td>\n",
       "      <td>0.00408</td>\n",
       "      <td>NaN</td>\n",
       "      <td>0.115109</td>\n",
       "      <td>0.00052</td>\n",
       "      <td>0.005464</td>\n",
       "      <td>0.00568</td>\n",
       "      <td>-62.389698</td>\n",
       "      <td>11</td>\n",
       "      <td>NaN</td>\n",
       "      <td>NaN</td>\n",
       "      <td>60.226820</td>\n",
       "    </tr>\n",
       "    <tr>\n",
       "      <th>0</th>\n",
       "      <td>NaN</td>\n",
       "      <td>0.026683</td>\n",
       "      <td>126.804124</td>\n",
       "      <td>18.333333</td>\n",
       "      <td>1100.0</td>\n",
       "      <td>0.00388</td>\n",
       "      <td>NaN</td>\n",
       "      <td>0.125530</td>\n",
       "      <td>0.00052</td>\n",
       "      <td>0.005580</td>\n",
       "      <td>0.00582</td>\n",
       "      <td>-62.434249</td>\n",
       "      <td>11</td>\n",
       "      <td>NaN</td>\n",
       "      <td>NaN</td>\n",
       "      <td>60.290519</td>\n",
       "    </tr>\n",
       "    <tr>\n",
       "      <th>0</th>\n",
       "      <td>NaN</td>\n",
       "      <td>0.022316</td>\n",
       "      <td>115.841584</td>\n",
       "      <td>18.333333</td>\n",
       "      <td>1120.0</td>\n",
       "      <td>0.00404</td>\n",
       "      <td>NaN</td>\n",
       "      <td>0.115187</td>\n",
       "      <td>0.00052</td>\n",
       "      <td>0.005500</td>\n",
       "      <td>0.00578</td>\n",
       "      <td>-62.386024</td>\n",
       "      <td>11</td>\n",
       "      <td>NaN</td>\n",
       "      <td>NaN</td>\n",
       "      <td>60.718410</td>\n",
       "    </tr>\n",
       "    <tr>\n",
       "      <th>0</th>\n",
       "      <td>NaN</td>\n",
       "      <td>0.026427</td>\n",
       "      <td>119.000000</td>\n",
       "      <td>18.333333</td>\n",
       "      <td>1140.0</td>\n",
       "      <td>0.00400</td>\n",
       "      <td>NaN</td>\n",
       "      <td>0.125168</td>\n",
       "      <td>0.00052</td>\n",
       "      <td>0.005572</td>\n",
       "      <td>0.00574</td>\n",
       "      <td>-62.367182</td>\n",
       "      <td>11</td>\n",
       "      <td>NaN</td>\n",
       "      <td>NaN</td>\n",
       "      <td>60.669173</td>\n",
       "    </tr>\n",
       "    <tr>\n",
       "      <th>0</th>\n",
       "      <td>NaN</td>\n",
       "      <td>0.025922</td>\n",
       "      <td>119.801980</td>\n",
       "      <td>16.666667</td>\n",
       "      <td>1160.0</td>\n",
       "      <td>0.00404</td>\n",
       "      <td>NaN</td>\n",
       "      <td>0.117345</td>\n",
       "      <td>0.00052</td>\n",
       "      <td>0.005489</td>\n",
       "      <td>0.00576</td>\n",
       "      <td>-62.393412</td>\n",
       "      <td>10</td>\n",
       "      <td>NaN</td>\n",
       "      <td>NaN</td>\n",
       "      <td>60.825549</td>\n",
       "    </tr>\n",
       "    <tr>\n",
       "      <th>0</th>\n",
       "      <td>NaN</td>\n",
       "      <td>0.023036</td>\n",
       "      <td>117.475728</td>\n",
       "      <td>18.333333</td>\n",
       "      <td>1180.0</td>\n",
       "      <td>0.00412</td>\n",
       "      <td>NaN</td>\n",
       "      <td>0.116494</td>\n",
       "      <td>0.00052</td>\n",
       "      <td>0.005640</td>\n",
       "      <td>0.00588</td>\n",
       "      <td>-62.317282</td>\n",
       "      <td>11</td>\n",
       "      <td>NaN</td>\n",
       "      <td>NaN</td>\n",
       "      <td>60.442254</td>\n",
       "    </tr>\n",
       "    <tr>\n",
       "      <th>0</th>\n",
       "      <td>NaN</td>\n",
       "      <td>0.022146</td>\n",
       "      <td>116.346154</td>\n",
       "      <td>18.333333</td>\n",
       "      <td>1200.0</td>\n",
       "      <td>0.00416</td>\n",
       "      <td>NaN</td>\n",
       "      <td>0.112407</td>\n",
       "      <td>0.00052</td>\n",
       "      <td>0.005584</td>\n",
       "      <td>0.00572</td>\n",
       "      <td>-62.388257</td>\n",
       "      <td>11</td>\n",
       "      <td>NaN</td>\n",
       "      <td>NaN</td>\n",
       "      <td>60.715683</td>\n",
       "    </tr>\n",
       "    <tr>\n",
       "      <th>0</th>\n",
       "      <td>NaN</td>\n",
       "      <td>0.024285</td>\n",
       "      <td>116.666667</td>\n",
       "      <td>18.333333</td>\n",
       "      <td>1220.0</td>\n",
       "      <td>0.00408</td>\n",
       "      <td>NaN</td>\n",
       "      <td>0.118558</td>\n",
       "      <td>0.00052</td>\n",
       "      <td>0.005604</td>\n",
       "      <td>0.00588</td>\n",
       "      <td>-62.276389</td>\n",
       "      <td>11</td>\n",
       "      <td>NaN</td>\n",
       "      <td>NaN</td>\n",
       "      <td>60.892373</td>\n",
       "    </tr>\n",
       "    <tr>\n",
       "      <th>0</th>\n",
       "      <td>NaN</td>\n",
       "      <td>0.025122</td>\n",
       "      <td>120.388350</td>\n",
       "      <td>18.333333</td>\n",
       "      <td>1240.0</td>\n",
       "      <td>0.00412</td>\n",
       "      <td>NaN</td>\n",
       "      <td>0.116378</td>\n",
       "      <td>0.00052</td>\n",
       "      <td>0.005652</td>\n",
       "      <td>0.00586</td>\n",
       "      <td>-62.308420</td>\n",
       "      <td>11</td>\n",
       "      <td>NaN</td>\n",
       "      <td>NaN</td>\n",
       "      <td>61.095547</td>\n",
       "    </tr>\n",
       "    <tr>\n",
       "      <th>0</th>\n",
       "      <td>NaN</td>\n",
       "      <td>0.025306</td>\n",
       "      <td>120.192308</td>\n",
       "      <td>16.666667</td>\n",
       "      <td>1260.0</td>\n",
       "      <td>0.00416</td>\n",
       "      <td>NaN</td>\n",
       "      <td>0.112480</td>\n",
       "      <td>0.00052</td>\n",
       "      <td>0.005560</td>\n",
       "      <td>0.00580</td>\n",
       "      <td>-62.138119</td>\n",
       "      <td>10</td>\n",
       "      <td>NaN</td>\n",
       "      <td>NaN</td>\n",
       "      <td>60.752612</td>\n",
       "    </tr>\n",
       "    <tr>\n",
       "      <th>0</th>\n",
       "      <td>NaN</td>\n",
       "      <td>0.026732</td>\n",
       "      <td>119.801980</td>\n",
       "      <td>16.666667</td>\n",
       "      <td>1280.0</td>\n",
       "      <td>0.00404</td>\n",
       "      <td>NaN</td>\n",
       "      <td>0.119460</td>\n",
       "      <td>0.00052</td>\n",
       "      <td>0.005502</td>\n",
       "      <td>0.00580</td>\n",
       "      <td>-62.310799</td>\n",
       "      <td>10</td>\n",
       "      <td>NaN</td>\n",
       "      <td>NaN</td>\n",
       "      <td>60.273491</td>\n",
       "    </tr>\n",
       "    <tr>\n",
       "      <th>0</th>\n",
       "      <td>NaN</td>\n",
       "      <td>0.022501</td>\n",
       "      <td>117.307692</td>\n",
       "      <td>18.333333</td>\n",
       "      <td>1300.0</td>\n",
       "      <td>0.00416</td>\n",
       "      <td>NaN</td>\n",
       "      <td>0.112517</td>\n",
       "      <td>0.00052</td>\n",
       "      <td>0.005604</td>\n",
       "      <td>0.00588</td>\n",
       "      <td>-62.141545</td>\n",
       "      <td>11</td>\n",
       "      <td>NaN</td>\n",
       "      <td>NaN</td>\n",
       "      <td>60.604967</td>\n",
       "    </tr>\n",
       "    <tr>\n",
       "      <th>0</th>\n",
       "      <td>NaN</td>\n",
       "      <td>0.022313</td>\n",
       "      <td>117.821782</td>\n",
       "      <td>18.333333</td>\n",
       "      <td>1320.0</td>\n",
       "      <td>0.00404</td>\n",
       "      <td>NaN</td>\n",
       "      <td>0.121790</td>\n",
       "      <td>0.00048</td>\n",
       "      <td>0.005580</td>\n",
       "      <td>0.00596</td>\n",
       "      <td>-62.137589</td>\n",
       "      <td>11</td>\n",
       "      <td>NaN</td>\n",
       "      <td>NaN</td>\n",
       "      <td>60.973164</td>\n",
       "    </tr>\n",
       "    <tr>\n",
       "      <th>0</th>\n",
       "      <td>NaN</td>\n",
       "      <td>0.021593</td>\n",
       "      <td>118.446602</td>\n",
       "      <td>18.333333</td>\n",
       "      <td>1340.0</td>\n",
       "      <td>0.00412</td>\n",
       "      <td>NaN</td>\n",
       "      <td>0.109144</td>\n",
       "      <td>0.00052</td>\n",
       "      <td>0.005564</td>\n",
       "      <td>0.00574</td>\n",
       "      <td>-61.932922</td>\n",
       "      <td>11</td>\n",
       "      <td>NaN</td>\n",
       "      <td>NaN</td>\n",
       "      <td>60.483176</td>\n",
       "    </tr>\n",
       "    <tr>\n",
       "      <th>0</th>\n",
       "      <td>NaN</td>\n",
       "      <td>0.026757</td>\n",
       "      <td>121.000000</td>\n",
       "      <td>18.333333</td>\n",
       "      <td>1360.0</td>\n",
       "      <td>0.00400</td>\n",
       "      <td>NaN</td>\n",
       "      <td>0.125018</td>\n",
       "      <td>0.00048</td>\n",
       "      <td>0.005636</td>\n",
       "      <td>0.00588</td>\n",
       "      <td>-61.949378</td>\n",
       "      <td>11</td>\n",
       "      <td>NaN</td>\n",
       "      <td>NaN</td>\n",
       "      <td>60.867991</td>\n",
       "    </tr>\n",
       "    <tr>\n",
       "      <th>0</th>\n",
       "      <td>NaN</td>\n",
       "      <td>0.011202</td>\n",
       "      <td>117.475728</td>\n",
       "      <td>18.333333</td>\n",
       "      <td>1380.0</td>\n",
       "      <td>0.00412</td>\n",
       "      <td>NaN</td>\n",
       "      <td>0.116925</td>\n",
       "      <td>0.00052</td>\n",
       "      <td>0.005540</td>\n",
       "      <td>0.00578</td>\n",
       "      <td>-62.057693</td>\n",
       "      <td>11</td>\n",
       "      <td>NaN</td>\n",
       "      <td>NaN</td>\n",
       "      <td>61.166242</td>\n",
       "    </tr>\n",
       "  </tbody>\n",
       "</table>\n",
       "<p>80 rows × 16 columns</p>\n",
       "</div>"
      ],
      "text/plain": [
       "       E_plat     adapt  adaptation_index    avg_rate  current  first_isi  \\\n",
       "0  -91.101843       NaN               NaN    0.000000   -200.0        NaN   \n",
       "0  -88.312217       NaN               NaN    0.000000   -180.0        NaN   \n",
       "0  -85.652386       NaN               NaN    0.000000   -160.0        NaN   \n",
       "0  -82.647944       NaN               NaN    0.000000   -140.0        NaN   \n",
       "0  -79.644557       NaN               NaN    1.666667   -120.0        NaN   \n",
       "0  -76.318241       NaN               NaN    1.666667   -100.0        NaN   \n",
       "0  -73.022337       NaN               NaN    0.000000    -80.0        NaN   \n",
       "0  -69.139054       NaN               NaN    0.000000    -60.0        NaN   \n",
       "0  -65.140975       NaN               NaN    0.000000    -40.0        NaN   \n",
       "0  -60.126410       NaN               NaN    0.000000    -20.0        NaN   \n",
       "0         NaN       NaN               NaN    0.000000      0.0        NaN   \n",
       "0         NaN       NaN               NaN    0.000000     20.0        NaN   \n",
       "0         NaN  0.006974        164.853896   16.666667     40.0    0.04928   \n",
       "0         NaN  0.007122        124.766977   30.000000     60.0    0.03004   \n",
       "0         NaN  0.006981        113.197026   40.000000     80.0    0.02152   \n",
       "0         NaN  0.001999        101.727862   46.666667    100.0    0.01852   \n",
       "0         NaN  0.004387        111.080332   56.666667    120.0    0.01444   \n",
       "0         NaN  0.004248        113.538462   61.666667    140.0    0.01300   \n",
       "0         NaN  0.006530        132.584270   65.000000    160.0    0.01068   \n",
       "0         NaN  0.006281        130.196078   68.333333    180.0    0.01020   \n",
       "0         NaN  0.005612        135.744681   73.333333    200.0    0.00940   \n",
       "0         NaN  0.005511        123.041475   81.666667    220.0    0.00868   \n",
       "0         NaN  0.002489        121.818182   85.000000    240.0    0.00880   \n",
       "0         NaN  0.003734        138.265306   90.000000    260.0    0.00784   \n",
       "0         NaN  0.003599        129.743590   93.333333    280.0    0.00780   \n",
       "0         NaN  0.005439        123.033708   96.666667    300.0    0.00712   \n",
       "0         NaN  0.004211        136.627907   98.333333    320.0    0.00688   \n",
       "0         NaN  0.004872        118.994413   98.333333    340.0    0.00716   \n",
       "0         NaN  0.005899        127.152318  100.000000    360.0    0.00604   \n",
       "0         NaN  0.005558        112.727273  100.000000    380.0    0.00660   \n",
       "..        ...       ...               ...         ...      ...        ...   \n",
       "0         NaN  0.031437        124.528302   31.666667    800.0    0.00424   \n",
       "0         NaN  0.015183        121.100917   28.333333    820.0    0.00436   \n",
       "0         NaN  0.014540        121.153846   28.333333    840.0    0.00416   \n",
       "0         NaN  0.015088        117.924528   25.000000    860.0    0.00424   \n",
       "0         NaN  0.015399        112.380952   23.333333    880.0    0.00420   \n",
       "0         NaN  0.016651        121.698113   21.666667    900.0    0.00424   \n",
       "0         NaN  0.013237        110.280374   25.000000    920.0    0.00428   \n",
       "0         NaN  0.018548        120.792079   21.666667    940.0    0.00404   \n",
       "0         NaN  0.021376        118.811881   20.000000    960.0    0.00404   \n",
       "0         NaN  0.022652        126.262626   18.333333    980.0    0.00396   \n",
       "0         NaN  0.020531        116.190476   18.333333   1000.0    0.00420   \n",
       "0         NaN  0.021403        113.725490   18.333333   1020.0    0.00408   \n",
       "0         NaN  0.023594        119.000000   18.333333   1040.0    0.00400   \n",
       "0         NaN  0.019918        127.835052   18.333333   1060.0    0.00388   \n",
       "0         NaN  0.021776        115.686275   18.333333   1080.0    0.00408   \n",
       "0         NaN  0.026683        126.804124   18.333333   1100.0    0.00388   \n",
       "0         NaN  0.022316        115.841584   18.333333   1120.0    0.00404   \n",
       "0         NaN  0.026427        119.000000   18.333333   1140.0    0.00400   \n",
       "0         NaN  0.025922        119.801980   16.666667   1160.0    0.00404   \n",
       "0         NaN  0.023036        117.475728   18.333333   1180.0    0.00412   \n",
       "0         NaN  0.022146        116.346154   18.333333   1200.0    0.00416   \n",
       "0         NaN  0.024285        116.666667   18.333333   1220.0    0.00408   \n",
       "0         NaN  0.025122        120.388350   18.333333   1240.0    0.00412   \n",
       "0         NaN  0.025306        120.192308   16.666667   1260.0    0.00416   \n",
       "0         NaN  0.026732        119.801980   16.666667   1280.0    0.00404   \n",
       "0         NaN  0.022501        117.307692   18.333333   1300.0    0.00416   \n",
       "0         NaN  0.022313        117.821782   18.333333   1320.0    0.00404   \n",
       "0         NaN  0.021593        118.446602   18.333333   1340.0    0.00412   \n",
       "0         NaN  0.026757        121.000000   18.333333   1360.0    0.00400   \n",
       "0         NaN  0.011202        117.475728   18.333333   1380.0    0.00412   \n",
       "\n",
       "    input_resistance    isi_cv  latency  mean_isi  median_isi  \\\n",
       "0         199.270332       NaN      NaN       NaN         NaN   \n",
       "0         214.636014       NaN      NaN       NaN         NaN   \n",
       "0         224.495623       NaN      NaN       NaN         NaN   \n",
       "0         232.718780       NaN      NaN       NaN         NaN   \n",
       "0                NaN       NaN  0.07816       NaN         NaN   \n",
       "0                NaN       NaN  0.46732       NaN         NaN   \n",
       "0         282.551499       NaN      NaN       NaN         NaN   \n",
       "0         288.402731       NaN      NaN       NaN         NaN   \n",
       "0         320.979813       NaN      NaN       NaN         NaN   \n",
       "0         362.151011       NaN      NaN       NaN         NaN   \n",
       "0                NaN       NaN      NaN       NaN         NaN   \n",
       "0         489.747497       NaN      NaN       NaN         NaN   \n",
       "0                NaN  0.168990  0.07160  0.058222     0.05760   \n",
       "0                NaN  0.090533  0.01056  0.033386     0.03256   \n",
       "0                NaN  0.095161  0.00884  0.025410     0.02480   \n",
       "0                NaN  0.078346  0.00820  0.021064     0.02132   \n",
       "0                NaN  0.097834  0.00596  0.017992     0.01820   \n",
       "0                NaN  0.081887  0.00572  0.016484     0.01626   \n",
       "0                NaN  0.095743  0.00500  0.015272     0.01526   \n",
       "0                NaN  0.092492  0.00564  0.014586     0.01474   \n",
       "0                NaN  0.092836  0.00492  0.013520     0.01360   \n",
       "0                NaN  0.090580  0.00416  0.012115     0.01202   \n",
       "0                NaN  0.094246  0.00288  0.011814     0.01170   \n",
       "0                NaN  0.079253  0.00352  0.011131     0.01096   \n",
       "0                NaN  0.085558  0.00340  0.010784     0.01064   \n",
       "0                NaN  0.085669  0.00328  0.010349     0.01032   \n",
       "0                NaN  0.109832  0.00320  0.010114     0.00992   \n",
       "0                NaN  0.174577  0.00300  0.010217     0.01002   \n",
       "0                NaN  0.147504  0.00284  0.009894     0.00972   \n",
       "0                NaN  0.142330  0.00264  0.010087     0.01016   \n",
       "..               ...       ...      ...       ...         ...   \n",
       "0                NaN  0.251358  0.00072  0.006407     0.00618   \n",
       "0                NaN  0.097109  0.00072  0.006085     0.00622   \n",
       "0                NaN  0.096308  0.00068  0.005953     0.00616   \n",
       "0                NaN  0.101929  0.00068  0.005920     0.00618   \n",
       "0                NaN  0.108824  0.00064  0.005748     0.00600   \n",
       "0                NaN  0.097093  0.00060  0.005790     0.00594   \n",
       "0                NaN  0.102492  0.00060  0.005729     0.00586   \n",
       "0                NaN  0.114751  0.00060  0.005687     0.00582   \n",
       "0                NaN  0.116996  0.00056  0.005665     0.00584   \n",
       "0                NaN  0.118166  0.00056  0.005596     0.00588   \n",
       "0                NaN  0.112691  0.00052  0.005632     0.00588   \n",
       "0                NaN  0.118982  0.00052  0.005504     0.00586   \n",
       "0                NaN  0.118761  0.00052  0.005520     0.00570   \n",
       "0                NaN  0.115717  0.00056  0.005484     0.00558   \n",
       "0                NaN  0.115109  0.00052  0.005464     0.00568   \n",
       "0                NaN  0.125530  0.00052  0.005580     0.00582   \n",
       "0                NaN  0.115187  0.00052  0.005500     0.00578   \n",
       "0                NaN  0.125168  0.00052  0.005572     0.00574   \n",
       "0                NaN  0.117345  0.00052  0.005489     0.00576   \n",
       "0                NaN  0.116494  0.00052  0.005640     0.00588   \n",
       "0                NaN  0.112407  0.00052  0.005584     0.00572   \n",
       "0                NaN  0.118558  0.00052  0.005604     0.00588   \n",
       "0                NaN  0.116378  0.00052  0.005652     0.00586   \n",
       "0                NaN  0.112480  0.00052  0.005560     0.00580   \n",
       "0                NaN  0.119460  0.00052  0.005502     0.00580   \n",
       "0                NaN  0.112517  0.00052  0.005604     0.00588   \n",
       "0                NaN  0.121790  0.00048  0.005580     0.00596   \n",
       "0                NaN  0.109144  0.00052  0.005564     0.00574   \n",
       "0                NaN  0.125018  0.00048  0.005636     0.00588   \n",
       "0                NaN  0.116925  0.00052  0.005540     0.00578   \n",
       "\n",
       "    resting_membrane_potential  spike_count       tau  v_baseline  \\\n",
       "0                   -54.897768            0  0.006455  -54.897768   \n",
       "0                   -52.708749            0  0.007022  -52.708749   \n",
       "0                   -52.636193            0  0.009061  -52.636193   \n",
       "0                   -53.007357            0  0.008949  -53.007357   \n",
       "0                   -52.825661            1  0.009931  -52.825661   \n",
       "0                   -52.931618            1  0.010404  -52.931618   \n",
       "0                   -52.794251            0  0.012114  -52.794251   \n",
       "0                   -53.799558            0  0.013563  -53.799558   \n",
       "0                   -53.701585            0  0.017697  -53.701585   \n",
       "0                   -53.772813            0  0.019902  -53.772813   \n",
       "0                   -54.019560            0       NaN         NaN   \n",
       "0                   -54.123945            0       NaN         NaN   \n",
       "0                   -55.032853           10       NaN         NaN   \n",
       "0                   -55.876704           18       NaN         NaN   \n",
       "0                   -57.107000           24       NaN         NaN   \n",
       "0                   -58.430372           28       NaN         NaN   \n",
       "0                   -59.080017           34       NaN         NaN   \n",
       "0                   -60.554455           37       NaN         NaN   \n",
       "0                   -61.167829           39       NaN         NaN   \n",
       "0                   -60.680824           41       NaN         NaN   \n",
       "0                   -62.997404           44       NaN         NaN   \n",
       "0                   -62.945691           49       NaN         NaN   \n",
       "0                   -60.305571           51       NaN         NaN   \n",
       "0                   -63.585383           54       NaN         NaN   \n",
       "0                   -63.847478           56       NaN         NaN   \n",
       "0                   -64.235804           58       NaN         NaN   \n",
       "0                   -64.315543           59       NaN         NaN   \n",
       "0                   -64.494034           59       NaN         NaN   \n",
       "0                   -64.236096           60       NaN         NaN   \n",
       "0                   -64.363579           60       NaN         NaN   \n",
       "..                         ...          ...       ...         ...   \n",
       "0                   -63.277329           19       NaN         NaN   \n",
       "0                   -63.207089           17       NaN         NaN   \n",
       "0                   -63.027628           17       NaN         NaN   \n",
       "0                   -63.037669           15       NaN         NaN   \n",
       "0                   -63.070659           14       NaN         NaN   \n",
       "0                   -62.936535           13       NaN         NaN   \n",
       "0                   -62.812483           15       NaN         NaN   \n",
       "0                   -62.521746           13       NaN         NaN   \n",
       "0                   -62.798454           12       NaN         NaN   \n",
       "0                   -62.600421           11       NaN         NaN   \n",
       "0                   -62.618642           11       NaN         NaN   \n",
       "0                   -62.590293           11       NaN         NaN   \n",
       "0                   -62.343352           11       NaN         NaN   \n",
       "0                   -62.349027           11       NaN         NaN   \n",
       "0                   -62.389698           11       NaN         NaN   \n",
       "0                   -62.434249           11       NaN         NaN   \n",
       "0                   -62.386024           11       NaN         NaN   \n",
       "0                   -62.367182           11       NaN         NaN   \n",
       "0                   -62.393412           10       NaN         NaN   \n",
       "0                   -62.317282           11       NaN         NaN   \n",
       "0                   -62.388257           11       NaN         NaN   \n",
       "0                   -62.276389           11       NaN         NaN   \n",
       "0                   -62.308420           11       NaN         NaN   \n",
       "0                   -62.138119           10       NaN         NaN   \n",
       "0                   -62.310799           10       NaN         NaN   \n",
       "0                   -62.141545           11       NaN         NaN   \n",
       "0                   -62.137589           11       NaN         NaN   \n",
       "0                   -61.932922           11       NaN         NaN   \n",
       "0                   -61.949378           11       NaN         NaN   \n",
       "0                   -62.057693           11       NaN         NaN   \n",
       "\n",
       "    voltage_deflection  \n",
       "0           -94.751835  \n",
       "0           -91.343231  \n",
       "0           -88.555492  \n",
       "0           -85.587986  \n",
       "0           -82.447827  \n",
       "0           -78.951702  \n",
       "0           -75.398371  \n",
       "0           -71.103722  \n",
       "0           -66.540778  \n",
       "0           -61.015833  \n",
       "0           -53.183883  \n",
       "0           -44.328995  \n",
       "0            37.240855  \n",
       "0            38.157947  \n",
       "0            38.597431  \n",
       "0            39.350681  \n",
       "0            39.272446  \n",
       "0            39.984092  \n",
       "0            39.261591  \n",
       "0            38.850132  \n",
       "0            38.844250  \n",
       "0            40.081982  \n",
       "0            41.497819  \n",
       "0            41.541528  \n",
       "0            41.752424  \n",
       "0            41.130405  \n",
       "0            40.779509  \n",
       "0            41.427836  \n",
       "0            40.945183  \n",
       "0            40.997341  \n",
       "..                 ...  \n",
       "0            53.661916  \n",
       "0            53.729050  \n",
       "0            54.834355  \n",
       "0            55.398311  \n",
       "0            56.195389  \n",
       "0            56.787521  \n",
       "0            57.882879  \n",
       "0            57.774924  \n",
       "0            57.204798  \n",
       "0            57.412028  \n",
       "0            58.118392  \n",
       "0            59.379727  \n",
       "0            59.793826  \n",
       "0            59.635956  \n",
       "0            60.226820  \n",
       "0            60.290519  \n",
       "0            60.718410  \n",
       "0            60.669173  \n",
       "0            60.825549  \n",
       "0            60.442254  \n",
       "0            60.715683  \n",
       "0            60.892373  \n",
       "0            61.095547  \n",
       "0            60.752612  \n",
       "0            60.273491  \n",
       "0            60.604967  \n",
       "0            60.973164  \n",
       "0            60.483176  \n",
       "0            60.867991  \n",
       "0            61.166242  \n",
       "\n",
       "[80 rows x 16 columns]"
      ]
     },
     "execution_count": 666,
     "metadata": {},
     "output_type": "execute_result"
    }
   ],
   "source": [
    "df_related_features"
   ]
  },
  {
   "cell_type": "code",
   "execution_count": 25,
   "metadata": {},
   "outputs": [],
   "source": [
    "def get_cell_features(df, df_related_features, curr_index_0, current_step = 20):\n",
    "    \"\"\" Analyse all the features available for the cell per spike and per current stimulation magnitude. Extract typical\n",
    "    features includig the resting membrane potential (Rm, mV), the input resistance (Ri, MOhm), the membrane time constant\n",
    "    (tau, ms), the action potential threshold (AP threshold, mV), the action potential amplitude (AP amplitude, mV),\n",
    "    the action potential half-width (AP half-width, ms), the afterhyperpolarisation (AHP, mV), the afterdepolarisation\n",
    "    (ADP, mV), the adaptation index (AI, %) and the maximum firing frequency (max freq, Hz).\n",
    "    \n",
    "    Parameters\n",
    "    ----------\n",
    "    df : DataFrame with information for every detected spike\n",
    "    df_related_features : DataFrame with information for every possible used current stimulation magnitude\n",
    "    curr_index_0 : integer of current index where the current = 0 pA\n",
    "    current_step : float, which current step (pA) has been used between consecutive experiments (optional, 20 by default)\n",
    "    Returns\n",
    "    ----------\n",
    "    Cell_Features : DataFrame with values for all required features mentioned above\n",
    "    \"\"\"\n",
    "\n",
    "    # We consider all hyperpolarisation traces but perform an average without outliers (outliers are defined as lying above\n",
    "    # or below 2 standard deviations from the mean) for tau, the resting membrane potential and the input resistance\n",
    "    tau_array = df_related_features['tau'].dropna().values\n",
    "    Rm_array = df_related_features['resting_membrane_potential'][:curr_index_0 + 1].dropna().values\n",
    "    Ri_array = df_related_features['input_resistance'].dropna().values\n",
    "    \n",
    "    mean_tau = np.mean(tau_array, axis = 0)\n",
    "    mean_Rm = np.mean(Rm_array, axis = 0)\n",
    "    mean_Ri = np.mean(Ri_array, axis = 0)\n",
    "    \n",
    "    sd_tau = np.std(tau_array, axis = 0)\n",
    "    sd_Rm = np.std(Rm_array, axis = 0)\n",
    "    sd_Ri = np.std(Ri_array, axis = 0)\n",
    "\n",
    "    tau_array_non_outliers = [x for x in tau_array if (x > mean_tau - 2*sd_tau)]\n",
    "    Rm_array_non_outliers = [x for x in Rm_array if (x > mean_Rm - 2*sd_Rm)]\n",
    "    Ri_array_non_outliers = [x for x in Ri_array if (x > mean_Ri - 2*sd_Ri)]\n",
    "    tau_array_non_outliers = [x for x in tau_array_non_outliers if (x < mean_tau + 2*sd_tau)]\n",
    "    Rm_array_non_outliers = [x for x in Rm_array_non_outliers if (x < mean_Rm + 2*sd_Rm)]\n",
    "    Ri_array_non_outliers = [x for x in Ri_array_non_outliers if (x < mean_Ri + 2*sd_Ri)]\n",
    "    \n",
    "    tau = np.mean(np.array(tau_array_non_outliers))*1000\n",
    "    Rm = np.mean(np.array(Rm_array_non_outliers))\n",
    "    Ri = np.mean(np.array(Ri_array_non_outliers))\n",
    "    \n",
    "    if not df.empty:\n",
    "        max_freq = np.max(df_related_features['spike_count'].values)\n",
    "        \n",
    "        non_nan_indexes_AI = ~np.isnan(df_related_features['adaptation_index'].values)\n",
    "        \n",
    "        if non_nan_indexes_AI.any():\n",
    "            # We need an AI where the current is positive and non-NaN\n",
    "            index_df_related_features = np.max([np.flatnonzero(df_related_features['current'].values > 0)[0], \\\n",
    "                                                np.flatnonzero(~np.isnan(df_related_features['adaptation_index'].values))[0]])\n",
    "            AI = df_related_features['adaptation_index'].values[index_df_related_features]\n",
    "        else:\n",
    "            AI = 0\n",
    "            \n",
    "        # First index where there is a spike and the current stimulation magnitude is positive\n",
    "        index_df =  np.where(df.loc[0]['fast_trough_i'].values > 0)[0][0]\n",
    "        \n",
    "        non_nan_indexes_ahp = ~np.isnan(df.loc[0]['fast_trough_v'])\n",
    "        if non_nan_indexes_ahp.any():\n",
    "            AHP = df.loc[0]['fast_trough_v'].values[index_df] - df.loc[0]['threshold_v'].values[index_df]\n",
    "            # Only first peak is considered\n",
    "            \n",
    "            #valid_indexes = AHP_fast < 0 # This excludes the possible strange appearing thresholds for the peaks towards high\n",
    "            #                     # stimulation current magnitudes\n",
    "            #AHP = np.nanmean(AHP_fast[valid_indexes])\n",
    "        else:\n",
    "            AHP = 0\n",
    "    \n",
    "        # ADP (after changing a threshold delta_t (i.e. ADP should be shorter in time than this value): by default value set\n",
    "        # in ephys_features.py from 0.005 to 0.01 !!!!!!!!!!)\n",
    "        # Calculated w.r.t. AHP index!!!\n",
    "        non_nan_indexes_adp = ~np.isnan(df.loc[0]['adp_v'])\n",
    "        if non_nan_indexes_adp.any():\n",
    "            ADP = df.loc[0]['adp_v'].values[index_df] - df.loc[0]['fast_trough_v'].values[index_df] # Only first peak is considered\n",
    "            #valid_indexes = ADP_values > 0 # Will also make the Nan's false but we can still\n",
    "            #          #do np.nanmean in the end\n",
    "            #ADP = np.nanmean(ADP_values)\n",
    "        else:\n",
    "            ADP = 0\n",
    "        non_nan_indexes_thresh = ~np.isnan(df.loc[0]['threshold_v'])\n",
    "        if non_nan_indexes_thresh.any():\n",
    "            if df.loc[0]['threshold_v'].size > 1:\n",
    "                AP_threshold = df.loc[0]['threshold_v'].values[index_df] # Only first peak is considered\n",
    "                AP_amplitude = df.loc[0]['peak_height'].values[index_df] # Only first peak is considered\n",
    "                AP_half_width = 1000*df.loc[0]['width'].values[index_df] # Only first peak is considered\n",
    "            else:\n",
    "                AP_threshold = df.loc[0]['threshold_v'] # Only first peak is considered\n",
    "                AP_amplitude = df.loc[0]['peak_height'] # Only first peak is considered\n",
    "                AP_half_width = 1000*df.loc[0]['width'] # Only first peak is considered\n",
    "            #if df.ix[0]['threshold_v'].size > 1:\n",
    "            #    threshold_v = df.ix[0]['threshold_v'].values\n",
    "            #    valid_indexes = np.abs(threshold_v - Rm) > 15\n",
    "            #    AP_threshold = np.nanmean(df.ix[0]['threshold_v'].values[valid_indexes]) # df.ix[0] to include first peaks only\n",
    "            #    # TODO: Random threshold 15 used right now to exclude wrong calculated threshold_v's (due to steep depolarisations e.g.)\n",
    "            #\n",
    "            #    AP_amplitude = np.nanmean(df.ix[0]['peak_height'].values[valid_indexes]) # only valid thresholds taken into account\n",
    "\n",
    "    \n",
    "            #    AP_half_width = 1000*np.nanmean(df.ix[0]['width'].values[valid_indexes]) # only valid thresholds taken into account\n",
    "            #else: # The size is just one --> requirs a different way of working with the Dataframe\n",
    "            #    AP_threshold = df.ix[0]['threshold_v']\n",
    "            #    AP_amplitude = df.ix[0]['peak_height']\n",
    "            #    AP_half_width = df.ix[0]['width']\n",
    "            #    if (AP_threshold - Rm) < 15: # Excluded from the analysis, usually these are non-bursting so this shouldn't be true\n",
    "            #        AP_threshold = 0\n",
    "            #        AP_amplitude = 0\n",
    "            #        AP_half_width = 0\n",
    "            \n",
    "        else:\n",
    "            AP_threshold = 0\n",
    "            AP_amplitude = 0\n",
    "            AP_half_width = 0\n",
    "    else:\n",
    "        AHP = 0\n",
    "        ADP = 0\n",
    "        max_freq = 0\n",
    "        AI = 0\n",
    "        AP_threshold = 0\n",
    "        AP_amplitude = 0\n",
    "        AP_half_width = 0\n",
    "    \n",
    "    name_features = ['Rm (mV)', 'Input res (MOhm)', 'tau (ms)', 'AP threshold (mV)', 'AP amplitude (mV)', 'AP half-width (ms)', \\\n",
    "                 'AHP (mV)', 'ADP (mV)', 'AI (%)', 'MAX freq']\n",
    "    features = [Rm, Ri, tau, AP_threshold, AP_amplitude, AP_half_width, AHP, ADP, AI, max_freq]\n",
    "    cell_features = dict(zip(name_features, features))\n",
    "    Cell_Features = pd.DataFrame([cell_features])\n",
    "    Cell_Features = Cell_Features.reindex(columns = name_features)\n",
    "    return Cell_Features"
   ]
  },
  {
   "cell_type": "code",
   "execution_count": 13,
   "metadata": {},
   "outputs": [
    {
     "ename": "NameError",
     "evalue": "name 'df' is not defined",
     "output_type": "error",
     "traceback": [
      "\u001b[0;31m---------------------------------------------------------------------------\u001b[0m",
      "\u001b[0;31mNameError\u001b[0m                                 Traceback (most recent call last)",
      "\u001b[0;32m<ipython-input-13-4da3503c0421>\u001b[0m in \u001b[0;36m<module>\u001b[0;34m()\u001b[0m\n\u001b[0;32m----> 1\u001b[0;31m \u001b[0mCell_Features\u001b[0m \u001b[0;34m=\u001b[0m \u001b[0mget_cell_features\u001b[0m\u001b[0;34m(\u001b[0m\u001b[0mdf\u001b[0m\u001b[0;34m,\u001b[0m \u001b[0mdf_related_features\u001b[0m\u001b[0;34m,\u001b[0m \u001b[0mcurr_index_0\u001b[0m\u001b[0;34m)\u001b[0m\u001b[0;34m\u001b[0m\u001b[0m\n\u001b[0m",
      "\u001b[0;31mNameError\u001b[0m: name 'df' is not defined"
     ]
    }
   ],
   "source": [
    "Cell_Features = get_cell_features(df, df_related_features, curr_index_0)"
   ]
  },
  {
   "cell_type": "code",
   "execution_count": 703,
   "metadata": {},
   "outputs": [
    {
     "data": {
      "text/html": [
       "<div>\n",
       "<style scoped>\n",
       "    .dataframe tbody tr th:only-of-type {\n",
       "        vertical-align: middle;\n",
       "    }\n",
       "\n",
       "    .dataframe tbody tr th {\n",
       "        vertical-align: top;\n",
       "    }\n",
       "\n",
       "    .dataframe thead th {\n",
       "        text-align: right;\n",
       "    }\n",
       "</style>\n",
       "<table border=\"1\" class=\"dataframe\">\n",
       "  <thead>\n",
       "    <tr style=\"text-align: right;\">\n",
       "      <th></th>\n",
       "      <th>Rm (mV)</th>\n",
       "      <th>Input res (MOhm)</th>\n",
       "      <th>tau (ms)</th>\n",
       "      <th>AP threshold (mV)</th>\n",
       "      <th>AP amplitude (mV)</th>\n",
       "      <th>AP half-width (ms)</th>\n",
       "      <th>AHP (mV)</th>\n",
       "      <th>ADP (mV)</th>\n",
       "      <th>AI (%)</th>\n",
       "      <th>MAX freq</th>\n",
       "    </tr>\n",
       "  </thead>\n",
       "  <tbody>\n",
       "    <tr>\n",
       "      <th>0</th>\n",
       "      <td>-58.711567</td>\n",
       "      <td>125.859651</td>\n",
       "      <td>7.241362</td>\n",
       "      <td>-52.435864</td>\n",
       "      <td>76.939225</td>\n",
       "      <td>0.6</td>\n",
       "      <td>-5.02824</td>\n",
       "      <td>3.785606</td>\n",
       "      <td>25.192012</td>\n",
       "      <td>126</td>\n",
       "    </tr>\n",
       "  </tbody>\n",
       "</table>\n",
       "</div>"
      ],
      "text/plain": [
       "     Rm (mV)  Input res (MOhm)  tau (ms)  AP threshold (mV)  \\\n",
       "0 -58.711567        125.859651  7.241362         -52.435864   \n",
       "\n",
       "   AP amplitude (mV)  AP half-width (ms)  AHP (mV)  ADP (mV)     AI (%)  \\\n",
       "0          76.939225                 0.6  -5.02824  3.785606  25.192012   \n",
       "\n",
       "   MAX freq  \n",
       "0       126  "
      ]
     },
     "execution_count": 703,
     "metadata": {},
     "output_type": "execute_result"
    }
   ],
   "source": [
    "Cell_Features"
   ]
  },
  {
   "cell_type": "code",
   "execution_count": 26,
   "metadata": {},
   "outputs": [],
   "source": [
    "def cell_features(data_tuple, names, el_num = 2, current_step = 20):\n",
    "    \"\"\" Analyses a stream of cell dictionaries and outputs all the cell's features in a concatenated DataFrame\n",
    "    Parameters\n",
    "    ----------\n",
    "    data_tuple : tuple of dictionaries of data full of voltage (V) and time (s) traces for different cells\n",
    "    names : tuple of names of the samples\n",
    "    el_num : integer, from which electrode number has been measured (optional, 2 by default)\n",
    "    current_step : float, which current step (pA) has been used between consecutive experiments (optional, 20 by default)\n",
    "    \n",
    "    Returns\n",
    "    -------\n",
    "    All_Cells_Features : DataFrame with values for all required features mentioned in get_cell_features\n",
    "    \"\"\"\n",
    "    All_Cells_Features = pd.DataFrame()\n",
    "    for (data, name) in zip(data_tuple, names):\n",
    "        print('Processing: ', name)\n",
    "        time, current, voltage, curr_index_0 = data_preparation(data)\n",
    "        filter_ = 10\n",
    "        if (1/time[1]-time[0]) < 20e3:\n",
    "            filter_ = (1/time[1]-time[0])/(1e3*2)-0.5\n",
    "        df, df_related_features = extract_spike_features(time, current, voltage)\n",
    "        Cell_Features = get_cell_features(df, df_related_features, curr_index_0)\n",
    "        All_Cells_Features = pd.concat([All_Cells_Features, Cell_Features])\n",
    "    All_Cells_Features.insert(0, 'name sample', names)\n",
    "    return All_Cells_Features.fillna(0)       # Nan values can be considered as 0 for AHP, ADP, ..."
   ]
  },
  {
   "cell_type": "code",
   "execution_count": 17,
   "metadata": {},
   "outputs": [
    {
     "name": "stdout",
     "output_type": "stream",
     "text": [
      "Processing:  ../L4/data/09 19 2018/09 19 2018 sample 7.mat\n"
     ]
    },
    {
     "name": "stderr",
     "output_type": "stream",
     "text": [
      "/gpfs01/berens/user/ybernaerts/EphysAnalysis/data/ephys/code/ephys_features.py:944: RuntimeWarning: invalid value encountered in sqrt\n",
      "  rsme = np.sqrt(np.mean(pred - v_window))\n"
     ]
    },
    {
     "name": "stdout",
     "output_type": "stream",
     "text": [
      "Processing:  ../L4/data/09 19 2018/09 19 2018 sample 22.mat\n"
     ]
    },
    {
     "name": "stderr",
     "output_type": "stream",
     "text": [
      "/gpfs01/berens/user/ybernaerts/EphysAnalysis/data/ephys/code/ephys_features.py:944: RuntimeWarning: invalid value encountered in sqrt\n",
      "  rsme = np.sqrt(np.mean(pred - v_window))\n"
     ]
    },
    {
     "name": "stdout",
     "output_type": "stream",
     "text": [
      "Processing:  ../L4/data/09 19 2018/09 19 2018 sample 8.mat\n"
     ]
    },
    {
     "name": "stderr",
     "output_type": "stream",
     "text": [
      "/gpfs01/berens/user/ybernaerts/EphysAnalysis/data/ephys/code/ephys_features.py:944: RuntimeWarning: invalid value encountered in sqrt\n",
      "  rsme = np.sqrt(np.mean(pred - v_window))\n"
     ]
    },
    {
     "name": "stdout",
     "output_type": "stream",
     "text": [
      "Processing:  ../L4/data/09 19 2018/09 19 2018 sample 18.mat\n"
     ]
    },
    {
     "name": "stderr",
     "output_type": "stream",
     "text": [
      "/gpfs01/berens/user/ybernaerts/EphysAnalysis/data/ephys/code/ephys_features.py:944: RuntimeWarning: invalid value encountered in sqrt\n",
      "  rsme = np.sqrt(np.mean(pred - v_window))\n"
     ]
    },
    {
     "name": "stdout",
     "output_type": "stream",
     "text": [
      "Processing:  ../L4/data/09 19 2018/09 19 2018 sample 19.mat\n"
     ]
    },
    {
     "name": "stderr",
     "output_type": "stream",
     "text": [
      "/gpfs01/berens/user/ybernaerts/EphysAnalysis/data/ephys/code/ephys_features.py:944: RuntimeWarning: invalid value encountered in sqrt\n",
      "  rsme = np.sqrt(np.mean(pred - v_window))\n"
     ]
    },
    {
     "name": "stdout",
     "output_type": "stream",
     "text": [
      "Processing:  ../L4/data/09 19 2018/09 19 2018 sample 11.mat\n",
      "Processing:  ../L4/data/09 19 2018/09 19 2018 sample 2.mat\n"
     ]
    },
    {
     "name": "stderr",
     "output_type": "stream",
     "text": [
      "/gpfs01/berens/user/ybernaerts/EphysAnalysis/data/ephys/code/ephys_features.py:944: RuntimeWarning: invalid value encountered in sqrt\n",
      "  rsme = np.sqrt(np.mean(pred - v_window))\n"
     ]
    },
    {
     "name": "stdout",
     "output_type": "stream",
     "text": [
      "Processing:  ../L4/data/09 19 2018/09 19 2018 sample 10.mat\n"
     ]
    },
    {
     "name": "stderr",
     "output_type": "stream",
     "text": [
      "/gpfs01/berens/user/ybernaerts/EphysAnalysis/data/ephys/code/ephys_features.py:944: RuntimeWarning: invalid value encountered in sqrt\n",
      "  rsme = np.sqrt(np.mean(pred - v_window))\n"
     ]
    },
    {
     "name": "stdout",
     "output_type": "stream",
     "text": [
      "Processing:  ../L4/data/09 19 2018/09 19 2018 sample 16.mat\n",
      "Processing:  ../L4/data/09 19 2018/09 19 2018 sample 9.mat\n"
     ]
    },
    {
     "name": "stderr",
     "output_type": "stream",
     "text": [
      "/gpfs01/berens/user/ybernaerts/EphysAnalysis/data/ephys/code/ephys_features.py:944: RuntimeWarning: invalid value encountered in sqrt\n",
      "  rsme = np.sqrt(np.mean(pred - v_window))\n"
     ]
    },
    {
     "name": "stdout",
     "output_type": "stream",
     "text": [
      "Processing:  ../L4/data/09 19 2018/09 19 2018 sample 25.mat\n",
      "Processing:  ../L4/data/09 19 2018/09 19 2018 sample 17.mat\n",
      "Processing:  ../L4/data/09 19 2018/09 19 2018 sample 14.mat\n"
     ]
    },
    {
     "name": "stderr",
     "output_type": "stream",
     "text": [
      "/gpfs01/berens/user/ybernaerts/EphysAnalysis/data/ephys/code/ephys_features.py:944: RuntimeWarning: invalid value encountered in sqrt\n",
      "  rsme = np.sqrt(np.mean(pred - v_window))\n"
     ]
    },
    {
     "name": "stdout",
     "output_type": "stream",
     "text": [
      "Processing:  ../L4/data/09 19 2018/09 19 2018 sample 6.mat\n",
      "Processing:  ../L4/data/09 19 2018/09 19 2018 sample 3.mat\n"
     ]
    },
    {
     "name": "stderr",
     "output_type": "stream",
     "text": [
      "/gpfs01/berens/user/ybernaerts/EphysAnalysis/data/ephys/code/ephys_features.py:944: RuntimeWarning: invalid value encountered in sqrt\n",
      "  rsme = np.sqrt(np.mean(pred - v_window))\n"
     ]
    },
    {
     "name": "stdout",
     "output_type": "stream",
     "text": [
      "Processing:  ../L4/data/09 19 2018/09 19 2018 sample 20.mat\n",
      "Processing:  ../L4/data/09 19 2018/09 19 2018 sample 15.mat\n"
     ]
    },
    {
     "name": "stderr",
     "output_type": "stream",
     "text": [
      "/gpfs01/berens/user/ybernaerts/EphysAnalysis/data/ephys/code/ephys_features.py:944: RuntimeWarning: invalid value encountered in sqrt\n",
      "  rsme = np.sqrt(np.mean(pred - v_window))\n"
     ]
    },
    {
     "name": "stdout",
     "output_type": "stream",
     "text": [
      "Processing:  ../L4/data/09 19 2018/09 19 2018 sample 4.mat\n",
      "Processing:  ../L4/data/09 19 2018/09 19 2018 sample 13.mat\n",
      "Processing:  ../L4/data/09 19 2018/09 19 2018 sample 1.mat\n",
      "Processing:  ../L4/data/09 19 2018/09 19 2018 sample 21.mat\n"
     ]
    },
    {
     "name": "stderr",
     "output_type": "stream",
     "text": [
      "/gpfs01/berens/user/ybernaerts/EphysAnalysis/data/ephys/code/ephys_features.py:944: RuntimeWarning: invalid value encountered in sqrt\n",
      "  rsme = np.sqrt(np.mean(pred - v_window))\n"
     ]
    },
    {
     "name": "stdout",
     "output_type": "stream",
     "text": [
      "Processing:  ../L4/data/09 19 2018/09 19 2018 sample 23.mat\n"
     ]
    },
    {
     "name": "stderr",
     "output_type": "stream",
     "text": [
      "/gpfs01/berens/user/ybernaerts/EphysAnalysis/data/ephys/code/ephys_features.py:944: RuntimeWarning: invalid value encountered in sqrt\n",
      "  rsme = np.sqrt(np.mean(pred - v_window))\n"
     ]
    },
    {
     "name": "stdout",
     "output_type": "stream",
     "text": [
      "Processing:  ../L4/data/06 05 2018/06 05 2018 sample 15.mat\n"
     ]
    },
    {
     "name": "stderr",
     "output_type": "stream",
     "text": [
      "/gpfs01/berens/user/ybernaerts/EphysAnalysis/data/ephys/code/ephys_features.py:944: RuntimeWarning: invalid value encountered in sqrt\n",
      "  rsme = np.sqrt(np.mean(pred - v_window))\n"
     ]
    },
    {
     "name": "stdout",
     "output_type": "stream",
     "text": [
      "Processing:  ../L4/data/06 05 2018/06 05 2018 sample 3.mat\n"
     ]
    },
    {
     "name": "stderr",
     "output_type": "stream",
     "text": [
      "/gpfs01/berens/user/ybernaerts/EphysAnalysis/data/ephys/code/ephys_features.py:944: RuntimeWarning: invalid value encountered in sqrt\n",
      "  rsme = np.sqrt(np.mean(pred - v_window))\n"
     ]
    },
    {
     "name": "stdout",
     "output_type": "stream",
     "text": [
      "Processing:  ../L4/data/06 05 2018/06 05 2018 sample 18.mat\n",
      "Processing:  ../L4/data/06 05 2018/06 05 2018 sample 16.mat\n"
     ]
    },
    {
     "name": "stderr",
     "output_type": "stream",
     "text": [
      "/gpfs01/berens/user/ybernaerts/EphysAnalysis/data/ephys/code/ephys_features.py:944: RuntimeWarning: invalid value encountered in sqrt\n",
      "  rsme = np.sqrt(np.mean(pred - v_window))\n"
     ]
    },
    {
     "name": "stdout",
     "output_type": "stream",
     "text": [
      "Processing:  ../L4/data/06 05 2018/06 05 2018 sample 2.mat\n"
     ]
    },
    {
     "name": "stderr",
     "output_type": "stream",
     "text": [
      "/gpfs01/berens/user/ybernaerts/EphysAnalysis/data/ephys/code/ephys_features.py:944: RuntimeWarning: invalid value encountered in sqrt\n",
      "  rsme = np.sqrt(np.mean(pred - v_window))\n"
     ]
    },
    {
     "name": "stdout",
     "output_type": "stream",
     "text": [
      "Processing:  ../L4/data/06 05 2018/06 05 2018 sample 17.mat\n"
     ]
    },
    {
     "name": "stderr",
     "output_type": "stream",
     "text": [
      "/gpfs01/berens/user/ybernaerts/EphysAnalysis/data/ephys/code/ephys_features.py:944: RuntimeWarning: invalid value encountered in sqrt\n",
      "  rsme = np.sqrt(np.mean(pred - v_window))\n"
     ]
    },
    {
     "name": "stdout",
     "output_type": "stream",
     "text": [
      "Processing:  ../L4/data/06 05 2018/06 05 2018 sample 20.mat\n",
      "Processing:  ../L4/data/06 05 2018/06 05 2018 sample 5.mat\n"
     ]
    },
    {
     "name": "stderr",
     "output_type": "stream",
     "text": [
      "/gpfs01/berens/user/ybernaerts/EphysAnalysis/data/ephys/code/ephys_features.py:944: RuntimeWarning: invalid value encountered in sqrt\n",
      "  rsme = np.sqrt(np.mean(pred - v_window))\n"
     ]
    },
    {
     "name": "stdout",
     "output_type": "stream",
     "text": [
      "Processing:  ../L4/data/06 05 2018/06 05 2018 sample 10.mat\n",
      "Processing:  ../L4/data/06 05 2018/06 05 2018 sample 12.mat\n"
     ]
    },
    {
     "name": "stderr",
     "output_type": "stream",
     "text": [
      "/gpfs01/berens/user/ybernaerts/EphysAnalysis/data/ephys/code/ephys_features.py:944: RuntimeWarning: invalid value encountered in sqrt\n",
      "  rsme = np.sqrt(np.mean(pred - v_window))\n"
     ]
    },
    {
     "name": "stdout",
     "output_type": "stream",
     "text": [
      "Processing:  ../L4/data/06 05 2018/06 05 2018 sample 11.mat\n"
     ]
    },
    {
     "name": "stderr",
     "output_type": "stream",
     "text": [
      "/gpfs01/berens/user/ybernaerts/EphysAnalysis/data/ephys/code/ephys_features.py:944: RuntimeWarning: invalid value encountered in sqrt\n",
      "  rsme = np.sqrt(np.mean(pred - v_window))\n"
     ]
    },
    {
     "name": "stdout",
     "output_type": "stream",
     "text": [
      "Processing:  ../L4/data/06 05 2018/06 05 2018 sample 1.mat\n",
      "Processing:  ../L4/data/06 05 2018/06 05 2018 sample 14.mat\n",
      "Processing:  ../L4/data/06 05 2018/06 05 2018 sample 13.mat\n"
     ]
    },
    {
     "name": "stderr",
     "output_type": "stream",
     "text": [
      "/usr/local/lib/python3.5/dist-packages/ipykernel_launcher.py:57: RuntimeWarning: invalid value encountered in greater\n",
      "/gpfs01/berens/user/ybernaerts/EphysAnalysis/data/ephys/code/ephys_features.py:944: RuntimeWarning: invalid value encountered in sqrt\n",
      "  rsme = np.sqrt(np.mean(pred - v_window))\n"
     ]
    },
    {
     "name": "stdout",
     "output_type": "stream",
     "text": [
      "Processing:  ../L4/data/06 05 2018/06 05 2018 sample 7.mat\n",
      "Processing:  ../L4/data/06 05 2018/06 05 2018 sample 6.mat\n"
     ]
    },
    {
     "name": "stderr",
     "output_type": "stream",
     "text": [
      "/gpfs01/berens/user/ybernaerts/EphysAnalysis/data/ephys/code/ephys_features.py:944: RuntimeWarning: invalid value encountered in sqrt\n",
      "  rsme = np.sqrt(np.mean(pred - v_window))\n"
     ]
    },
    {
     "name": "stdout",
     "output_type": "stream",
     "text": [
      "Processing:  ../L4/data/06 05 2018/06 05 2018 sample 19.mat\n"
     ]
    },
    {
     "name": "stderr",
     "output_type": "stream",
     "text": [
      "/gpfs01/berens/user/ybernaerts/EphysAnalysis/data/ephys/code/ephys_features.py:944: RuntimeWarning: invalid value encountered in sqrt\n",
      "  rsme = np.sqrt(np.mean(pred - v_window))\n",
      "/usr/local/lib/python3.5/dist-packages/ipykernel_launcher.py:57: RuntimeWarning: invalid value encountered in greater\n",
      "/gpfs01/berens/user/ybernaerts/EphysAnalysis/data/ephys/code/ephys_features.py:944: RuntimeWarning: invalid value encountered in sqrt\n",
      "  rsme = np.sqrt(np.mean(pred - v_window))\n"
     ]
    },
    {
     "name": "stdout",
     "output_type": "stream",
     "text": [
      "Processing:  ../L4/data/06 05 2018/06 05 2018 sample 4.mat\n",
      "Processing:  ../L4/data/06 26 2018/06 26 2018 sample 4.mat\n"
     ]
    },
    {
     "name": "stderr",
     "output_type": "stream",
     "text": [
      "/gpfs01/berens/user/ybernaerts/EphysAnalysis/data/ephys/code/ephys_features.py:944: RuntimeWarning: invalid value encountered in sqrt\n",
      "  rsme = np.sqrt(np.mean(pred - v_window))\n"
     ]
    },
    {
     "name": "stdout",
     "output_type": "stream",
     "text": [
      "Processing:  ../L4/data/06 26 2018/06 26 2018 sample 18.mat\n"
     ]
    },
    {
     "name": "stderr",
     "output_type": "stream",
     "text": [
      "/gpfs01/berens/user/ybernaerts/EphysAnalysis/data/ephys/code/ephys_features.py:944: RuntimeWarning: invalid value encountered in sqrt\n",
      "  rsme = np.sqrt(np.mean(pred - v_window))\n"
     ]
    },
    {
     "name": "stdout",
     "output_type": "stream",
     "text": [
      "Processing:  ../L4/data/06 26 2018/06 26 2018 sample 13.mat\n"
     ]
    },
    {
     "name": "stderr",
     "output_type": "stream",
     "text": [
      "/gpfs01/berens/user/ybernaerts/EphysAnalysis/data/ephys/code/ephys_features.py:944: RuntimeWarning: invalid value encountered in sqrt\n",
      "  rsme = np.sqrt(np.mean(pred - v_window))\n"
     ]
    },
    {
     "name": "stdout",
     "output_type": "stream",
     "text": [
      "Processing:  ../L4/data/06 26 2018/06 26 2018 sample 11.mat\n"
     ]
    },
    {
     "name": "stderr",
     "output_type": "stream",
     "text": [
      "/gpfs01/berens/user/ybernaerts/EphysAnalysis/data/ephys/code/ephys_features.py:944: RuntimeWarning: invalid value encountered in sqrt\n",
      "  rsme = np.sqrt(np.mean(pred - v_window))\n"
     ]
    },
    {
     "name": "stdout",
     "output_type": "stream",
     "text": [
      "Processing:  ../L4/data/06 26 2018/06 26 2018 sample 2.mat\n"
     ]
    },
    {
     "name": "stderr",
     "output_type": "stream",
     "text": [
      "/gpfs01/berens/user/ybernaerts/EphysAnalysis/data/ephys/code/ephys_features.py:944: RuntimeWarning: invalid value encountered in sqrt\n",
      "  rsme = np.sqrt(np.mean(pred - v_window))\n"
     ]
    },
    {
     "name": "stdout",
     "output_type": "stream",
     "text": [
      "Processing:  ../L4/data/06 26 2018/06 26 2018 sample 7.mat\n"
     ]
    },
    {
     "name": "stderr",
     "output_type": "stream",
     "text": [
      "/gpfs01/berens/user/ybernaerts/EphysAnalysis/data/ephys/code/ephys_features.py:944: RuntimeWarning: invalid value encountered in sqrt\n",
      "  rsme = np.sqrt(np.mean(pred - v_window))\n"
     ]
    },
    {
     "name": "stdout",
     "output_type": "stream",
     "text": [
      "Processing:  ../L4/data/06 26 2018/06 26 2018 sample 5.mat\n"
     ]
    },
    {
     "name": "stderr",
     "output_type": "stream",
     "text": [
      "/gpfs01/berens/user/ybernaerts/EphysAnalysis/data/ephys/code/ephys_features.py:944: RuntimeWarning: invalid value encountered in sqrt\n",
      "  rsme = np.sqrt(np.mean(pred - v_window))\n",
      "/usr/local/lib/python3.5/dist-packages/ipykernel_launcher.py:57: RuntimeWarning: invalid value encountered in greater\n",
      "/gpfs01/berens/user/ybernaerts/EphysAnalysis/data/ephys/code/ephys_features.py:944: RuntimeWarning: invalid value encountered in sqrt\n",
      "  rsme = np.sqrt(np.mean(pred - v_window))\n"
     ]
    },
    {
     "name": "stdout",
     "output_type": "stream",
     "text": [
      "Processing:  ../L4/data/06 26 2018/06 26 2018 sample 9.mat\n",
      "Processing:  ../L4/data/06 26 2018/06 26 2018 sample 15.mat\n"
     ]
    },
    {
     "name": "stderr",
     "output_type": "stream",
     "text": [
      "/gpfs01/berens/user/ybernaerts/EphysAnalysis/data/ephys/code/ephys_features.py:944: RuntimeWarning: invalid value encountered in sqrt\n",
      "  rsme = np.sqrt(np.mean(pred - v_window))\n"
     ]
    },
    {
     "name": "stdout",
     "output_type": "stream",
     "text": [
      "Processing:  ../L4/data/06 26 2018/06 26 2018 sample 10.mat\n"
     ]
    },
    {
     "name": "stderr",
     "output_type": "stream",
     "text": [
      "/gpfs01/berens/user/ybernaerts/EphysAnalysis/data/ephys/code/ephys_features.py:944: RuntimeWarning: invalid value encountered in sqrt\n",
      "  rsme = np.sqrt(np.mean(pred - v_window))\n"
     ]
    },
    {
     "name": "stdout",
     "output_type": "stream",
     "text": [
      "Processing:  ../L4/data/06 26 2018/06 26 2018 sample 1.mat\n"
     ]
    },
    {
     "name": "stderr",
     "output_type": "stream",
     "text": [
      "/gpfs01/berens/user/ybernaerts/EphysAnalysis/data/ephys/code/ephys_features.py:944: RuntimeWarning: invalid value encountered in sqrt\n",
      "  rsme = np.sqrt(np.mean(pred - v_window))\n"
     ]
    },
    {
     "name": "stdout",
     "output_type": "stream",
     "text": [
      "Processing:  ../L4/data/06 26 2018/06 26 2018 sample 14.mat\n"
     ]
    },
    {
     "name": "stderr",
     "output_type": "stream",
     "text": [
      "/gpfs01/berens/user/ybernaerts/EphysAnalysis/data/ephys/code/ephys_features.py:944: RuntimeWarning: invalid value encountered in sqrt\n",
      "  rsme = np.sqrt(np.mean(pred - v_window))\n"
     ]
    },
    {
     "name": "stdout",
     "output_type": "stream",
     "text": [
      "Processing:  ../L4/data/06 26 2018/06 26 2018 sample 8.mat\n"
     ]
    },
    {
     "name": "stderr",
     "output_type": "stream",
     "text": [
      "/gpfs01/berens/user/ybernaerts/EphysAnalysis/data/ephys/code/ephys_features.py:944: RuntimeWarning: invalid value encountered in sqrt\n",
      "  rsme = np.sqrt(np.mean(pred - v_window))\n"
     ]
    },
    {
     "name": "stdout",
     "output_type": "stream",
     "text": [
      "Processing:  ../L4/data/06 26 2018/06 26 2018 sample 17.mat\n",
      "Processing:  ../L4/data/06 26 2018/06 26 2018 sample 6.mat\n",
      "Processing:  ../L4/data/06 26 2018/06 26 2018 sample 12.mat\n"
     ]
    },
    {
     "name": "stderr",
     "output_type": "stream",
     "text": [
      "/gpfs01/berens/user/ybernaerts/EphysAnalysis/data/ephys/code/ephys_features.py:944: RuntimeWarning: invalid value encountered in sqrt\n",
      "  rsme = np.sqrt(np.mean(pred - v_window))\n"
     ]
    },
    {
     "name": "stdout",
     "output_type": "stream",
     "text": [
      "Processing:  ../L4/data/06 26 2018/06 26 2018 sample 16.mat\n"
     ]
    },
    {
     "name": "stderr",
     "output_type": "stream",
     "text": [
      "/gpfs01/berens/user/ybernaerts/EphysAnalysis/data/ephys/code/ephys_features.py:944: RuntimeWarning: invalid value encountered in sqrt\n",
      "  rsme = np.sqrt(np.mean(pred - v_window))\n"
     ]
    },
    {
     "name": "stdout",
     "output_type": "stream",
     "text": [
      "Processing:  ../L4/data/06 26 2018/06 26 2018 sample 3.mat\n"
     ]
    },
    {
     "name": "stderr",
     "output_type": "stream",
     "text": [
      "/gpfs01/berens/user/ybernaerts/EphysAnalysis/data/ephys/code/ephys_features.py:944: RuntimeWarning: invalid value encountered in sqrt\n",
      "  rsme = np.sqrt(np.mean(pred - v_window))\n"
     ]
    },
    {
     "name": "stdout",
     "output_type": "stream",
     "text": [
      "Processing:  ../L4/data/07 05 2018/07 05 2018 sample 6.mat\n"
     ]
    },
    {
     "name": "stderr",
     "output_type": "stream",
     "text": [
      "/gpfs01/berens/user/ybernaerts/EphysAnalysis/data/ephys/code/ephys_features.py:944: RuntimeWarning: invalid value encountered in sqrt\n",
      "  rsme = np.sqrt(np.mean(pred - v_window))\n"
     ]
    },
    {
     "name": "stdout",
     "output_type": "stream",
     "text": [
      "Processing:  ../L4/data/07 05 2018/07 05 2018 sample 8.mat\n"
     ]
    },
    {
     "name": "stderr",
     "output_type": "stream",
     "text": [
      "/gpfs01/berens/user/ybernaerts/EphysAnalysis/data/ephys/code/ephys_features.py:944: RuntimeWarning: invalid value encountered in sqrt\n",
      "  rsme = np.sqrt(np.mean(pred - v_window))\n"
     ]
    },
    {
     "name": "stdout",
     "output_type": "stream",
     "text": [
      "Processing:  ../L4/data/07 05 2018/07 05 2018 sample 9.mat\n",
      "Processing:  ../L4/data/07 05 2018/07 05 2018 sample 1.mat\n"
     ]
    },
    {
     "name": "stderr",
     "output_type": "stream",
     "text": [
      "/gpfs01/berens/user/ybernaerts/EphysAnalysis/data/ephys/code/ephys_features.py:944: RuntimeWarning: invalid value encountered in sqrt\n",
      "  rsme = np.sqrt(np.mean(pred - v_window))\n",
      "/usr/local/lib/python3.5/dist-packages/ipykernel_launcher.py:57: RuntimeWarning: invalid value encountered in greater\n"
     ]
    },
    {
     "name": "stdout",
     "output_type": "stream",
     "text": [
      "Processing:  ../L4/data/07 05 2018/07 05 2018 sample 3.mat\n",
      "Processing:  ../L4/data/07 05 2018/07 05 2018 sample 2.mat\n"
     ]
    },
    {
     "name": "stderr",
     "output_type": "stream",
     "text": [
      "/gpfs01/berens/user/ybernaerts/EphysAnalysis/data/ephys/code/ephys_features.py:944: RuntimeWarning: invalid value encountered in sqrt\n",
      "  rsme = np.sqrt(np.mean(pred - v_window))\n",
      "/usr/local/lib/python3.5/dist-packages/ipykernel_launcher.py:57: RuntimeWarning: invalid value encountered in greater\n",
      "/gpfs01/berens/user/ybernaerts/EphysAnalysis/data/ephys/code/ephys_features.py:944: RuntimeWarning: invalid value encountered in sqrt\n",
      "  rsme = np.sqrt(np.mean(pred - v_window))\n"
     ]
    },
    {
     "name": "stdout",
     "output_type": "stream",
     "text": [
      "Processing:  ../L4/data/07 05 2018/07 05 2018 sample 7.mat\n",
      "Processing:  ../L4/data/07 05 2018/07 05 2018 sample 10.mat\n"
     ]
    },
    {
     "name": "stderr",
     "output_type": "stream",
     "text": [
      "/gpfs01/berens/user/ybernaerts/EphysAnalysis/data/ephys/code/ephys_features.py:944: RuntimeWarning: invalid value encountered in sqrt\n",
      "  rsme = np.sqrt(np.mean(pred - v_window))\n"
     ]
    },
    {
     "name": "stdout",
     "output_type": "stream",
     "text": [
      "Processing:  ../L4/data/07 05 2018/07 05 2018 sample 4.mat\n"
     ]
    },
    {
     "name": "stderr",
     "output_type": "stream",
     "text": [
      "/gpfs01/berens/user/ybernaerts/EphysAnalysis/data/ephys/code/ephys_features.py:944: RuntimeWarning: invalid value encountered in sqrt\n",
      "  rsme = np.sqrt(np.mean(pred - v_window))\n"
     ]
    },
    {
     "name": "stdout",
     "output_type": "stream",
     "text": [
      "Processing:  ../L4/data/07 05 2018/07 05 2018 sample 5.mat\n",
      "Processing:  ../L4/data/06 27 2018/06 27 2018 sample 4.mat\n"
     ]
    },
    {
     "name": "stderr",
     "output_type": "stream",
     "text": [
      "/gpfs01/berens/user/ybernaerts/EphysAnalysis/data/ephys/code/ephys_features.py:944: RuntimeWarning: invalid value encountered in sqrt\n",
      "  rsme = np.sqrt(np.mean(pred - v_window))\n"
     ]
    },
    {
     "name": "stdout",
     "output_type": "stream",
     "text": [
      "Processing:  ../L4/data/06 27 2018/06 27 2018 sample 13.mat\n"
     ]
    },
    {
     "name": "stderr",
     "output_type": "stream",
     "text": [
      "/gpfs01/berens/user/ybernaerts/EphysAnalysis/data/ephys/code/ephys_features.py:944: RuntimeWarning: invalid value encountered in sqrt\n",
      "  rsme = np.sqrt(np.mean(pred - v_window))\n"
     ]
    },
    {
     "name": "stdout",
     "output_type": "stream",
     "text": [
      "Processing:  ../L4/data/06 27 2018/06 27 2018 sample 9.mat\n"
     ]
    },
    {
     "name": "stderr",
     "output_type": "stream",
     "text": [
      "/gpfs01/berens/user/ybernaerts/EphysAnalysis/data/ephys/code/ephys_features.py:944: RuntimeWarning: invalid value encountered in sqrt\n",
      "  rsme = np.sqrt(np.mean(pred - v_window))\n"
     ]
    },
    {
     "name": "stdout",
     "output_type": "stream",
     "text": [
      "Processing:  ../L4/data/06 27 2018/06 27 2018 sample 7.mat\n"
     ]
    },
    {
     "name": "stderr",
     "output_type": "stream",
     "text": [
      "/gpfs01/berens/user/ybernaerts/EphysAnalysis/data/ephys/code/ephys_features.py:944: RuntimeWarning: invalid value encountered in sqrt\n",
      "  rsme = np.sqrt(np.mean(pred - v_window))\n"
     ]
    },
    {
     "name": "stdout",
     "output_type": "stream",
     "text": [
      "Processing:  ../L4/data/06 27 2018/06 27 2018 sample 11.mat\n",
      "Processing:  ../L4/data/06 27 2018/06 27 2018 sample 3.mat\n",
      "Processing:  ../L4/data/06 27 2018/06 27 2018 sample 10.mat\n"
     ]
    },
    {
     "name": "stderr",
     "output_type": "stream",
     "text": [
      "/gpfs01/berens/user/ybernaerts/EphysAnalysis/data/ephys/code/ephys_features.py:944: RuntimeWarning: invalid value encountered in sqrt\n",
      "  rsme = np.sqrt(np.mean(pred - v_window))\n"
     ]
    },
    {
     "name": "stdout",
     "output_type": "stream",
     "text": [
      "Processing:  ../L4/data/06 27 2018/06 27 2018 sample 1.mat\n"
     ]
    },
    {
     "name": "stderr",
     "output_type": "stream",
     "text": [
      "/gpfs01/berens/user/ybernaerts/EphysAnalysis/data/ephys/code/ephys_features.py:944: RuntimeWarning: invalid value encountered in sqrt\n",
      "  rsme = np.sqrt(np.mean(pred - v_window))\n"
     ]
    },
    {
     "name": "stdout",
     "output_type": "stream",
     "text": [
      "Processing:  ../L4/data/06 27 2018/06 27 2018 sample 12.mat\n"
     ]
    },
    {
     "name": "stderr",
     "output_type": "stream",
     "text": [
      "/gpfs01/berens/user/ybernaerts/EphysAnalysis/data/ephys/code/ephys_features.py:944: RuntimeWarning: invalid value encountered in sqrt\n",
      "  rsme = np.sqrt(np.mean(pred - v_window))\n"
     ]
    },
    {
     "name": "stdout",
     "output_type": "stream",
     "text": [
      "Processing:  ../L4/data/06 27 2018/06 27 2018 sample 14.mat\n"
     ]
    },
    {
     "name": "stderr",
     "output_type": "stream",
     "text": [
      "/gpfs01/berens/user/ybernaerts/EphysAnalysis/data/ephys/code/ephys_features.py:944: RuntimeWarning: invalid value encountered in sqrt\n",
      "  rsme = np.sqrt(np.mean(pred - v_window))\n"
     ]
    },
    {
     "name": "stdout",
     "output_type": "stream",
     "text": [
      "Processing:  ../L4/data/06 27 2018/06 27 2018 sample 5.mat\n"
     ]
    },
    {
     "name": "stderr",
     "output_type": "stream",
     "text": [
      "/gpfs01/berens/user/ybernaerts/EphysAnalysis/data/ephys/code/ephys_features.py:944: RuntimeWarning: invalid value encountered in sqrt\n",
      "  rsme = np.sqrt(np.mean(pred - v_window))\n"
     ]
    },
    {
     "name": "stdout",
     "output_type": "stream",
     "text": [
      "Processing:  ../L4/data/06 27 2018/06 27 2018 sample 8.mat\n"
     ]
    },
    {
     "name": "stderr",
     "output_type": "stream",
     "text": [
      "/gpfs01/berens/user/ybernaerts/EphysAnalysis/data/ephys/code/ephys_features.py:944: RuntimeWarning: invalid value encountered in sqrt\n",
      "  rsme = np.sqrt(np.mean(pred - v_window))\n"
     ]
    },
    {
     "name": "stdout",
     "output_type": "stream",
     "text": [
      "Processing:  ../L4/data/06 27 2018/06 27 2018 sample 6.mat\n",
      "Processing:  ../L4/data/07 03 2018/07 03 2018 sample 12.mat\n",
      "Processing:  ../L4/data/07 03 2018/07 03 2018 sample 15.mat\n"
     ]
    },
    {
     "name": "stderr",
     "output_type": "stream",
     "text": [
      "/gpfs01/berens/user/ybernaerts/EphysAnalysis/data/ephys/code/ephys_features.py:944: RuntimeWarning: invalid value encountered in sqrt\n",
      "  rsme = np.sqrt(np.mean(pred - v_window))\n"
     ]
    },
    {
     "name": "stdout",
     "output_type": "stream",
     "text": [
      "Processing:  ../L4/data/07 03 2018/07 03 2018 sample 4.mat\n"
     ]
    },
    {
     "name": "stderr",
     "output_type": "stream",
     "text": [
      "/usr/local/lib/python3.5/dist-packages/ipykernel_launcher.py:57: RuntimeWarning: invalid value encountered in greater\n",
      "/gpfs01/berens/user/ybernaerts/EphysAnalysis/data/ephys/code/ephys_features.py:944: RuntimeWarning: invalid value encountered in sqrt\n",
      "  rsme = np.sqrt(np.mean(pred - v_window))\n"
     ]
    },
    {
     "name": "stdout",
     "output_type": "stream",
     "text": [
      "Processing:  ../L4/data/07 03 2018/07 03 2018 sample 11.mat\n",
      "Processing:  ../L4/data/07 03 2018/07 03 2018 sample 8.mat\n",
      "Processing:  ../L4/data/07 03 2018/07 03 2018 sample 1.mat\n"
     ]
    },
    {
     "name": "stderr",
     "output_type": "stream",
     "text": [
      "/gpfs01/berens/user/ybernaerts/EphysAnalysis/data/ephys/code/ephys_features.py:944: RuntimeWarning: invalid value encountered in sqrt\n",
      "  rsme = np.sqrt(np.mean(pred - v_window))\n",
      "/usr/local/lib/python3.5/dist-packages/ipykernel_launcher.py:57: RuntimeWarning: invalid value encountered in greater\n",
      "/gpfs01/berens/user/ybernaerts/EphysAnalysis/data/ephys/code/ephys_features.py:944: RuntimeWarning: invalid value encountered in sqrt\n",
      "  rsme = np.sqrt(np.mean(pred - v_window))\n"
     ]
    },
    {
     "name": "stdout",
     "output_type": "stream",
     "text": [
      "Processing:  ../L4/data/07 03 2018/07 03 2018 sample 7.mat\n",
      "Processing:  ../L4/data/07 03 2018/07 03 2018 sample 13.mat\n"
     ]
    },
    {
     "name": "stderr",
     "output_type": "stream",
     "text": [
      "/gpfs01/berens/user/ybernaerts/EphysAnalysis/data/ephys/code/ephys_features.py:944: RuntimeWarning: invalid value encountered in sqrt\n",
      "  rsme = np.sqrt(np.mean(pred - v_window))\n"
     ]
    },
    {
     "name": "stdout",
     "output_type": "stream",
     "text": [
      "Processing:  ../L4/data/07 03 2018/07 03 2018 sample 9.mat\n",
      "Processing:  ../L4/data/07 03 2018/07 03 2018 sample 14.mat\n",
      "Processing:  ../L4/data/07 03 2018/07 03 2018 sample 18.mat\n"
     ]
    },
    {
     "name": "stderr",
     "output_type": "stream",
     "text": [
      "/gpfs01/berens/user/ybernaerts/EphysAnalysis/data/ephys/code/ephys_features.py:944: RuntimeWarning: invalid value encountered in sqrt\n",
      "  rsme = np.sqrt(np.mean(pred - v_window))\n"
     ]
    },
    {
     "name": "stdout",
     "output_type": "stream",
     "text": [
      "Processing:  ../L4/data/07 03 2018/07 03 2018 sample 16.mat\n",
      "Processing:  ../L4/data/07 03 2018/07 03 2018 sample 6.mat\n"
     ]
    },
    {
     "name": "stderr",
     "output_type": "stream",
     "text": [
      "/gpfs01/berens/user/ybernaerts/EphysAnalysis/data/ephys/code/ephys_features.py:944: RuntimeWarning: invalid value encountered in sqrt\n",
      "  rsme = np.sqrt(np.mean(pred - v_window))\n"
     ]
    },
    {
     "name": "stdout",
     "output_type": "stream",
     "text": [
      "Processing:  ../L4/data/07 03 2018/07 03 2018 sample 3.mat\n"
     ]
    },
    {
     "name": "stderr",
     "output_type": "stream",
     "text": [
      "/gpfs01/berens/user/ybernaerts/EphysAnalysis/data/ephys/code/ephys_features.py:944: RuntimeWarning: invalid value encountered in sqrt\n",
      "  rsme = np.sqrt(np.mean(pred - v_window))\n"
     ]
    },
    {
     "name": "stdout",
     "output_type": "stream",
     "text": [
      "Processing:  ../L4/data/07 03 2018/07 03 2018 sample 2.mat\n",
      "Processing:  ../L4/data/07 03 2018/07 03 2018 sample 5.mat\n"
     ]
    },
    {
     "name": "stderr",
     "output_type": "stream",
     "text": [
      "/gpfs01/berens/user/ybernaerts/EphysAnalysis/data/ephys/code/ephys_features.py:944: RuntimeWarning: invalid value encountered in sqrt\n",
      "  rsme = np.sqrt(np.mean(pred - v_window))\n"
     ]
    },
    {
     "name": "stdout",
     "output_type": "stream",
     "text": [
      "Processing:  ../L4/data/07 03 2018/07 03 2018 sample 17.mat\n"
     ]
    },
    {
     "name": "stderr",
     "output_type": "stream",
     "text": [
      "/gpfs01/berens/user/ybernaerts/EphysAnalysis/data/ephys/code/ephys_features.py:944: RuntimeWarning: invalid value encountered in sqrt\n",
      "  rsme = np.sqrt(np.mean(pred - v_window))\n",
      "/usr/local/lib/python3.5/dist-packages/ipykernel_launcher.py:57: RuntimeWarning: invalid value encountered in greater\n"
     ]
    },
    {
     "name": "stdout",
     "output_type": "stream",
     "text": [
      "Processing:  ../L4/data/09 21 2018/09 21 2018 sample 3.mat\n"
     ]
    },
    {
     "name": "stderr",
     "output_type": "stream",
     "text": [
      "/gpfs01/berens/user/ybernaerts/EphysAnalysis/data/ephys/code/ephys_features.py:944: RuntimeWarning: invalid value encountered in sqrt\n",
      "  rsme = np.sqrt(np.mean(pred - v_window))\n"
     ]
    },
    {
     "name": "stdout",
     "output_type": "stream",
     "text": [
      "Processing:  ../L4/data/09 21 2018/09 21 2018 sample 4.mat\n",
      "Processing:  ../L4/data/09 21 2018/09 21 2018 sample 1.mat\n"
     ]
    },
    {
     "name": "stderr",
     "output_type": "stream",
     "text": [
      "/gpfs01/berens/user/ybernaerts/EphysAnalysis/data/ephys/code/ephys_features.py:944: RuntimeWarning: invalid value encountered in sqrt\n",
      "  rsme = np.sqrt(np.mean(pred - v_window))\n"
     ]
    },
    {
     "name": "stdout",
     "output_type": "stream",
     "text": [
      "Processing:  ../L4/data/09 21 2018/09 21 2018 sample 5.mat\n"
     ]
    },
    {
     "name": "stderr",
     "output_type": "stream",
     "text": [
      "/gpfs01/berens/user/ybernaerts/EphysAnalysis/data/ephys/code/ephys_features.py:944: RuntimeWarning: invalid value encountered in sqrt\n",
      "  rsme = np.sqrt(np.mean(pred - v_window))\n"
     ]
    },
    {
     "name": "stdout",
     "output_type": "stream",
     "text": [
      "Processing:  ../L4/data/09 21 2018/09 21 2018 sample 2.mat\n"
     ]
    },
    {
     "name": "stderr",
     "output_type": "stream",
     "text": [
      "/gpfs01/berens/user/ybernaerts/EphysAnalysis/data/ephys/code/ephys_features.py:944: RuntimeWarning: invalid value encountered in sqrt\n",
      "  rsme = np.sqrt(np.mean(pred - v_window))\n"
     ]
    },
    {
     "name": "stdout",
     "output_type": "stream",
     "text": [
      "Processing:  ../L4/data/09 21 2018/09 21 2018 sample 6.mat\n"
     ]
    },
    {
     "name": "stderr",
     "output_type": "stream",
     "text": [
      "/gpfs01/berens/user/ybernaerts/EphysAnalysis/data/ephys/code/ephys_features.py:944: RuntimeWarning: invalid value encountered in sqrt\n",
      "  rsme = np.sqrt(np.mean(pred - v_window))\n"
     ]
    },
    {
     "name": "stdout",
     "output_type": "stream",
     "text": [
      "Processing:  ../L4/data/09 21 2018/09 21 2018 sample 8.mat\n"
     ]
    },
    {
     "name": "stderr",
     "output_type": "stream",
     "text": [
      "/gpfs01/berens/user/ybernaerts/EphysAnalysis/data/ephys/code/ephys_features.py:944: RuntimeWarning: invalid value encountered in sqrt\n",
      "  rsme = np.sqrt(np.mean(pred - v_window))\n"
     ]
    },
    {
     "name": "stdout",
     "output_type": "stream",
     "text": [
      "Processing:  ../L4/data/06 04 2018/06 04 2018 sample 2.mat\n"
     ]
    },
    {
     "name": "stderr",
     "output_type": "stream",
     "text": [
      "/gpfs01/berens/user/ybernaerts/EphysAnalysis/data/ephys/code/ephys_features.py:944: RuntimeWarning: invalid value encountered in sqrt\n",
      "  rsme = np.sqrt(np.mean(pred - v_window))\n"
     ]
    },
    {
     "name": "stdout",
     "output_type": "stream",
     "text": [
      "Processing:  ../L4/data/06 04 2018/06 04 2018 sample 3.mat\n"
     ]
    },
    {
     "name": "stderr",
     "output_type": "stream",
     "text": [
      "/gpfs01/berens/user/ybernaerts/EphysAnalysis/data/ephys/code/ephys_features.py:944: RuntimeWarning: invalid value encountered in sqrt\n",
      "  rsme = np.sqrt(np.mean(pred - v_window))\n"
     ]
    },
    {
     "name": "stdout",
     "output_type": "stream",
     "text": [
      "Processing:  ../L4/data/06 04 2018/06 04 2018 sample 1.mat\n"
     ]
    },
    {
     "name": "stderr",
     "output_type": "stream",
     "text": [
      "/gpfs01/berens/user/ybernaerts/EphysAnalysis/data/ephys/code/ephys_features.py:944: RuntimeWarning: invalid value encountered in sqrt\n",
      "  rsme = np.sqrt(np.mean(pred - v_window))\n"
     ]
    },
    {
     "name": "stdout",
     "output_type": "stream",
     "text": [
      "Processing:  ../L4/data/09 20 2018/09 20 2018 sample 4.mat\n"
     ]
    },
    {
     "name": "stderr",
     "output_type": "stream",
     "text": [
      "/gpfs01/berens/user/ybernaerts/EphysAnalysis/data/ephys/code/ephys_features.py:944: RuntimeWarning: invalid value encountered in sqrt\n",
      "  rsme = np.sqrt(np.mean(pred - v_window))\n"
     ]
    },
    {
     "name": "stdout",
     "output_type": "stream",
     "text": [
      "Processing:  ../L4/data/09 20 2018/09 20 2018 sample 9.mat\n",
      "Processing:  ../L4/data/09 20 2018/09 20 2018 sample 10.mat\n"
     ]
    },
    {
     "name": "stderr",
     "output_type": "stream",
     "text": [
      "/gpfs01/berens/user/ybernaerts/EphysAnalysis/data/ephys/code/ephys_features.py:944: RuntimeWarning: invalid value encountered in sqrt\n",
      "  rsme = np.sqrt(np.mean(pred - v_window))\n"
     ]
    },
    {
     "name": "stdout",
     "output_type": "stream",
     "text": [
      "Processing:  ../L4/data/09 20 2018/09 20 2018 sample 3.mat\n"
     ]
    },
    {
     "name": "stderr",
     "output_type": "stream",
     "text": [
      "/gpfs01/berens/user/ybernaerts/EphysAnalysis/data/ephys/code/ephys_features.py:944: RuntimeWarning: invalid value encountered in sqrt\n",
      "  rsme = np.sqrt(np.mean(pred - v_window))\n"
     ]
    },
    {
     "name": "stdout",
     "output_type": "stream",
     "text": [
      "Processing:  ../L4/data/09 20 2018/09 20 2018 sample 7.mat\n",
      "Processing:  ../L4/data/09 20 2018/09 20 2018 sample 5.mat\n"
     ]
    },
    {
     "name": "stderr",
     "output_type": "stream",
     "text": [
      "/usr/local/lib/python3.5/dist-packages/numpy/core/fromnumeric.py:2957: RuntimeWarning: Mean of empty slice.\n",
      "  out=out, **kwargs)\n",
      "/usr/local/lib/python3.5/dist-packages/numpy/core/_methods.py:80: RuntimeWarning: invalid value encountered in double_scalars\n",
      "  ret = ret.dtype.type(ret / rcount)\n",
      "/usr/local/lib/python3.5/dist-packages/numpy/core/_methods.py:135: RuntimeWarning: Degrees of freedom <= 0 for slice\n",
      "  keepdims=keepdims)\n",
      "/usr/local/lib/python3.5/dist-packages/numpy/core/_methods.py:105: RuntimeWarning: invalid value encountered in true_divide\n",
      "  arrmean, rcount, out=arrmean, casting='unsafe', subok=False)\n",
      "/usr/local/lib/python3.5/dist-packages/numpy/core/_methods.py:127: RuntimeWarning: invalid value encountered in double_scalars\n",
      "  ret = ret.dtype.type(ret / rcount)\n",
      "/gpfs01/berens/user/ybernaerts/EphysAnalysis/data/ephys/code/ephys_features.py:944: RuntimeWarning: invalid value encountered in sqrt\n",
      "  rsme = np.sqrt(np.mean(pred - v_window))\n"
     ]
    },
    {
     "name": "stdout",
     "output_type": "stream",
     "text": [
      "Processing:  ../L4/data/09 20 2018/09 20 2018 sample 12.mat\n",
      "Processing:  ../L4/data/09 20 2018/09 20 2018 sample 11.mat\n",
      "Processing:  ../L4/data/09 20 2018/09 20 2018 sample 1.mat\n",
      "Processing:  ../L4/data/09 20 2018/09 20 2018 sample 2.mat\n"
     ]
    },
    {
     "name": "stderr",
     "output_type": "stream",
     "text": [
      "/gpfs01/berens/user/ybernaerts/EphysAnalysis/data/ephys/code/ephys_features.py:944: RuntimeWarning: invalid value encountered in sqrt\n",
      "  rsme = np.sqrt(np.mean(pred - v_window))\n"
     ]
    },
    {
     "name": "stdout",
     "output_type": "stream",
     "text": [
      "Processing:  ../L4/data/09 20 2018/09 20 2018 sample 6.mat\n"
     ]
    },
    {
     "name": "stderr",
     "output_type": "stream",
     "text": [
      "/gpfs01/berens/user/ybernaerts/EphysAnalysis/data/ephys/code/ephys_features.py:944: RuntimeWarning: invalid value encountered in sqrt\n",
      "  rsme = np.sqrt(np.mean(pred - v_window))\n"
     ]
    }
   ],
   "source": [
    "All_Cells_Features_L4 = cell_features(L4, L4_names)\n",
    "All_Cells_Features_L4.to_csv('../L4/L4Data/Cell_Features_L4.csv')"
   ]
  },
  {
   "cell_type": "code",
   "execution_count": 125,
   "metadata": {},
   "outputs": [
    {
     "name": "stdout",
     "output_type": "stream",
     "text": [
      "Processing:  ../L4/ReAnalysis/data/S1 layer 4 non Martinotti/2018 21 09 slice 1 sample 6 (non-martinotti S1).mat\n",
      "Processing:  ../L4/ReAnalysis/data/S1 layer 4 non Martinotti/2018 26 06 slice 1 sample 15 (non-martinotti S1).mat\n"
     ]
    },
    {
     "name": "stderr",
     "output_type": "stream",
     "text": [
      "/gpfs01/berens/user/ybernaerts/EphysAnalysis/data/ephys/code/ephys_features.py:944: RuntimeWarning: invalid value encountered in sqrt\n",
      "  rsme = np.sqrt(np.mean(pred - v_window))\n"
     ]
    },
    {
     "name": "stdout",
     "output_type": "stream",
     "text": [
      "Processing:  ../L4/ReAnalysis/data/S1 layer 4 non Martinotti/2018 26 06 slice 1 sample 16 (non-martinotti S1).mat\n"
     ]
    },
    {
     "name": "stderr",
     "output_type": "stream",
     "text": [
      "/gpfs01/berens/user/ybernaerts/EphysAnalysis/data/ephys/code/ephys_features.py:944: RuntimeWarning: invalid value encountered in sqrt\n",
      "  rsme = np.sqrt(np.mean(pred - v_window))\n"
     ]
    },
    {
     "name": "stdout",
     "output_type": "stream",
     "text": [
      "Processing:  ../L4/ReAnalysis/data/S1 layer 4 non Martinotti/2018 26 06 slice 1 sample 8 (non-martinotti S1).mat\n"
     ]
    },
    {
     "name": "stderr",
     "output_type": "stream",
     "text": [
      "/gpfs01/berens/user/ybernaerts/EphysAnalysis/data/ephys/code/ephys_features.py:944: RuntimeWarning: invalid value encountered in sqrt\n",
      "  rsme = np.sqrt(np.mean(pred - v_window))\n"
     ]
    },
    {
     "name": "stdout",
     "output_type": "stream",
     "text": [
      "Processing:  ../L4/ReAnalysis/data/S1 layer 4 non Martinotti/2018 21 09 slice 1 sample 8 (non-martinotti S1).mat\n"
     ]
    },
    {
     "name": "stderr",
     "output_type": "stream",
     "text": [
      "/gpfs01/berens/user/ybernaerts/EphysAnalysis/data/ephys/code/ephys_features.py:944: RuntimeWarning: invalid value encountered in sqrt\n",
      "  rsme = np.sqrt(np.mean(pred - v_window))\n"
     ]
    },
    {
     "name": "stdout",
     "output_type": "stream",
     "text": [
      "Processing:  ../L4/ReAnalysis/data/S1 layer 4 non Martinotti/2018 26 06 slice 1 sample 6 (non-martinotti S1).mat\n",
      "Processing:  ../L4/ReAnalysis/data/S1 layer 4 non Martinotti/2018 05 06 slice 1 sample 16 (non-martinotti S1).mat\n",
      "Processing:  ../L4/ReAnalysis/data/S1 layer 4 non Martinotti/2018 27 06 slice 1 sample 9 (non-martinotti S1).mat\n",
      "Processing:  ../L4/ReAnalysis/data/S1 layer 4 non Martinotti/2018 19 09 slice 2 sample 23 (non-martinotti S1).mat\n"
     ]
    },
    {
     "name": "stderr",
     "output_type": "stream",
     "text": [
      "/gpfs01/berens/user/ybernaerts/EphysAnalysis/data/ephys/code/ephys_features.py:944: RuntimeWarning: invalid value encountered in sqrt\n",
      "  rsme = np.sqrt(np.mean(pred - v_window))\n"
     ]
    },
    {
     "name": "stdout",
     "output_type": "stream",
     "text": [
      "Processing:  ../L4/ReAnalysis/data/S1 layer 4 non Martinotti/2018 20 09 slice 1 sample 9 (non-martinotti S1).mat\n"
     ]
    },
    {
     "name": "stderr",
     "output_type": "stream",
     "text": [
      "/gpfs01/berens/user/ybernaerts/EphysAnalysis/data/ephys/code/ephys_features.py:944: RuntimeWarning: invalid value encountered in sqrt\n",
      "  rsme = np.sqrt(np.mean(pred - v_window))\n"
     ]
    },
    {
     "name": "stdout",
     "output_type": "stream",
     "text": [
      "Processing:  ../L4/ReAnalysis/data/S1 layer 4 non Martinotti/2018 19 09 slice 2 sample 14 (non-martinotti S1).mat\n"
     ]
    },
    {
     "name": "stderr",
     "output_type": "stream",
     "text": [
      "/gpfs01/berens/user/ybernaerts/EphysAnalysis/data/ephys/code/ephys_features.py:944: RuntimeWarning: invalid value encountered in sqrt\n",
      "  rsme = np.sqrt(np.mean(pred - v_window))\n"
     ]
    },
    {
     "name": "stdout",
     "output_type": "stream",
     "text": [
      "Processing:  ../L4/ReAnalysis/data/S1 layer 4 non Martinotti/2018 19 09 slice 2 sample 20 (non-martinotti S1).mat\n",
      "Processing:  ../L4/ReAnalysis/data/S1 layer 4 non Martinotti/2018 05 06 slice 1 sample 14 (non-martinotti S1).mat\n",
      "Processing:  ../L4/ReAnalysis/data/S1 layer 4 non Martinotti/2018 21 09 slice 1 sample 4 (non-martinotti S1).mat\n"
     ]
    },
    {
     "name": "stderr",
     "output_type": "stream",
     "text": [
      "/gpfs01/berens/user/ybernaerts/EphysAnalysis/data/ephys/code/ephys_features.py:944: RuntimeWarning: invalid value encountered in sqrt\n",
      "  rsme = np.sqrt(np.mean(pred - v_window))\n"
     ]
    },
    {
     "name": "stdout",
     "output_type": "stream",
     "text": [
      "Processing:  ../L4/ReAnalysis/data/S1 layer 4 non Martinotti/2018 19 09 slice 1 sample 17 (non-martinotti S1).mat\n",
      "Processing:  ../L4/ReAnalysis/data/S1 layer 4 non Martinotti/2018 21 09 slice 1 sample 5 (non-martinotti S1).mat\n"
     ]
    },
    {
     "name": "stderr",
     "output_type": "stream",
     "text": [
      "/gpfs01/berens/user/ybernaerts/EphysAnalysis/data/ephys/code/ephys_features.py:944: RuntimeWarning: invalid value encountered in sqrt\n",
      "  rsme = np.sqrt(np.mean(pred - v_window))\n"
     ]
    },
    {
     "name": "stdout",
     "output_type": "stream",
     "text": [
      "Processing:  ../L4/ReAnalysis/data/S1 layer 4 non Martinotti/2018 19 09 slice 2 sample 18 (non-martinotti S1).mat\n"
     ]
    },
    {
     "name": "stderr",
     "output_type": "stream",
     "text": [
      "/gpfs01/berens/user/ybernaerts/EphysAnalysis/data/ephys/code/ephys_features.py:944: RuntimeWarning: invalid value encountered in sqrt\n",
      "  rsme = np.sqrt(np.mean(pred - v_window))\n"
     ]
    },
    {
     "name": "stdout",
     "output_type": "stream",
     "text": [
      "Processing:  ../L4/ReAnalysis/data/S1 layer 4 non Martinotti/2018 19 09 slice 2 sample 24 (non-martinotti S1).mat\n"
     ]
    },
    {
     "name": "stderr",
     "output_type": "stream",
     "text": [
      "/gpfs01/berens/user/ybernaerts/EphysAnalysis/data/ephys/code/ephys_features.py:944: RuntimeWarning: invalid value encountered in sqrt\n",
      "  rsme = np.sqrt(np.mean(pred - v_window))\n"
     ]
    },
    {
     "name": "stdout",
     "output_type": "stream",
     "text": [
      "Processing:  ../L4/ReAnalysis/data/S1 layer 4 non Martinotti/2018 19 09 slice 2 sample 22 (non-martinotti S1).mat\n"
     ]
    },
    {
     "name": "stderr",
     "output_type": "stream",
     "text": [
      "/gpfs01/berens/user/ybernaerts/EphysAnalysis/data/ephys/code/ephys_features.py:944: RuntimeWarning: invalid value encountered in sqrt\n",
      "  rsme = np.sqrt(np.mean(pred - v_window))\n"
     ]
    },
    {
     "name": "stdout",
     "output_type": "stream",
     "text": [
      "Processing:  ../L4/ReAnalysis/data/S1 layer 4 non Martinotti/2018 05 06 slice 1 sample 15 (non-martinotti S1).mat\n"
     ]
    },
    {
     "name": "stderr",
     "output_type": "stream",
     "text": [
      "/gpfs01/berens/user/ybernaerts/EphysAnalysis/data/ephys/code/ephys_features.py:944: RuntimeWarning: invalid value encountered in sqrt\n",
      "  rsme = np.sqrt(np.mean(pred - v_window))\n"
     ]
    },
    {
     "name": "stdout",
     "output_type": "stream",
     "text": [
      "Processing:  ../L4/ReAnalysis/data/S1 layer 4 non Martinotti/2018 19 09 slice 2 sample 19 (non-martinotti S1).mat\n"
     ]
    },
    {
     "name": "stderr",
     "output_type": "stream",
     "text": [
      "/gpfs01/berens/user/ybernaerts/EphysAnalysis/data/ephys/code/ephys_features.py:944: RuntimeWarning: invalid value encountered in sqrt\n",
      "  rsme = np.sqrt(np.mean(pred - v_window))\n"
     ]
    },
    {
     "name": "stdout",
     "output_type": "stream",
     "text": [
      "Processing:  ../L4/ReAnalysis/data/S1 layer 4 non Martinotti/2018 21 09 slice 1 sample 3 (non-martinotti S1).mat\n",
      "Processing:  ../L4/ReAnalysis/data/S1 layer 4 non Martinotti/2018 21 09 slice 1 sample 2 (non-martinotti S1).mat\n"
     ]
    },
    {
     "name": "stderr",
     "output_type": "stream",
     "text": [
      "/gpfs01/berens/user/ybernaerts/EphysAnalysis/data/ephys/code/ephys_features.py:944: RuntimeWarning: invalid value encountered in sqrt\n",
      "  rsme = np.sqrt(np.mean(pred - v_window))\n"
     ]
    },
    {
     "name": "stdout",
     "output_type": "stream",
     "text": [
      "Processing:  ../L4/ReAnalysis/data/S1 layer 4 non Martinotti/2018 20 09 slice 1 sample 10 (non-martinotti S1).mat\n"
     ]
    },
    {
     "name": "stderr",
     "output_type": "stream",
     "text": [
      "/gpfs01/berens/user/ybernaerts/EphysAnalysis/data/ephys/code/ephys_features.py:944: RuntimeWarning: invalid value encountered in sqrt\n",
      "  rsme = np.sqrt(np.mean(pred - v_window))\n"
     ]
    },
    {
     "name": "stdout",
     "output_type": "stream",
     "text": [
      "Processing:  ../L4/ReAnalysis/data/S1 layer 4 non Martinotti/2018 26 06 slice 1 sample 17 (non-martinotti S1).mat\n",
      "Processing:  ../L4/ReAnalysis/data/S1 layer 4 non Martinotti/2018 19 09 slice 2 sample 21 (non-martinotti S1).mat\n"
     ]
    },
    {
     "name": "stderr",
     "output_type": "stream",
     "text": [
      "/gpfs01/berens/user/ybernaerts/EphysAnalysis/data/ephys/code/ephys_features.py:944: RuntimeWarning: invalid value encountered in sqrt\n",
      "  rsme = np.sqrt(np.mean(pred - v_window))\n"
     ]
    },
    {
     "name": "stdout",
     "output_type": "stream",
     "text": [
      "Processing:  ../L4/ReAnalysis/data/S1 layer 4 non Martinotti/2018 03 07 slice 1 sample 14 (non-martinotti S1).mat\n"
     ]
    },
    {
     "name": "stderr",
     "output_type": "stream",
     "text": [
      "/gpfs01/berens/user/ybernaerts/EphysAnalysis/data/ephys/code/ephys_features.py:944: RuntimeWarning: invalid value encountered in sqrt\n",
      "  rsme = np.sqrt(np.mean(pred - v_window))\n"
     ]
    },
    {
     "name": "stdout",
     "output_type": "stream",
     "text": [
      "Processing:  ../L4/ReAnalysis/data/S1 layer 4 non Martinotti/2018 27 06 slice 1 sample 8 (non-martinotti S1).mat\n"
     ]
    },
    {
     "name": "stderr",
     "output_type": "stream",
     "text": [
      "/gpfs01/berens/user/ybernaerts/EphysAnalysis/data/ephys/code/ephys_features.py:944: RuntimeWarning: invalid value encountered in sqrt\n",
      "  rsme = np.sqrt(np.mean(pred - v_window))\n"
     ]
    },
    {
     "name": "stdout",
     "output_type": "stream",
     "text": [
      "Processing:  ../L4/ReAnalysis/data/S1 layer 4 non Martinotti/2018 03 07 slice 1 sample 11 (non-martinotti S1).mat\n"
     ]
    },
    {
     "name": "stderr",
     "output_type": "stream",
     "text": [
      "/gpfs01/berens/user/ybernaerts/EphysAnalysis/data/ephys/code/ephys_features.py:944: RuntimeWarning: invalid value encountered in sqrt\n",
      "  rsme = np.sqrt(np.mean(pred - v_window))\n"
     ]
    },
    {
     "name": "stdout",
     "output_type": "stream",
     "text": [
      "Processing:  ../L4/ReAnalysis/data/S1 layer 4 non Martinotti/2018 27 06 slice 1 sample 3 (non-martinotti S1).mat\n",
      "Processing:  ../L4/ReAnalysis/data/S1 layer 4 non Martinotti/2018 19 09 slice 1 sample 7 (non-martinotti S1).mat\n",
      "Processing:  ../L4/ReAnalysis/data/S1 layer 4 non Martinotti/2018 19 09 slice 1 sample 15 (non-martinotti S1).mat\n"
     ]
    },
    {
     "name": "stderr",
     "output_type": "stream",
     "text": [
      "/gpfs01/berens/user/ybernaerts/EphysAnalysis/data/ephys/code/ephys_features.py:944: RuntimeWarning: invalid value encountered in sqrt\n",
      "  rsme = np.sqrt(np.mean(pred - v_window))\n"
     ]
    },
    {
     "name": "stdout",
     "output_type": "stream",
     "text": [
      "Processing:  ../L4/ReAnalysis/data/S1 layer 4 non Martinotti/2018 05 07 slice 1 sample 6 (non-martinotti S1).mat\n"
     ]
    },
    {
     "name": "stderr",
     "output_type": "stream",
     "text": [
      "/gpfs01/berens/user/ybernaerts/EphysAnalysis/data/ephys/code/ephys_features.py:944: RuntimeWarning: invalid value encountered in sqrt\n",
      "  rsme = np.sqrt(np.mean(pred - v_window))\n"
     ]
    },
    {
     "name": "stdout",
     "output_type": "stream",
     "text": [
      "Processing:  ../L4/ReAnalysis/data/S1 layer 4 non Martinotti/2018 21 09 slice 1 sample 1 (non-martinotti S1).mat\n"
     ]
    },
    {
     "name": "stderr",
     "output_type": "stream",
     "text": [
      "/gpfs01/berens/user/ybernaerts/EphysAnalysis/data/ephys/code/ephys_features.py:944: RuntimeWarning: invalid value encountered in sqrt\n",
      "  rsme = np.sqrt(np.mean(pred - v_window))\n"
     ]
    },
    {
     "name": "stdout",
     "output_type": "stream",
     "text": [
      "Processing:  ../L4/ReAnalysis/data/S1 layer 4 non Martinotti/2018 03 07 slice 1 sample 7 (non-martinotti S1).mat\n"
     ]
    },
    {
     "name": "stderr",
     "output_type": "stream",
     "text": [
      "/gpfs01/berens/user/ybernaerts/EphysAnalysis/data/ephys/code/ephys_features.py:944: RuntimeWarning: invalid value encountered in sqrt\n",
      "  rsme = np.sqrt(np.mean(pred - v_window))\n"
     ]
    },
    {
     "name": "stdout",
     "output_type": "stream",
     "text": [
      "Processing:  ../L4/ReAnalysis/data/S1 layer 4 non Martinotti/2018 05 06 slice 1 sample 18 (non-martinotti S1).mat\n",
      "Processing:  ../L4/ReAnalysis/data/V1 layer 4 Martinotti/2018 19 09 slice 1 sample 10 (martinotti V1).mat\n"
     ]
    },
    {
     "name": "stderr",
     "output_type": "stream",
     "text": [
      "/gpfs01/berens/user/ybernaerts/EphysAnalysis/data/ephys/code/ephys_features.py:944: RuntimeWarning: invalid value encountered in sqrt\n",
      "  rsme = np.sqrt(np.mean(pred - v_window))\n"
     ]
    },
    {
     "name": "stdout",
     "output_type": "stream",
     "text": [
      "Processing:  ../L4/ReAnalysis/data/V1 layer 4 Martinotti/2018 20 09 slice 1 sample 11 (martinotti V1).mat\n",
      "Processing:  ../L4/ReAnalysis/data/V1 layer 4 Martinotti/2018 20 09 slice 1 sample 4 (martinotti V1).mat\n",
      "Processing:  ../L4/ReAnalysis/data/V1 layer 4 Martinotti/2018 05 06 slice 1 sample 13 (martinotti V1).mat\n"
     ]
    },
    {
     "name": "stderr",
     "output_type": "stream",
     "text": [
      "/gpfs01/berens/user/ybernaerts/EphysAnalysis/data/ephys/code/ephys_features.py:944: RuntimeWarning: invalid value encountered in sqrt\n",
      "  rsme = np.sqrt(np.mean(pred - v_window))\n",
      "/usr/local/lib/python3.5/dist-packages/ipykernel_launcher.py:57: RuntimeWarning: invalid value encountered in greater\n",
      "/gpfs01/berens/user/ybernaerts/EphysAnalysis/data/ephys/code/ephys_features.py:944: RuntimeWarning: invalid value encountered in sqrt\n",
      "  rsme = np.sqrt(np.mean(pred - v_window))\n"
     ]
    },
    {
     "name": "stdout",
     "output_type": "stream",
     "text": [
      "Processing:  ../L4/ReAnalysis/data/V1 layer 4 Martinotti/2018 03 07 slice 1 sample 15 (martinotti V1).mat\n",
      "Processing:  ../L4/ReAnalysis/data/V1 layer 4 Martinotti/2018 26 06 slice 1 sample 13 (martinotti V1).mat\n"
     ]
    },
    {
     "name": "stderr",
     "output_type": "stream",
     "text": [
      "/gpfs01/berens/user/ybernaerts/EphysAnalysis/data/ephys/code/ephys_features.py:944: RuntimeWarning: invalid value encountered in sqrt\n",
      "  rsme = np.sqrt(np.mean(pred - v_window))\n"
     ]
    },
    {
     "name": "stdout",
     "output_type": "stream",
     "text": [
      "Processing:  ../L4/ReAnalysis/data/V1 layer 4 Martinotti/2018 05 07 slice 1 sample 2 (martinotti V1).mat\n",
      "Processing:  ../L4/ReAnalysis/data/V1 layer 4 Martinotti/2018 19 09 slice 1 sample 11 (martinotti V1).mat\n",
      "Processing:  ../L4/ReAnalysis/data/V1 layer 4 Martinotti/2018 19 09 slice 2 sample 13 (martinotti V1).mat\n",
      "Processing:  ../L4/ReAnalysis/data/V1 layer 4 Martinotti/2018 20 09 slice 1 sample 3 (martinotti V1).mat\n"
     ]
    },
    {
     "name": "stderr",
     "output_type": "stream",
     "text": [
      "/gpfs01/berens/user/ybernaerts/EphysAnalysis/data/ephys/code/ephys_features.py:944: RuntimeWarning: invalid value encountered in sqrt\n",
      "  rsme = np.sqrt(np.mean(pred - v_window))\n"
     ]
    },
    {
     "name": "stdout",
     "output_type": "stream",
     "text": [
      "Processing:  ../L4/ReAnalysis/data/V1 layer 4 Martinotti/2018 19 09 slice 1 sample 9 (martinotti V1).mat\n"
     ]
    },
    {
     "name": "stderr",
     "output_type": "stream",
     "text": [
      "/gpfs01/berens/user/ybernaerts/EphysAnalysis/data/ephys/code/ephys_features.py:944: RuntimeWarning: invalid value encountered in sqrt\n",
      "  rsme = np.sqrt(np.mean(pred - v_window))\n"
     ]
    },
    {
     "name": "stdout",
     "output_type": "stream",
     "text": [
      "Processing:  ../L4/ReAnalysis/data/V1 layer 4 Martinotti/2018 19 09 slice 2 sample 16 (martinotti V1).mat\n",
      "Processing:  ../L4/ReAnalysis/data/V1 layer 4 Martinotti/2018 04 06 slice 1 sample 2 (martinotti V1).mat\n"
     ]
    },
    {
     "name": "stderr",
     "output_type": "stream",
     "text": [
      "/gpfs01/berens/user/ybernaerts/EphysAnalysis/data/ephys/code/ephys_features.py:944: RuntimeWarning: invalid value encountered in sqrt\n",
      "  rsme = np.sqrt(np.mean(pred - v_window))\n"
     ]
    },
    {
     "name": "stdout",
     "output_type": "stream",
     "text": [
      "Processing:  ../L4/ReAnalysis/data/V1 layer 4 Martinotti/2018 05 06 slice 1 sample 5 (martinotti V1).mat\n"
     ]
    },
    {
     "name": "stderr",
     "output_type": "stream",
     "text": [
      "/gpfs01/berens/user/ybernaerts/EphysAnalysis/data/ephys/code/ephys_features.py:944: RuntimeWarning: invalid value encountered in sqrt\n",
      "  rsme = np.sqrt(np.mean(pred - v_window))\n"
     ]
    },
    {
     "name": "stdout",
     "output_type": "stream",
     "text": [
      "Processing:  ../L4/ReAnalysis/data/V1 layer 4 Martinotti/2018 26 06 slice 1 sample 12 (martinotti V1).mat\n"
     ]
    },
    {
     "name": "stderr",
     "output_type": "stream",
     "text": [
      "/gpfs01/berens/user/ybernaerts/EphysAnalysis/data/ephys/code/ephys_features.py:944: RuntimeWarning: invalid value encountered in sqrt\n",
      "  rsme = np.sqrt(np.mean(pred - v_window))\n"
     ]
    },
    {
     "name": "stdout",
     "output_type": "stream",
     "text": [
      "Processing:  ../L4/ReAnalysis/data/V1 layer 4 Martinotti/2018 19 09 slice 1 sample 2 (martinotti V1).mat\n"
     ]
    },
    {
     "name": "stderr",
     "output_type": "stream",
     "text": [
      "/gpfs01/berens/user/ybernaerts/EphysAnalysis/data/ephys/code/ephys_features.py:944: RuntimeWarning: invalid value encountered in sqrt\n",
      "  rsme = np.sqrt(np.mean(pred - v_window))\n"
     ]
    },
    {
     "name": "stdout",
     "output_type": "stream",
     "text": [
      "Processing:  ../L4/ReAnalysis/data/V1 layer 4 Martinotti/2018 20 09 slice 1 sample 2 (martinotti V1).mat\n"
     ]
    },
    {
     "name": "stderr",
     "output_type": "stream",
     "text": [
      "/gpfs01/berens/user/ybernaerts/EphysAnalysis/data/ephys/code/ephys_features.py:944: RuntimeWarning: invalid value encountered in sqrt\n",
      "  rsme = np.sqrt(np.mean(pred - v_window))\n"
     ]
    },
    {
     "name": "stdout",
     "output_type": "stream",
     "text": [
      "Processing:  ../L4/ReAnalysis/data/V1 layer 4 Martinotti/2018 05 06 slice 1 sample 4 (martinotti V1).mat\n",
      "Processing:  ../L4/ReAnalysis/data/V1 layer 4 Martinotti/2018 27 06 slice 1 sample 13 (martinotti V1).mat\n"
     ]
    },
    {
     "name": "stderr",
     "output_type": "stream",
     "text": [
      "/gpfs01/berens/user/ybernaerts/EphysAnalysis/data/ephys/code/ephys_features.py:944: RuntimeWarning: invalid value encountered in sqrt\n",
      "  rsme = np.sqrt(np.mean(pred - v_window))\n"
     ]
    },
    {
     "name": "stdout",
     "output_type": "stream",
     "text": [
      "Processing:  ../L4/ReAnalysis/data/V1 layer 4 Martinotti/2018 05 06 slice 1 sample 19 (martinotti V1).mat\n"
     ]
    },
    {
     "name": "stderr",
     "output_type": "stream",
     "text": [
      "/gpfs01/berens/user/ybernaerts/EphysAnalysis/data/ephys/code/ephys_features.py:944: RuntimeWarning: invalid value encountered in sqrt\n",
      "  rsme = np.sqrt(np.mean(pred - v_window))\n",
      "/usr/local/lib/python3.5/dist-packages/ipykernel_launcher.py:57: RuntimeWarning: invalid value encountered in greater\n"
     ]
    },
    {
     "name": "stdout",
     "output_type": "stream",
     "text": [
      "Processing:  ../L4/ReAnalysis/data/V1 layer 4 Martinotti/2018 04 06 slice 1 sample 1 (martinotti V1).mat\n"
     ]
    },
    {
     "name": "stderr",
     "output_type": "stream",
     "text": [
      "/usr/local/lib/python3.5/dist-packages/ipykernel_launcher.py:57: RuntimeWarning: invalid value encountered in greater\n",
      "/gpfs01/berens/user/ybernaerts/EphysAnalysis/data/ephys/code/ephys_features.py:944: RuntimeWarning: invalid value encountered in sqrt\n",
      "  rsme = np.sqrt(np.mean(pred - v_window))\n"
     ]
    },
    {
     "name": "stdout",
     "output_type": "stream",
     "text": [
      "Processing:  ../L4/ReAnalysis/data/V1 layer 4 Martinotti/2018 05 06 slice 1 sample 3 (martinotti V1).mat\n",
      "Processing:  ../L4/ReAnalysis/data/V1 layer 4 Martinotti/2018 05 06 slice 1 sample 2 (martinotti V1).mat\n"
     ]
    },
    {
     "name": "stderr",
     "output_type": "stream",
     "text": [
      "/gpfs01/berens/user/ybernaerts/EphysAnalysis/data/ephys/code/ephys_features.py:944: RuntimeWarning: invalid value encountered in sqrt\n",
      "  rsme = np.sqrt(np.mean(pred - v_window))\n"
     ]
    },
    {
     "name": "stdout",
     "output_type": "stream",
     "text": [
      "Processing:  ../L4/ReAnalysis/data/V1 layer 4 Martinotti/2018 19 09 slice 1 sample 8 (martinotti V1).mat\n"
     ]
    },
    {
     "name": "stderr",
     "output_type": "stream",
     "text": [
      "/gpfs01/berens/user/ybernaerts/EphysAnalysis/data/ephys/code/ephys_features.py:944: RuntimeWarning: invalid value encountered in sqrt\n",
      "  rsme = np.sqrt(np.mean(pred - v_window))\n"
     ]
    },
    {
     "name": "stdout",
     "output_type": "stream",
     "text": [
      "Processing:  ../L4/ReAnalysis/data/V1 layer 4 Martinotti/2018 05 06 slice 1 sample 7 (martinotti V1).mat\n"
     ]
    },
    {
     "name": "stderr",
     "output_type": "stream",
     "text": [
      "/gpfs01/berens/user/ybernaerts/EphysAnalysis/data/ephys/code/ephys_features.py:944: RuntimeWarning: invalid value encountered in sqrt\n",
      "  rsme = np.sqrt(np.mean(pred - v_window))\n"
     ]
    },
    {
     "name": "stdout",
     "output_type": "stream",
     "text": [
      "Processing:  ../L4/ReAnalysis/data/V1 layer 4 Martinotti/2018 19 09 slice 1 sample 6 (martinotti V1).mat\n",
      "Processing:  ../L4/ReAnalysis/data/V1 layer 4 Martinotti/2018 03 07 slice 1 sample 3 (martinotti V1).mat\n"
     ]
    },
    {
     "name": "stderr",
     "output_type": "stream",
     "text": [
      "/gpfs01/berens/user/ybernaerts/EphysAnalysis/data/ephys/code/ephys_features.py:944: RuntimeWarning: invalid value encountered in sqrt\n",
      "  rsme = np.sqrt(np.mean(pred - v_window))\n"
     ]
    },
    {
     "name": "stdout",
     "output_type": "stream",
     "text": [
      "Processing:  ../L4/ReAnalysis/data/V1 layer 4 Martinotti/2018 19 09 slice 2 sample 25 (martinotti V1).mat\n",
      "Processing:  ../L4/ReAnalysis/data/V1 layer 4 Martinotti/2018 20 09 slice 1 sample 1 (martinotti V1).mat\n",
      "Processing:  ../L4/ReAnalysis/data/V1 layer 4 Martinotti/2018 05 06 slice 1 sample 10 (martinotti V1).mat\n",
      "Processing:  ../L4/ReAnalysis/data/V1 layer 4 Martinotti/2018 05 06 slice 1 sample 6 (martinotti V1).mat\n"
     ]
    },
    {
     "name": "stderr",
     "output_type": "stream",
     "text": [
      "/gpfs01/berens/user/ybernaerts/EphysAnalysis/data/ephys/code/ephys_features.py:944: RuntimeWarning: invalid value encountered in sqrt\n",
      "  rsme = np.sqrt(np.mean(pred - v_window))\n"
     ]
    },
    {
     "name": "stdout",
     "output_type": "stream",
     "text": [
      "Processing:  ../L4/ReAnalysis/data/V1 layer 4 Martinotti/2018 05 06 slice 1 sample 20 (martinotti V1).mat\n",
      "Processing:  ../L4/ReAnalysis/data/V1 layer 4 Martinotti/2018 19 09 slice 1 sample 4 (martinotti V1).mat\n",
      "Processing:  ../L4/ReAnalysis/data/V1 layer 4 Martinotti/2018 26 06 slice 1 sample 2 (martinotti V1).mat\n"
     ]
    },
    {
     "name": "stderr",
     "output_type": "stream",
     "text": [
      "/gpfs01/berens/user/ybernaerts/EphysAnalysis/data/ephys/code/ephys_features.py:944: RuntimeWarning: invalid value encountered in sqrt\n",
      "  rsme = np.sqrt(np.mean(pred - v_window))\n",
      "/usr/local/lib/python3.5/dist-packages/ipykernel_launcher.py:57: RuntimeWarning: invalid value encountered in greater\n",
      "/gpfs01/berens/user/ybernaerts/EphysAnalysis/data/ephys/code/ephys_features.py:944: RuntimeWarning: invalid value encountered in sqrt\n",
      "  rsme = np.sqrt(np.mean(pred - v_window))\n"
     ]
    },
    {
     "name": "stdout",
     "output_type": "stream",
     "text": [
      "Processing:  ../L4/ReAnalysis/data/V1 layer 4 Martinotti/2018 19 09 slice 1 sample 3 (martinotti V1).mat\n",
      "Processing:  ../L4/ReAnalysis/data/V1 layer 4 Martinotti/2018 26 06 slice 1 sample 11 (martinotti V1).mat\n"
     ]
    },
    {
     "name": "stderr",
     "output_type": "stream",
     "text": [
      "/gpfs01/berens/user/ybernaerts/EphysAnalysis/data/ephys/code/ephys_features.py:944: RuntimeWarning: invalid value encountered in sqrt\n",
      "  rsme = np.sqrt(np.mean(pred - v_window))\n"
     ]
    },
    {
     "name": "stdout",
     "output_type": "stream",
     "text": [
      "Processing:  ../L4/ReAnalysis/data/V1 layer 4 Martinotti/2018 20 09 slice 1 sample 5 (martinotti V1).mat\n"
     ]
    },
    {
     "name": "stderr",
     "output_type": "stream",
     "text": [
      "/gpfs01/berens/user/ybernaerts/EphysAnalysis/data/ephys/code/ephys_features.py:944: RuntimeWarning: invalid value encountered in sqrt\n",
      "  rsme = np.sqrt(np.mean(pred - v_window))\n"
     ]
    }
   ],
   "source": [
    "All_Cells_Features_L4_re = cell_features(L4_re, L4_re_names)"
   ]
  },
  {
   "cell_type": "code",
   "execution_count": 126,
   "metadata": {},
   "outputs": [],
   "source": [
    "All_Cells_Features_L4_re.to_csv('../L4/ReAnalysis/L4Data/Cell_Features_L4.csv')"
   ]
  },
  {
   "cell_type": "code",
   "execution_count": 59,
   "metadata": {},
   "outputs": [
    {
     "name": "stdout",
     "output_type": "stream",
     "text": [
      "Processing:  ../L4/ReAnalysis/data/Excluded Data//2018 03 07 slice 1 sample 8 (matinotti V1 not good quality).mat\n"
     ]
    },
    {
     "name": "stderr",
     "output_type": "stream",
     "text": [
      "/gpfs01/berens/user/ybernaerts/EphysAnalysis/data/ephys/code/ephys_features.py:944: RuntimeWarning: invalid value encountered in sqrt\n",
      "  rsme = np.sqrt(np.mean(pred - v_window))\n"
     ]
    },
    {
     "name": "stdout",
     "output_type": "stream",
     "text": [
      "Processing:  ../L4/ReAnalysis/data/Excluded Data//2018 06 06 slice 1 sample 1.mat\n",
      "Processing:  ../L4/ReAnalysis/data/Excluded Data//2018 03 07 slice 1 sample 2 (martinotti V1).mat\n"
     ]
    },
    {
     "name": "stderr",
     "output_type": "stream",
     "text": [
      "/gpfs01/berens/user/ybernaerts/EphysAnalysis/data/ephys/code/ephys_features.py:944: RuntimeWarning: invalid value encountered in sqrt\n",
      "  rsme = np.sqrt(np.mean(pred - v_window))\n",
      "/usr/local/lib/python3.5/dist-packages/ipykernel_launcher.py:57: RuntimeWarning: invalid value encountered in greater\n",
      "/gpfs01/berens/user/ybernaerts/EphysAnalysis/data/ephys/code/ephys_features.py:944: RuntimeWarning: invalid value encountered in sqrt\n",
      "  rsme = np.sqrt(np.mean(pred - v_window))\n"
     ]
    },
    {
     "name": "stdout",
     "output_type": "stream",
     "text": [
      "Processing:  ../L4/ReAnalysis/data/Excluded Data//2018 05 06 slice 1 sample 4 (martinotti V1).mat\n",
      "Processing:  ../L4/ReAnalysis/data/Excluded Data//2018 03 07 slice 1 sample 14 (fast spiking S1).mat\n"
     ]
    },
    {
     "name": "stderr",
     "output_type": "stream",
     "text": [
      "/gpfs01/berens/user/ybernaerts/EphysAnalysis/data/ephys/code/ephys_features.py:944: RuntimeWarning: invalid value encountered in sqrt\n",
      "  rsme = np.sqrt(np.mean(pred - v_window))\n"
     ]
    },
    {
     "name": "stdout",
     "output_type": "stream",
     "text": [
      "Processing:  ../L4/ReAnalysis/data/Excluded Data//2018 19 09 slice 1 sample 1 (matinotti V1).mat\n",
      "Processing:  ../L4/ReAnalysis/data/Excluded Data//2018 05 06 slice 1 sample 17 (fast spiking S1).mat\n"
     ]
    },
    {
     "name": "stderr",
     "output_type": "stream",
     "text": [
      "/gpfs01/berens/user/ybernaerts/EphysAnalysis/data/ephys/code/ephys_features.py:944: RuntimeWarning: invalid value encountered in sqrt\n",
      "  rsme = np.sqrt(np.mean(pred - v_window))\n"
     ]
    },
    {
     "name": "stdout",
     "output_type": "stream",
     "text": [
      "Processing:  ../L4/ReAnalysis/data/Excluded Data//2018 03 07 slice 1 sample 14 (non-martinotti S1 not sure layer).mat\n"
     ]
    },
    {
     "name": "stderr",
     "output_type": "stream",
     "text": [
      "/gpfs01/berens/user/ybernaerts/EphysAnalysis/data/ephys/code/ephys_features.py:944: RuntimeWarning: invalid value encountered in sqrt\n",
      "  rsme = np.sqrt(np.mean(pred - v_window))\n"
     ]
    },
    {
     "name": "stdout",
     "output_type": "stream",
     "text": [
      "Processing:  ../L4/ReAnalysis/data/Excluded Data//2018 26 06 slice 1 sample 2 (non-martinoti S1).mat\n",
      "Processing:  ../L4/ReAnalysis/data/Excluded Data//2018 04 06 slice 1 sample 3 (martinotti V1).mat\n"
     ]
    },
    {
     "name": "stderr",
     "output_type": "stream",
     "text": [
      "/gpfs01/berens/user/ybernaerts/EphysAnalysis/data/ephys/code/ephys_features.py:944: RuntimeWarning: invalid value encountered in sqrt\n",
      "  rsme = np.sqrt(np.mean(pred - v_window))\n",
      "/usr/local/lib/python3.5/dist-packages/ipykernel_launcher.py:57: RuntimeWarning: invalid value encountered in greater\n"
     ]
    },
    {
     "name": "stdout",
     "output_type": "stream",
     "text": [
      "Processing:  ../L4/ReAnalysis/data/Excluded Data//2018 26 06 slice 1 sample 7 (non-martinoti S1).mat\n"
     ]
    }
   ],
   "source": [
    "All_Cells_Features_L4_excluded = cell_features(L4_excluded, L4_excluded_names)\n",
    "All_Cells_Features_L4_excluded.to_csv('../L4/ReAnalysis/L4Data/Cell_Features_L4_excluded.csv')"
   ]
  },
  {
   "cell_type": "markdown",
   "metadata": {},
   "source": [
    "# Plotting information as a sanity check"
   ]
  },
  {
   "cell_type": "code",
   "execution_count": 38,
   "metadata": {},
   "outputs": [],
   "source": [
    "def plot_info(data, start = 0.1, end = 0.7):\n",
    "    \"\"\" Analyses a specific data dictionary corresponding to a cell and returns a figure object with annotations on a particular\n",
    "    trace of how certain features have been calculated.\n",
    "    Parameters\n",
    "    ----------\n",
    "    data : data full of voltage (V) and time (s) for a particular cell\n",
    "    el_num : integer, from which electrode number has been measured (optional, 2 by default)\n",
    "    current_step : float, which current step (pA) has been used between consecutive experiments (optional, 20 by default)\n",
    "    start : start of the stimulation (s) in the voltage trace (optional, default 0.1)\n",
    "    end : end of the stimulation (s) in the voltage trace (optional, default 0.7)\n",
    "    fil : cutoff frequency for 4-pole low-pass Bessel filter in kHz (optional, default 10)\n",
    "    \n",
    "    Returns\n",
    "    -------\n",
    "    ax : figure object\n",
    "    \"\"\"\n",
    "    time, current, voltage, curr_index_0 = data_preparation(data)\n",
    "    filter_ = 10\n",
    "    if (1/time[1]-time[0]) < 20e3:\n",
    "        filter_ = (1/time[1]-time[0])/(1e3*2)-0.5\n",
    "    df, df_related_features = extract_spike_features(time, current, voltage, fil = filter_)\n",
    "    Cell_Features = get_cell_features(df, df_related_features, curr_index_0)\n",
    "    \n",
    "    # First current magnitude (starting from the lowest absolute current stimulation magnitude value) where we find more than\n",
    "    # three spikes\n",
    "    current_first = np.flatnonzero(df_related_features['spike_count'].values >=3)[0]\n",
    "    \n",
    "    f, ax = plt.subplots(figsize = (10, 10))\n",
    "    ax.plot(time, voltage[:, current_first])\n",
    "    \n",
    "    # Actual current there\n",
    "    current_first_magn = current[current_first]\n",
    "    # Amount of spikes there\n",
    "    spike_count = df_related_features['spike_count'].values[current_first]\n",
    "    \n",
    "    \n",
    "    # Find start and end indexes in df for all the spikes in that particular train\n",
    "    index_start_df = np.flatnonzero(df['threshold_i'].values >= current_first_magn)[0]\n",
    "    index_end_df = np.flatnonzero(df['threshold_i'].values >= current_first_magn)[0] + spike_count\n",
    "    # When last spike is clipped\n",
    "    if df['clipped'].values[index_end_df-1]:\n",
    "        index_end_df = np.flatnonzero(df['threshold_i'].values >= \\\n",
    "                                        current_first_magn)[0] + (spike_count - 1)\n",
    "    # When the spike before the last spike is also clipped\n",
    "    if df['clipped'].values[index_end_df-1]:\n",
    "        index_end_df = np.flatnonzero(df['threshold_i'].values >= \\\n",
    "                                        current_first_magn)[0] + (spike_count - 2)\n",
    "    \n",
    "    # Get threshold, peak, upstroke and downstroke indexes\n",
    "    thresh_index = np.array(df['threshold_index'].values[index_start_df : index_end_df], dtype = int)\n",
    "    upstroke_index = np.array(df['upstroke_index'].values[index_start_df : index_end_df], dtype = int)\n",
    "    peak_index = np.array(df['peak_index'].values[index_start_df : index_end_df], dtype = int)\n",
    "    downstroke_index = np.array(df['downstroke_index'].values[index_start_df : index_end_df], dtype = int)\n",
    "    fast_trough_index = np.array(df['fast_trough_index'].values[index_start_df : index_end_df], dtype = int)\n",
    "    fast_trough_index = np.array(fast_trough_index[~np.isnan(fast_trough_index)], dtype = int)\n",
    "    slow_trough_index = df['slow_trough_index'].values[index_start_df : index_end_df]\n",
    "    slow_trough_index = np.array(slow_trough_index[~np.isnan(slow_trough_index)], dtype = int)\n",
    "    \n",
    "    start_index = (np.abs(time - start/10)).argmin() # Find closest index where the injection current starts (quite a bit before now)\n",
    "    end_index = (np.abs(time - end)).argmin() # Find closest index where the injection current ends\n",
    "    \n",
    "    ax.plot(time[np.abs(time - start/2).argmin()], Cell_Features['Rm (mV)'], 'C0.', ms = 15)\n",
    "    ax.plot(time[thresh_index], voltage[thresh_index, current_first], 'b.', ms = 15)\n",
    "    ax.plot(time[upstroke_index], voltage[upstroke_index, current_first], 'r.', ms = 15)\n",
    "    ax.plot(time[peak_index], voltage[peak_index, current_first], 'g.', ms = 15)\n",
    "    ax.plot(time[downstroke_index], voltage[downstroke_index, current_first], 'k.', ms = 15)\n",
    "    ax.plot(time[fast_trough_index], voltage[fast_trough_index, current_first], 'y.', ms = 15)\n",
    "    ax.plot(time[slow_trough_index], voltage[slow_trough_index, current_first], 'm.', ms = 15)\n",
    "    ax.set_xlim([time[start_index], time[end_index]])\n",
    "    ax.set_xlabel('Time (s)', fontsize = 15)\n",
    "    ax.set_ylabel('Voltage (mV)', fontsize = 15)\n",
    "    ax.set_title('Voltage trace in function of time with annotations', fontsize = 25)\n",
    "    ax.legend(['Trace', 'Resting Vm', 'Threshold', 'Upstroke', 'Peak', 'Downstroke', 'Fast trough', \\\n",
    "               'Slow trough (if applicable)'], fontsize = 15, loc='upper left', bbox_to_anchor=(1, 1))\n",
    "    \n",
    "    # Nice annotations\n",
    "    if len(thresh_index) > 2 :\n",
    "        ax.plot(time[thresh_index[0:3]], voltage[thresh_index[0:3], current_first], '|', color = 'black', ms = 200)\n",
    "        ax.annotate('', xy = (time[thresh_index[0]], voltage[thresh_index[0], current_first] - 10), \\\n",
    "                xycoords = 'data', xytext = (time[thresh_index[1]], voltage[thresh_index[0], current_first] - 10), \\\n",
    "                textcoords = 'data', arrowprops = {'arrowstyle': '<->', 'connectionstyle': 'arc3', 'lw': 0.5, 'shrinkA': 0})\n",
    "        ax.annotate('', xy = (time[thresh_index[1]], voltage[thresh_index[0], current_first] - 10), \\\n",
    "                xycoords = 'data', xytext = (time[thresh_index[2]], voltage[thresh_index[0], current_first] - 10), \\\n",
    "                textcoords = 'data', arrowprops = {'arrowstyle': '<->', 'connectionstyle': 'arc3', 'lw': 0.5, 'shrinkA': 0})\n",
    "        plt.annotate('AI = (2e ISI / 1e ISI)*100', xy=(time[thresh_index[1]], voltage[thresh_index[1], current_first]-30), \\\n",
    "                 xycoords='data', xytext=(5, 0), textcoords='offset points', fontsize = 15)\n",
    "    return ax"
   ]
  },
  {
   "cell_type": "code",
   "execution_count": 39,
   "metadata": {},
   "outputs": [],
   "source": [
    "def plot_info_all(data_tuple, names, directory, el_num = 2, current_step = 20):\n",
    "    \"\"\" Plots info of the first spike train (with more than 3 peaks)\n",
    "    Parameters\n",
    "    ----------\n",
    "    data_tuple : tuple of dictionaries of data full of voltage (V) and time (s) traces for different cells\n",
    "    names : tuple of names of the samples\n",
    "    directory : directory where to output the figures\n",
    "    el_num : integer, from which electrode number has been measured (optional, 2 by default)\n",
    "    current_step : float, which current step (pA) has been used between consecutive experiments (optional, 20 by default)\n",
    "    \n",
    "    Saves\n",
    "    -------\n",
    "    Figures in specified directory\n",
    "    \"\"\"\n",
    "    for (data, name) in zip(data_tuple, names):\n",
    "        print('Processing: ', name)\n",
    "        time, current, voltage, curr_index_0 = data_preparation(data)\n",
    "        filter_ = 10\n",
    "        if (1/time[1]-time[0]) < 20e3:\n",
    "            filter_ = (1/time[1]-time[0])/(1e3*2)-0.5\n",
    "        df, df_related_features = extract_spike_features(time, current, voltage)\n",
    "        if ~np.any(df_related_features['spike_count'] >= 3):         # There might be no traces with more than 3 spikes\n",
    "                                                                     # whatsoever\n",
    "            continue\n",
    "        ax = plot_info(data)\n",
    "        plt.title(name.split('/')[-1].split('.')[0], fontsize = 25)\n",
    "        plt.savefig('{}{}.png'.format(directory, name.split('/')[-1].split('.')[0]), bbox_inches = 'tight', \\\n",
    "                                                                                     pad_inches = 0.5)\n",
    "        plt.close()"
   ]
  },
  {
   "cell_type": "code",
   "execution_count": 356,
   "metadata": {},
   "outputs": [
    {
     "name": "stderr",
     "output_type": "stream",
     "text": [
      "/usr/local/lib/python3.5/dist-packages/ipykernel_launcher.py:24: RuntimeWarning: invalid value encountered in greater\n"
     ]
    },
    {
     "data": {
      "text/plain": [
       "<matplotlib.axes._subplots.AxesSubplot at 0x7fe744a3fe80>"
      ]
     },
     "execution_count": 356,
     "metadata": {},
     "output_type": "execute_result"
    },
    {
     "data": {
      "image/png": "[encoded data removed]",
      "text/plain": [
       "<matplotlib.figure.Figure at 0x7fe7471b7278>"
      ]
     },
     "metadata": {},
     "output_type": "display_data"
    }
   ],
   "source": [
    "plot_info(data_plot)"
   ]
  },
  {
   "cell_type": "code",
   "execution_count": 49,
   "metadata": {},
   "outputs": [
    {
     "name": "stdout",
     "output_type": "stream",
     "text": [
      "Processing:  ../L4/ReAnalysis/data/S1 layer 4 non Martinotti/2018 21 09 slice 1 sample 6 (non-martinotti S1).mat\n",
      "Processing:  ../L4/ReAnalysis/data/S1 layer 4 non Martinotti/2018 26 06 slice 1 sample 15 (non-martinotti S1).mat\n"
     ]
    },
    {
     "name": "stderr",
     "output_type": "stream",
     "text": [
      "/gpfs01/berens/user/ybernaerts/EphysAnalysis/data/ephys/code/ephys_features.py:944: RuntimeWarning: invalid value encountered in sqrt\n",
      "  rsme = np.sqrt(np.mean(pred - v_window))\n",
      "/gpfs01/berens/user/ybernaerts/EphysAnalysis/data/ephys/code/ephys_features.py:944: RuntimeWarning: invalid value encountered in sqrt\n",
      "  rsme = np.sqrt(np.mean(pred - v_window))\n"
     ]
    },
    {
     "name": "stdout",
     "output_type": "stream",
     "text": [
      "Processing:  ../L4/ReAnalysis/data/S1 layer 4 non Martinotti/2018 26 06 slice 1 sample 16 (non-martinotti S1).mat\n"
     ]
    },
    {
     "name": "stderr",
     "output_type": "stream",
     "text": [
      "/gpfs01/berens/user/ybernaerts/EphysAnalysis/data/ephys/code/ephys_features.py:944: RuntimeWarning: invalid value encountered in sqrt\n",
      "  rsme = np.sqrt(np.mean(pred - v_window))\n",
      "/gpfs01/berens/user/ybernaerts/EphysAnalysis/data/ephys/code/ephys_features.py:944: RuntimeWarning: invalid value encountered in sqrt\n",
      "  rsme = np.sqrt(np.mean(pred - v_window))\n"
     ]
    },
    {
     "name": "stdout",
     "output_type": "stream",
     "text": [
      "Processing:  ../L4/ReAnalysis/data/S1 layer 4 non Martinotti/2018 26 06 slice 1 sample 8 (non-martinotti S1).mat\n"
     ]
    },
    {
     "name": "stderr",
     "output_type": "stream",
     "text": [
      "/gpfs01/berens/user/ybernaerts/EphysAnalysis/data/ephys/code/ephys_features.py:944: RuntimeWarning: invalid value encountered in sqrt\n",
      "  rsme = np.sqrt(np.mean(pred - v_window))\n",
      "/gpfs01/berens/user/ybernaerts/EphysAnalysis/data/ephys/code/ephys_features.py:944: RuntimeWarning: invalid value encountered in sqrt\n",
      "  rsme = np.sqrt(np.mean(pred - v_window))\n"
     ]
    },
    {
     "name": "stdout",
     "output_type": "stream",
     "text": [
      "Processing:  ../L4/ReAnalysis/data/S1 layer 4 non Martinotti/2018 21 09 slice 1 sample 8 (non-martinotti S1).mat\n"
     ]
    },
    {
     "name": "stderr",
     "output_type": "stream",
     "text": [
      "/gpfs01/berens/user/ybernaerts/EphysAnalysis/data/ephys/code/ephys_features.py:944: RuntimeWarning: invalid value encountered in sqrt\n",
      "  rsme = np.sqrt(np.mean(pred - v_window))\n",
      "/gpfs01/berens/user/ybernaerts/EphysAnalysis/data/ephys/code/ephys_features.py:944: RuntimeWarning: invalid value encountered in sqrt\n",
      "  rsme = np.sqrt(np.mean(pred - v_window))\n"
     ]
    },
    {
     "name": "stdout",
     "output_type": "stream",
     "text": [
      "Processing:  ../L4/ReAnalysis/data/S1 layer 4 non Martinotti/2018 26 06 slice 1 sample 6 (non-martinotti S1).mat\n",
      "Processing:  ../L4/ReAnalysis/data/S1 layer 4 non Martinotti/2018 05 06 slice 1 sample 16 (non-martinotti S1).mat\n",
      "Processing:  ../L4/ReAnalysis/data/S1 layer 4 non Martinotti/2018 27 06 slice 1 sample 9 (non-martinotti S1).mat\n",
      "Processing:  ../L4/ReAnalysis/data/S1 layer 4 non Martinotti/2018 19 09 slice 2 sample 23 (non-martinotti S1).mat\n"
     ]
    },
    {
     "name": "stderr",
     "output_type": "stream",
     "text": [
      "/gpfs01/berens/user/ybernaerts/EphysAnalysis/data/ephys/code/ephys_features.py:944: RuntimeWarning: invalid value encountered in sqrt\n",
      "  rsme = np.sqrt(np.mean(pred - v_window))\n",
      "/gpfs01/berens/user/ybernaerts/EphysAnalysis/data/ephys/code/ephys_features.py:944: RuntimeWarning: invalid value encountered in sqrt\n",
      "  rsme = np.sqrt(np.mean(pred - v_window))\n"
     ]
    },
    {
     "name": "stdout",
     "output_type": "stream",
     "text": [
      "Processing:  ../L4/ReAnalysis/data/S1 layer 4 non Martinotti/2018 20 09 slice 1 sample 9 (non-martinotti S1).mat\n"
     ]
    },
    {
     "name": "stderr",
     "output_type": "stream",
     "text": [
      "/gpfs01/berens/user/ybernaerts/EphysAnalysis/data/ephys/code/ephys_features.py:944: RuntimeWarning: invalid value encountered in sqrt\n",
      "  rsme = np.sqrt(np.mean(pred - v_window))\n",
      "/gpfs01/berens/user/ybernaerts/EphysAnalysis/data/ephys/code/ephys_features.py:944: RuntimeWarning: invalid value encountered in sqrt\n",
      "  rsme = np.sqrt(np.mean(pred - v_window))\n"
     ]
    },
    {
     "name": "stdout",
     "output_type": "stream",
     "text": [
      "Processing:  ../L4/ReAnalysis/data/S1 layer 4 non Martinotti/2018 19 09 slice 2 sample 14 (non-martinotti S1).mat\n"
     ]
    },
    {
     "name": "stderr",
     "output_type": "stream",
     "text": [
      "/gpfs01/berens/user/ybernaerts/EphysAnalysis/data/ephys/code/ephys_features.py:944: RuntimeWarning: invalid value encountered in sqrt\n",
      "  rsme = np.sqrt(np.mean(pred - v_window))\n",
      "/gpfs01/berens/user/ybernaerts/EphysAnalysis/data/ephys/code/ephys_features.py:944: RuntimeWarning: invalid value encountered in sqrt\n",
      "  rsme = np.sqrt(np.mean(pred - v_window))\n"
     ]
    },
    {
     "name": "stdout",
     "output_type": "stream",
     "text": [
      "Processing:  ../L4/ReAnalysis/data/S1 layer 4 non Martinotti/2018 19 09 slice 2 sample 20 (non-martinotti S1).mat\n",
      "Processing:  ../L4/ReAnalysis/data/S1 layer 4 non Martinotti/2018 05 06 slice 1 sample 14 (non-martinotti S1).mat\n",
      "Processing:  ../L4/ReAnalysis/data/S1 layer 4 non Martinotti/2018 21 09 slice 1 sample 4 (non-martinotti S1).mat\n"
     ]
    },
    {
     "name": "stderr",
     "output_type": "stream",
     "text": [
      "/gpfs01/berens/user/ybernaerts/EphysAnalysis/data/ephys/code/ephys_features.py:944: RuntimeWarning: invalid value encountered in sqrt\n",
      "  rsme = np.sqrt(np.mean(pred - v_window))\n",
      "/gpfs01/berens/user/ybernaerts/EphysAnalysis/data/ephys/code/ephys_features.py:944: RuntimeWarning: invalid value encountered in sqrt\n",
      "  rsme = np.sqrt(np.mean(pred - v_window))\n"
     ]
    },
    {
     "name": "stdout",
     "output_type": "stream",
     "text": [
      "Processing:  ../L4/ReAnalysis/data/S1 layer 4 non Martinotti/2018 21 09 slice 1 sample 5 (non-martinotti S1).mat\n"
     ]
    },
    {
     "name": "stderr",
     "output_type": "stream",
     "text": [
      "/gpfs01/berens/user/ybernaerts/EphysAnalysis/data/ephys/code/ephys_features.py:944: RuntimeWarning: invalid value encountered in sqrt\n",
      "  rsme = np.sqrt(np.mean(pred - v_window))\n",
      "/gpfs01/berens/user/ybernaerts/EphysAnalysis/data/ephys/code/ephys_features.py:944: RuntimeWarning: invalid value encountered in sqrt\n",
      "  rsme = np.sqrt(np.mean(pred - v_window))\n"
     ]
    },
    {
     "name": "stdout",
     "output_type": "stream",
     "text": [
      "Processing:  ../L4/ReAnalysis/data/S1 layer 4 non Martinotti/2018 19 09 slice 2 sample 18 (non-martinotti S1).mat\n"
     ]
    },
    {
     "name": "stderr",
     "output_type": "stream",
     "text": [
      "/gpfs01/berens/user/ybernaerts/EphysAnalysis/data/ephys/code/ephys_features.py:944: RuntimeWarning: invalid value encountered in sqrt\n",
      "  rsme = np.sqrt(np.mean(pred - v_window))\n",
      "/gpfs01/berens/user/ybernaerts/EphysAnalysis/data/ephys/code/ephys_features.py:944: RuntimeWarning: invalid value encountered in sqrt\n",
      "  rsme = np.sqrt(np.mean(pred - v_window))\n"
     ]
    },
    {
     "name": "stdout",
     "output_type": "stream",
     "text": [
      "Processing:  ../L4/ReAnalysis/data/S1 layer 4 non Martinotti/2018 19 09 slice 2 sample 24 (non-martinotti S1).mat\n"
     ]
    },
    {
     "name": "stderr",
     "output_type": "stream",
     "text": [
      "/gpfs01/berens/user/ybernaerts/EphysAnalysis/data/ephys/code/ephys_features.py:944: RuntimeWarning: invalid value encountered in sqrt\n",
      "  rsme = np.sqrt(np.mean(pred - v_window))\n",
      "/gpfs01/berens/user/ybernaerts/EphysAnalysis/data/ephys/code/ephys_features.py:944: RuntimeWarning: invalid value encountered in sqrt\n",
      "  rsme = np.sqrt(np.mean(pred - v_window))\n"
     ]
    },
    {
     "name": "stdout",
     "output_type": "stream",
     "text": [
      "Processing:  ../L4/ReAnalysis/data/S1 layer 4 non Martinotti/2018 19 09 slice 2 sample 22 (non-martinotti S1).mat\n"
     ]
    },
    {
     "name": "stderr",
     "output_type": "stream",
     "text": [
      "/gpfs01/berens/user/ybernaerts/EphysAnalysis/data/ephys/code/ephys_features.py:944: RuntimeWarning: invalid value encountered in sqrt\n",
      "  rsme = np.sqrt(np.mean(pred - v_window))\n",
      "/gpfs01/berens/user/ybernaerts/EphysAnalysis/data/ephys/code/ephys_features.py:944: RuntimeWarning: invalid value encountered in sqrt\n",
      "  rsme = np.sqrt(np.mean(pred - v_window))\n"
     ]
    },
    {
     "name": "stdout",
     "output_type": "stream",
     "text": [
      "Processing:  ../L4/ReAnalysis/data/S1 layer 4 non Martinotti/2018 05 06 slice 1 sample 15 (non-martinotti S1).mat\n"
     ]
    },
    {
     "name": "stderr",
     "output_type": "stream",
     "text": [
      "/gpfs01/berens/user/ybernaerts/EphysAnalysis/data/ephys/code/ephys_features.py:944: RuntimeWarning: invalid value encountered in sqrt\n",
      "  rsme = np.sqrt(np.mean(pred - v_window))\n",
      "/gpfs01/berens/user/ybernaerts/EphysAnalysis/data/ephys/code/ephys_features.py:944: RuntimeWarning: invalid value encountered in sqrt\n",
      "  rsme = np.sqrt(np.mean(pred - v_window))\n"
     ]
    },
    {
     "name": "stdout",
     "output_type": "stream",
     "text": [
      "Processing:  ../L4/ReAnalysis/data/S1 layer 4 non Martinotti/2018 19 09 slice 2 sample 19 (non-martinotti S1).mat\n"
     ]
    },
    {
     "name": "stderr",
     "output_type": "stream",
     "text": [
      "/gpfs01/berens/user/ybernaerts/EphysAnalysis/data/ephys/code/ephys_features.py:944: RuntimeWarning: invalid value encountered in sqrt\n",
      "  rsme = np.sqrt(np.mean(pred - v_window))\n",
      "/gpfs01/berens/user/ybernaerts/EphysAnalysis/data/ephys/code/ephys_features.py:944: RuntimeWarning: invalid value encountered in sqrt\n",
      "  rsme = np.sqrt(np.mean(pred - v_window))\n"
     ]
    },
    {
     "name": "stdout",
     "output_type": "stream",
     "text": [
      "Processing:  ../L4/ReAnalysis/data/S1 layer 4 non Martinotti/2018 21 09 slice 1 sample 2 (non-martinotti S1).mat\n"
     ]
    },
    {
     "name": "stderr",
     "output_type": "stream",
     "text": [
      "/gpfs01/berens/user/ybernaerts/EphysAnalysis/data/ephys/code/ephys_features.py:944: RuntimeWarning: invalid value encountered in sqrt\n",
      "  rsme = np.sqrt(np.mean(pred - v_window))\n",
      "/gpfs01/berens/user/ybernaerts/EphysAnalysis/data/ephys/code/ephys_features.py:944: RuntimeWarning: invalid value encountered in sqrt\n",
      "  rsme = np.sqrt(np.mean(pred - v_window))\n"
     ]
    },
    {
     "name": "stdout",
     "output_type": "stream",
     "text": [
      "Processing:  ../L4/ReAnalysis/data/S1 layer 4 non Martinotti/2018 20 09 slice 1 sample 10 (non-martinotti S1).mat\n"
     ]
    },
    {
     "name": "stderr",
     "output_type": "stream",
     "text": [
      "/gpfs01/berens/user/ybernaerts/EphysAnalysis/data/ephys/code/ephys_features.py:944: RuntimeWarning: invalid value encountered in sqrt\n",
      "  rsme = np.sqrt(np.mean(pred - v_window))\n",
      "/gpfs01/berens/user/ybernaerts/EphysAnalysis/data/ephys/code/ephys_features.py:944: RuntimeWarning: invalid value encountered in sqrt\n",
      "  rsme = np.sqrt(np.mean(pred - v_window))\n"
     ]
    },
    {
     "name": "stdout",
     "output_type": "stream",
     "text": [
      "Processing:  ../L4/ReAnalysis/data/S1 layer 4 non Martinotti/2018 26 06 slice 1 sample 17 (non-martinotti S1).mat\n",
      "Processing:  ../L4/ReAnalysis/data/S1 layer 4 non Martinotti/2018 19 09 slice 2 sample 21 (non-martinotti S1).mat\n"
     ]
    },
    {
     "name": "stderr",
     "output_type": "stream",
     "text": [
      "/gpfs01/berens/user/ybernaerts/EphysAnalysis/data/ephys/code/ephys_features.py:944: RuntimeWarning: invalid value encountered in sqrt\n",
      "  rsme = np.sqrt(np.mean(pred - v_window))\n",
      "/gpfs01/berens/user/ybernaerts/EphysAnalysis/data/ephys/code/ephys_features.py:944: RuntimeWarning: invalid value encountered in sqrt\n",
      "  rsme = np.sqrt(np.mean(pred - v_window))\n"
     ]
    },
    {
     "name": "stdout",
     "output_type": "stream",
     "text": [
      "Processing:  ../L4/ReAnalysis/data/S1 layer 4 non Martinotti/2018 27 06 slice 1 sample 8 (non-martinotti S1).mat\n"
     ]
    },
    {
     "name": "stderr",
     "output_type": "stream",
     "text": [
      "/gpfs01/berens/user/ybernaerts/EphysAnalysis/data/ephys/code/ephys_features.py:944: RuntimeWarning: invalid value encountered in sqrt\n",
      "  rsme = np.sqrt(np.mean(pred - v_window))\n",
      "/gpfs01/berens/user/ybernaerts/EphysAnalysis/data/ephys/code/ephys_features.py:944: RuntimeWarning: invalid value encountered in sqrt\n",
      "  rsme = np.sqrt(np.mean(pred - v_window))\n"
     ]
    },
    {
     "name": "stdout",
     "output_type": "stream",
     "text": [
      "Processing:  ../L4/ReAnalysis/data/S1 layer 4 non Martinotti/2018 03 07 slice 1 sample 11 (non-martinotti S1).mat\n"
     ]
    },
    {
     "name": "stderr",
     "output_type": "stream",
     "text": [
      "/gpfs01/berens/user/ybernaerts/EphysAnalysis/data/ephys/code/ephys_features.py:944: RuntimeWarning: invalid value encountered in sqrt\n",
      "  rsme = np.sqrt(np.mean(pred - v_window))\n",
      "/gpfs01/berens/user/ybernaerts/EphysAnalysis/data/ephys/code/ephys_features.py:944: RuntimeWarning: invalid value encountered in sqrt\n",
      "  rsme = np.sqrt(np.mean(pred - v_window))\n"
     ]
    },
    {
     "name": "stdout",
     "output_type": "stream",
     "text": [
      "Processing:  ../L4/ReAnalysis/data/S1 layer 4 non Martinotti/2018 27 06 slice 1 sample 3 (non-martinotti S1).mat\n",
      "Processing:  ../L4/ReAnalysis/data/S1 layer 4 non Martinotti/2018 19 09 slice 1 sample 7 (non-martinotti S1).mat\n",
      "Processing:  ../L4/ReAnalysis/data/S1 layer 4 non Martinotti/2018 21 09 slice 1 sample 1 (non-martinotti S1).mat\n"
     ]
    },
    {
     "name": "stderr",
     "output_type": "stream",
     "text": [
      "/gpfs01/berens/user/ybernaerts/EphysAnalysis/data/ephys/code/ephys_features.py:944: RuntimeWarning: invalid value encountered in sqrt\n",
      "  rsme = np.sqrt(np.mean(pred - v_window))\n",
      "/gpfs01/berens/user/ybernaerts/EphysAnalysis/data/ephys/code/ephys_features.py:944: RuntimeWarning: invalid value encountered in sqrt\n",
      "  rsme = np.sqrt(np.mean(pred - v_window))\n"
     ]
    },
    {
     "name": "stdout",
     "output_type": "stream",
     "text": [
      "Processing:  ../L4/ReAnalysis/data/S1 layer 4 non Martinotti/2018 03 07 slice 1 sample 7 (non-martinotti S1).mat\n"
     ]
    },
    {
     "name": "stderr",
     "output_type": "stream",
     "text": [
      "/gpfs01/berens/user/ybernaerts/EphysAnalysis/data/ephys/code/ephys_features.py:944: RuntimeWarning: invalid value encountered in sqrt\n",
      "  rsme = np.sqrt(np.mean(pred - v_window))\n",
      "/gpfs01/berens/user/ybernaerts/EphysAnalysis/data/ephys/code/ephys_features.py:944: RuntimeWarning: invalid value encountered in sqrt\n",
      "  rsme = np.sqrt(np.mean(pred - v_window))\n"
     ]
    },
    {
     "name": "stdout",
     "output_type": "stream",
     "text": [
      "Processing:  ../L4/ReAnalysis/data/S1 layer 4 non Martinotti/2018 05 06 slice 1 sample 18 (non-martinotti S1).mat\n",
      "Processing:  ../L4/ReAnalysis/data/V1 layer 4 Martinotti/2018 19 09 slice 1 sample 10 (martinotti V1).mat\n"
     ]
    },
    {
     "name": "stderr",
     "output_type": "stream",
     "text": [
      "/gpfs01/berens/user/ybernaerts/EphysAnalysis/data/ephys/code/ephys_features.py:944: RuntimeWarning: invalid value encountered in sqrt\n",
      "  rsme = np.sqrt(np.mean(pred - v_window))\n",
      "/gpfs01/berens/user/ybernaerts/EphysAnalysis/data/ephys/code/ephys_features.py:944: RuntimeWarning: invalid value encountered in sqrt\n",
      "  rsme = np.sqrt(np.mean(pred - v_window))\n"
     ]
    },
    {
     "name": "stdout",
     "output_type": "stream",
     "text": [
      "Processing:  ../L4/ReAnalysis/data/V1 layer 4 Martinotti/2018 20 09 slice 1 sample 4 (martinotti V1).mat\n",
      "Processing:  ../L4/ReAnalysis/data/V1 layer 4 Martinotti/2018 05 06 slice 1 sample 13 (martinotti V1).mat\n"
     ]
    },
    {
     "name": "stderr",
     "output_type": "stream",
     "text": [
      "/gpfs01/berens/user/ybernaerts/EphysAnalysis/data/ephys/code/ephys_features.py:944: RuntimeWarning: invalid value encountered in sqrt\n",
      "  rsme = np.sqrt(np.mean(pred - v_window))\n",
      "/gpfs01/berens/user/ybernaerts/EphysAnalysis/data/ephys/code/ephys_features.py:944: RuntimeWarning: invalid value encountered in sqrt\n",
      "  rsme = np.sqrt(np.mean(pred - v_window))\n",
      "/usr/local/lib/python3.5/dist-packages/ipykernel_launcher.py:57: RuntimeWarning: invalid value encountered in greater\n"
     ]
    },
    {
     "name": "stdout",
     "output_type": "stream",
     "text": [
      "Processing:  ../L4/ReAnalysis/data/V1 layer 4 Martinotti/2018 03 07 slice 1 sample 15 (martinotti V1).mat\n"
     ]
    },
    {
     "name": "stderr",
     "output_type": "stream",
     "text": [
      "/gpfs01/berens/user/ybernaerts/EphysAnalysis/data/ephys/code/ephys_features.py:944: RuntimeWarning: invalid value encountered in sqrt\n",
      "  rsme = np.sqrt(np.mean(pred - v_window))\n",
      "/gpfs01/berens/user/ybernaerts/EphysAnalysis/data/ephys/code/ephys_features.py:944: RuntimeWarning: invalid value encountered in sqrt\n",
      "  rsme = np.sqrt(np.mean(pred - v_window))\n"
     ]
    },
    {
     "name": "stdout",
     "output_type": "stream",
     "text": [
      "Processing:  ../L4/ReAnalysis/data/V1 layer 4 Martinotti/2018 26 06 slice 1 sample 13 (martinotti V1).mat\n"
     ]
    },
    {
     "name": "stderr",
     "output_type": "stream",
     "text": [
      "/gpfs01/berens/user/ybernaerts/EphysAnalysis/data/ephys/code/ephys_features.py:944: RuntimeWarning: invalid value encountered in sqrt\n",
      "  rsme = np.sqrt(np.mean(pred - v_window))\n",
      "/gpfs01/berens/user/ybernaerts/EphysAnalysis/data/ephys/code/ephys_features.py:944: RuntimeWarning: invalid value encountered in sqrt\n",
      "  rsme = np.sqrt(np.mean(pred - v_window))\n"
     ]
    },
    {
     "name": "stdout",
     "output_type": "stream",
     "text": [
      "Processing:  ../L4/ReAnalysis/data/V1 layer 4 Martinotti/2018 19 09 slice 1 sample 11 (martinotti V1).mat\n",
      "Processing:  ../L4/ReAnalysis/data/V1 layer 4 Martinotti/2018 19 09 slice 2 sample 13 (martinotti V1).mat\n",
      "Processing:  ../L4/ReAnalysis/data/V1 layer 4 Martinotti/2018 20 09 slice 1 sample 3 (martinotti V1).mat\n"
     ]
    },
    {
     "name": "stderr",
     "output_type": "stream",
     "text": [
      "/gpfs01/berens/user/ybernaerts/EphysAnalysis/data/ephys/code/ephys_features.py:944: RuntimeWarning: invalid value encountered in sqrt\n",
      "  rsme = np.sqrt(np.mean(pred - v_window))\n",
      "/gpfs01/berens/user/ybernaerts/EphysAnalysis/data/ephys/code/ephys_features.py:944: RuntimeWarning: invalid value encountered in sqrt\n",
      "  rsme = np.sqrt(np.mean(pred - v_window))\n"
     ]
    },
    {
     "name": "stdout",
     "output_type": "stream",
     "text": [
      "Processing:  ../L4/ReAnalysis/data/V1 layer 4 Martinotti/2018 19 09 slice 2 sample 16 (martinotti V1).mat\n",
      "Processing:  ../L4/ReAnalysis/data/V1 layer 4 Martinotti/2018 04 06 slice 1 sample 2 (martinotti V1).mat\n"
     ]
    },
    {
     "name": "stderr",
     "output_type": "stream",
     "text": [
      "/gpfs01/berens/user/ybernaerts/EphysAnalysis/data/ephys/code/ephys_features.py:944: RuntimeWarning: invalid value encountered in sqrt\n",
      "  rsme = np.sqrt(np.mean(pred - v_window))\n",
      "/gpfs01/berens/user/ybernaerts/EphysAnalysis/data/ephys/code/ephys_features.py:944: RuntimeWarning: invalid value encountered in sqrt\n",
      "  rsme = np.sqrt(np.mean(pred - v_window))\n"
     ]
    },
    {
     "name": "stdout",
     "output_type": "stream",
     "text": [
      "Processing:  ../L4/ReAnalysis/data/V1 layer 4 Martinotti/2018 05 06 slice 1 sample 5 (martinotti V1).mat\n"
     ]
    },
    {
     "name": "stderr",
     "output_type": "stream",
     "text": [
      "/gpfs01/berens/user/ybernaerts/EphysAnalysis/data/ephys/code/ephys_features.py:944: RuntimeWarning: invalid value encountered in sqrt\n",
      "  rsme = np.sqrt(np.mean(pred - v_window))\n",
      "/gpfs01/berens/user/ybernaerts/EphysAnalysis/data/ephys/code/ephys_features.py:944: RuntimeWarning: invalid value encountered in sqrt\n",
      "  rsme = np.sqrt(np.mean(pred - v_window))\n"
     ]
    },
    {
     "name": "stdout",
     "output_type": "stream",
     "text": [
      "Processing:  ../L4/ReAnalysis/data/V1 layer 4 Martinotti/2018 26 06 slice 1 sample 12 (martinotti V1).mat\n"
     ]
    },
    {
     "name": "stderr",
     "output_type": "stream",
     "text": [
      "/gpfs01/berens/user/ybernaerts/EphysAnalysis/data/ephys/code/ephys_features.py:944: RuntimeWarning: invalid value encountered in sqrt\n",
      "  rsme = np.sqrt(np.mean(pred - v_window))\n",
      "/gpfs01/berens/user/ybernaerts/EphysAnalysis/data/ephys/code/ephys_features.py:944: RuntimeWarning: invalid value encountered in sqrt\n",
      "  rsme = np.sqrt(np.mean(pred - v_window))\n"
     ]
    },
    {
     "name": "stdout",
     "output_type": "stream",
     "text": [
      "Processing:  ../L4/ReAnalysis/data/V1 layer 4 Martinotti/2018 19 09 slice 1 sample 2 (martinotti V1).mat\n"
     ]
    },
    {
     "name": "stderr",
     "output_type": "stream",
     "text": [
      "/gpfs01/berens/user/ybernaerts/EphysAnalysis/data/ephys/code/ephys_features.py:944: RuntimeWarning: invalid value encountered in sqrt\n",
      "  rsme = np.sqrt(np.mean(pred - v_window))\n",
      "/gpfs01/berens/user/ybernaerts/EphysAnalysis/data/ephys/code/ephys_features.py:944: RuntimeWarning: invalid value encountered in sqrt\n",
      "  rsme = np.sqrt(np.mean(pred - v_window))\n"
     ]
    },
    {
     "name": "stdout",
     "output_type": "stream",
     "text": [
      "Processing:  ../L4/ReAnalysis/data/V1 layer 4 Martinotti/2018 20 09 slice 1 sample 2 (martinotti V1).mat\n"
     ]
    },
    {
     "name": "stderr",
     "output_type": "stream",
     "text": [
      "/gpfs01/berens/user/ybernaerts/EphysAnalysis/data/ephys/code/ephys_features.py:944: RuntimeWarning: invalid value encountered in sqrt\n",
      "  rsme = np.sqrt(np.mean(pred - v_window))\n",
      "/gpfs01/berens/user/ybernaerts/EphysAnalysis/data/ephys/code/ephys_features.py:944: RuntimeWarning: invalid value encountered in sqrt\n",
      "  rsme = np.sqrt(np.mean(pred - v_window))\n"
     ]
    },
    {
     "name": "stdout",
     "output_type": "stream",
     "text": [
      "Processing:  ../L4/ReAnalysis/data/V1 layer 4 Martinotti/2018 05 06 slice 1 sample 19 (martinotti V1).mat\n"
     ]
    },
    {
     "name": "stderr",
     "output_type": "stream",
     "text": [
      "/gpfs01/berens/user/ybernaerts/EphysAnalysis/data/ephys/code/ephys_features.py:944: RuntimeWarning: invalid value encountered in sqrt\n",
      "  rsme = np.sqrt(np.mean(pred - v_window))\n",
      "/gpfs01/berens/user/ybernaerts/EphysAnalysis/data/ephys/code/ephys_features.py:944: RuntimeWarning: invalid value encountered in sqrt\n",
      "  rsme = np.sqrt(np.mean(pred - v_window))\n",
      "/usr/local/lib/python3.5/dist-packages/ipykernel_launcher.py:57: RuntimeWarning: invalid value encountered in greater\n"
     ]
    },
    {
     "name": "stdout",
     "output_type": "stream",
     "text": [
      "Processing:  ../L4/ReAnalysis/data/V1 layer 4 Martinotti/2018 04 06 slice 1 sample 1 (martinotti V1).mat\n"
     ]
    },
    {
     "name": "stderr",
     "output_type": "stream",
     "text": [
      "/usr/local/lib/python3.5/dist-packages/ipykernel_launcher.py:57: RuntimeWarning: invalid value encountered in greater\n"
     ]
    },
    {
     "name": "stdout",
     "output_type": "stream",
     "text": [
      "Processing:  ../L4/ReAnalysis/data/V1 layer 4 Martinotti/2018 05 06 slice 1 sample 2 (martinotti V1).mat\n"
     ]
    },
    {
     "name": "stderr",
     "output_type": "stream",
     "text": [
      "/gpfs01/berens/user/ybernaerts/EphysAnalysis/data/ephys/code/ephys_features.py:944: RuntimeWarning: invalid value encountered in sqrt\n",
      "  rsme = np.sqrt(np.mean(pred - v_window))\n",
      "/gpfs01/berens/user/ybernaerts/EphysAnalysis/data/ephys/code/ephys_features.py:944: RuntimeWarning: invalid value encountered in sqrt\n",
      "  rsme = np.sqrt(np.mean(pred - v_window))\n"
     ]
    },
    {
     "name": "stdout",
     "output_type": "stream",
     "text": [
      "Processing:  ../L4/ReAnalysis/data/V1 layer 4 Martinotti/2018 05 06 slice 1 sample 7 (martinotti V1).mat\n"
     ]
    },
    {
     "name": "stderr",
     "output_type": "stream",
     "text": [
      "/gpfs01/berens/user/ybernaerts/EphysAnalysis/data/ephys/code/ephys_features.py:944: RuntimeWarning: invalid value encountered in sqrt\n",
      "  rsme = np.sqrt(np.mean(pred - v_window))\n",
      "/gpfs01/berens/user/ybernaerts/EphysAnalysis/data/ephys/code/ephys_features.py:944: RuntimeWarning: invalid value encountered in sqrt\n",
      "  rsme = np.sqrt(np.mean(pred - v_window))\n"
     ]
    },
    {
     "name": "stdout",
     "output_type": "stream",
     "text": [
      "Processing:  ../L4/ReAnalysis/data/V1 layer 4 Martinotti/2018 19 09 slice 1 sample 6 (martinotti V1).mat\n",
      "Processing:  ../L4/ReAnalysis/data/V1 layer 4 Martinotti/2018 03 07 slice 1 sample 3 (martinotti V1).mat\n"
     ]
    },
    {
     "name": "stderr",
     "output_type": "stream",
     "text": [
      "/gpfs01/berens/user/ybernaerts/EphysAnalysis/data/ephys/code/ephys_features.py:944: RuntimeWarning: invalid value encountered in sqrt\n",
      "  rsme = np.sqrt(np.mean(pred - v_window))\n",
      "/gpfs01/berens/user/ybernaerts/EphysAnalysis/data/ephys/code/ephys_features.py:944: RuntimeWarning: invalid value encountered in sqrt\n",
      "  rsme = np.sqrt(np.mean(pred - v_window))\n"
     ]
    },
    {
     "name": "stdout",
     "output_type": "stream",
     "text": [
      "Processing:  ../L4/ReAnalysis/data/V1 layer 4 Martinotti/2018 19 09 slice 2 sample 25 (martinotti V1).mat\n",
      "Processing:  ../L4/ReAnalysis/data/V1 layer 4 Martinotti/2018 20 09 slice 1 sample 1 (martinotti V1).mat\n",
      "Processing:  ../L4/ReAnalysis/data/V1 layer 4 Martinotti/2018 05 06 slice 1 sample 10 (martinotti V1).mat\n",
      "Processing:  ../L4/ReAnalysis/data/V1 layer 4 Martinotti/2018 05 06 slice 1 sample 6 (martinotti V1).mat\n"
     ]
    },
    {
     "name": "stderr",
     "output_type": "stream",
     "text": [
      "/gpfs01/berens/user/ybernaerts/EphysAnalysis/data/ephys/code/ephys_features.py:944: RuntimeWarning: invalid value encountered in sqrt\n",
      "  rsme = np.sqrt(np.mean(pred - v_window))\n",
      "/gpfs01/berens/user/ybernaerts/EphysAnalysis/data/ephys/code/ephys_features.py:944: RuntimeWarning: invalid value encountered in sqrt\n",
      "  rsme = np.sqrt(np.mean(pred - v_window))\n"
     ]
    },
    {
     "name": "stdout",
     "output_type": "stream",
     "text": [
      "Processing:  ../L4/ReAnalysis/data/V1 layer 4 Martinotti/2018 19 09 slice 1 sample 4 (martinotti V1).mat\n",
      "Processing:  ../L4/ReAnalysis/data/V1 layer 4 Martinotti/2018 26 06 slice 1 sample 2 (martinotti V1).mat\n"
     ]
    },
    {
     "name": "stderr",
     "output_type": "stream",
     "text": [
      "/gpfs01/berens/user/ybernaerts/EphysAnalysis/data/ephys/code/ephys_features.py:944: RuntimeWarning: invalid value encountered in sqrt\n",
      "  rsme = np.sqrt(np.mean(pred - v_window))\n",
      "/gpfs01/berens/user/ybernaerts/EphysAnalysis/data/ephys/code/ephys_features.py:944: RuntimeWarning: invalid value encountered in sqrt\n",
      "  rsme = np.sqrt(np.mean(pred - v_window))\n",
      "/usr/local/lib/python3.5/dist-packages/ipykernel_launcher.py:57: RuntimeWarning: invalid value encountered in greater\n"
     ]
    },
    {
     "name": "stdout",
     "output_type": "stream",
     "text": [
      "Processing:  ../L4/ReAnalysis/data/V1 layer 4 Martinotti/2018 19 09 slice 1 sample 3 (martinotti V1).mat\n"
     ]
    },
    {
     "name": "stderr",
     "output_type": "stream",
     "text": [
      "/gpfs01/berens/user/ybernaerts/EphysAnalysis/data/ephys/code/ephys_features.py:944: RuntimeWarning: invalid value encountered in sqrt\n",
      "  rsme = np.sqrt(np.mean(pred - v_window))\n",
      "/gpfs01/berens/user/ybernaerts/EphysAnalysis/data/ephys/code/ephys_features.py:944: RuntimeWarning: invalid value encountered in sqrt\n",
      "  rsme = np.sqrt(np.mean(pred - v_window))\n"
     ]
    },
    {
     "name": "stdout",
     "output_type": "stream",
     "text": [
      "Processing:  ../L4/ReAnalysis/data/V1 layer 4 Martinotti/2018 26 06 slice 1 sample 11 (martinotti V1).mat\n"
     ]
    },
    {
     "name": "stderr",
     "output_type": "stream",
     "text": [
      "/gpfs01/berens/user/ybernaerts/EphysAnalysis/data/ephys/code/ephys_features.py:944: RuntimeWarning: invalid value encountered in sqrt\n",
      "  rsme = np.sqrt(np.mean(pred - v_window))\n",
      "/gpfs01/berens/user/ybernaerts/EphysAnalysis/data/ephys/code/ephys_features.py:944: RuntimeWarning: invalid value encountered in sqrt\n",
      "  rsme = np.sqrt(np.mean(pred - v_window))\n"
     ]
    },
    {
     "name": "stdout",
     "output_type": "stream",
     "text": [
      "Processing:  ../L4/ReAnalysis/data/V1 layer 4 Martinotti/2018 20 09 slice 1 sample 5 (martinotti V1).mat\n"
     ]
    },
    {
     "name": "stderr",
     "output_type": "stream",
     "text": [
      "/gpfs01/berens/user/ybernaerts/EphysAnalysis/data/ephys/code/ephys_features.py:944: RuntimeWarning: invalid value encountered in sqrt\n",
      "  rsme = np.sqrt(np.mean(pred - v_window))\n",
      "/gpfs01/berens/user/ybernaerts/EphysAnalysis/data/ephys/code/ephys_features.py:944: RuntimeWarning: invalid value encountered in sqrt\n",
      "  rsme = np.sqrt(np.mean(pred - v_window))\n"
     ]
    }
   ],
   "source": [
    "directory = '../L4/ReAnalysis/Figures/PlotInfoMultiplePeaks/'\n",
    "plot_info_all(L4_re, L4_re_names, directory)"
   ]
  },
  {
   "cell_type": "code",
   "execution_count": 54,
   "metadata": {},
   "outputs": [
    {
     "name": "stdout",
     "output_type": "stream",
     "text": [
      "Processing:  ../L4/ReAnalysis/data/Excluded Data//2018 06 06 slice 1 sample 1.mat\n",
      "Processing:  ../L4/ReAnalysis/data/Excluded Data//2018 03 07 slice 1 sample 2 (martinotti V1).mat\n"
     ]
    },
    {
     "name": "stderr",
     "output_type": "stream",
     "text": [
      "/gpfs01/berens/user/ybernaerts/EphysAnalysis/data/ephys/code/ephys_features.py:944: RuntimeWarning: invalid value encountered in sqrt\n",
      "  rsme = np.sqrt(np.mean(pred - v_window))\n"
     ]
    },
    {
     "name": "stdout",
     "output_type": "stream",
     "text": [
      "Processing:  ../L4/ReAnalysis/data/Excluded Data//2018 03 07 slice 1 sample 14 (non-martinotti S1; not sure layer).mat\n"
     ]
    },
    {
     "name": "stderr",
     "output_type": "stream",
     "text": [
      "/gpfs01/berens/user/ybernaerts/EphysAnalysis/data/ephys/code/ephys_features.py:944: RuntimeWarning: invalid value encountered in sqrt\n",
      "  rsme = np.sqrt(np.mean(pred - v_window))\n",
      "/gpfs01/berens/user/ybernaerts/EphysAnalysis/data/ephys/code/ephys_features.py:944: RuntimeWarning: invalid value encountered in sqrt\n",
      "  rsme = np.sqrt(np.mean(pred - v_window))\n"
     ]
    },
    {
     "name": "stdout",
     "output_type": "stream",
     "text": [
      "Processing:  ../L4/ReAnalysis/data/Excluded Data//2018 05 06 slice 1 sample 4 (martinotti V1).mat\n"
     ]
    },
    {
     "name": "stderr",
     "output_type": "stream",
     "text": [
      "/gpfs01/berens/user/ybernaerts/EphysAnalysis/data/ephys/code/ephys_features.py:944: RuntimeWarning: invalid value encountered in sqrt\n",
      "  rsme = np.sqrt(np.mean(pred - v_window))\n",
      "/gpfs01/berens/user/ybernaerts/EphysAnalysis/data/ephys/code/ephys_features.py:944: RuntimeWarning: invalid value encountered in sqrt\n",
      "  rsme = np.sqrt(np.mean(pred - v_window))\n"
     ]
    },
    {
     "name": "stdout",
     "output_type": "stream",
     "text": [
      "Processing:  ../L4/ReAnalysis/data/Excluded Data//2018 03 07 slice 1 sample 14 (fast spiking S1).mat\n"
     ]
    },
    {
     "name": "stderr",
     "output_type": "stream",
     "text": [
      "/gpfs01/berens/user/ybernaerts/EphysAnalysis/data/ephys/code/ephys_features.py:944: RuntimeWarning: invalid value encountered in sqrt\n",
      "  rsme = np.sqrt(np.mean(pred - v_window))\n",
      "/gpfs01/berens/user/ybernaerts/EphysAnalysis/data/ephys/code/ephys_features.py:944: RuntimeWarning: invalid value encountered in sqrt\n",
      "  rsme = np.sqrt(np.mean(pred - v_window))\n"
     ]
    },
    {
     "name": "stdout",
     "output_type": "stream",
     "text": [
      "Processing:  ../L4/ReAnalysis/data/Excluded Data//2018 19 09 slice 1 sample 1 (matinotti V1).mat\n",
      "Processing:  ../L4/ReAnalysis/data/Excluded Data//2018 05 06 slice 1 sample 17 (fast spiking S1).mat\n"
     ]
    },
    {
     "name": "stderr",
     "output_type": "stream",
     "text": [
      "/gpfs01/berens/user/ybernaerts/EphysAnalysis/data/ephys/code/ephys_features.py:944: RuntimeWarning: invalid value encountered in sqrt\n",
      "  rsme = np.sqrt(np.mean(pred - v_window))\n",
      "/gpfs01/berens/user/ybernaerts/EphysAnalysis/data/ephys/code/ephys_features.py:944: RuntimeWarning: invalid value encountered in sqrt\n",
      "  rsme = np.sqrt(np.mean(pred - v_window))\n"
     ]
    },
    {
     "name": "stdout",
     "output_type": "stream",
     "text": [
      "Processing:  ../L4/ReAnalysis/data/Excluded Data//2018 26 06 slice 1 sample 2 (non-martinoti S1).mat\n",
      "Processing:  ../L4/ReAnalysis/data/Excluded Data//2018 04 06 slice 1 sample 3 (martinotti V1).mat\n"
     ]
    },
    {
     "name": "stderr",
     "output_type": "stream",
     "text": [
      "/gpfs01/berens/user/ybernaerts/EphysAnalysis/data/ephys/code/ephys_features.py:944: RuntimeWarning: invalid value encountered in sqrt\n",
      "  rsme = np.sqrt(np.mean(pred - v_window))\n",
      "/gpfs01/berens/user/ybernaerts/EphysAnalysis/data/ephys/code/ephys_features.py:944: RuntimeWarning: invalid value encountered in sqrt\n",
      "  rsme = np.sqrt(np.mean(pred - v_window))\n",
      "/usr/local/lib/python3.5/dist-packages/ipykernel_launcher.py:57: RuntimeWarning: invalid value encountered in greater\n"
     ]
    },
    {
     "name": "stdout",
     "output_type": "stream",
     "text": [
      "Processing:  ../L4/ReAnalysis/data/Excluded Data//2018 26 06 slice 1 sample 7 (non-martinoti S1).mat\n",
      "Processing:  ../L4/ReAnalysis/data/Excluded Data//2018 03 07 slice 1 sample 8 (matinotti V1; not good quality).mat\n"
     ]
    },
    {
     "name": "stderr",
     "output_type": "stream",
     "text": [
      "/gpfs01/berens/user/ybernaerts/EphysAnalysis/data/ephys/code/ephys_features.py:944: RuntimeWarning: invalid value encountered in sqrt\n",
      "  rsme = np.sqrt(np.mean(pred - v_window))\n",
      "/gpfs01/berens/user/ybernaerts/EphysAnalysis/data/ephys/code/ephys_features.py:944: RuntimeWarning: invalid value encountered in sqrt\n",
      "  rsme = np.sqrt(np.mean(pred - v_window))\n"
     ]
    }
   ],
   "source": [
    "directory = '../L4/ReAnalysis/Figures/PlotInfoMultiplePeaksExcludedData/'\n",
    "plot_info_all(L4_excluded, L4_excluded_names, directory)"
   ]
  },
  {
   "cell_type": "code",
   "execution_count": 42,
   "metadata": {},
   "outputs": [],
   "source": [
    "def plot_info_first_peak(data, start = 0.1, end = 0.7):\n",
    "    \"\"\" Analyses a specific data dictionary corresponding to a cell and returns a figure object with annotations on the first\n",
    "    peak of a particular trace of how certain features have been calculated. Works for data extracted from .mat files, not for\n",
    "    .asc files.\n",
    "    Parameters\n",
    "    ----------\n",
    "    data : data full of voltage (V) and time (s) for a particular cell\n",
    "    el_num : integer, from which electrode number has been measured (optional, 2 by default)\n",
    "    current_step : float, which current step (pA) has been used between consecutive experiments (optional, 20 by default)\n",
    "    start : start of the stimulation (s) in the voltage trace (optional, default 0.1)\n",
    "    end : end of the stimulation (s) in the voltage trace (optional, default 0.7)\n",
    "    fil : cutoff frequency for 4-pole low-pass Bessel filter in kHz (optional, default 10)\n",
    "    \n",
    "    Returns\n",
    "    -------\n",
    "    ax : figure object\n",
    "    \"\"\"\n",
    "    time, current, voltage, curr_index_0 = data_preparation(data)\n",
    "    filter_ = 10\n",
    "    if (1/time[1]-time[0]) < 20e3:\n",
    "        filter_ = (1/time[1]-time[0])/(1e3*2)-0.5\n",
    "    df, df_related_features = extract_spike_features(time, current, voltage)\n",
    "    Cell_Features = get_cell_features(df, df_related_features, curr_index_0)\n",
    "    current_first = np.flatnonzero(df_related_features['spike_count'].values >=1)[0]\n",
    "\n",
    "\n",
    "    # Actual current there\n",
    "    current_first_magn = current[current_first]\n",
    "    # Amount of spikes there\n",
    "    spike_count = df_related_features['spike_count'].values[current_first]\n",
    "\n",
    "\n",
    "    # Find start and end indexes in df for all the spikes in that particular train\n",
    "    index_start_df = np.flatnonzero(df['threshold_i'].values >= \\\n",
    "    current_first_magn)[0]\n",
    "    index_end_df = np.flatnonzero(df['threshold_i'].values >= \\\n",
    "    current_first_magn)[0] + spike_count\n",
    "\n",
    "    # Get threshold, peak, upstroke and downstroke indexes\n",
    "    thresh_index = np.array(df['threshold_index'].values[index_start_df : index_end_df], dtype = int)\n",
    "    upstroke_index = np.array(df['upstroke_index'].values[index_start_df : index_end_df], dtype = int)\n",
    "    peak_index = np.array(df['peak_index'].values[index_start_df : index_end_df], dtype = int)\n",
    "    downstroke_index = np.array(df['downstroke_index'].values[index_start_df : index_end_df], dtype = int)\n",
    "    fast_trough_index = np.array(df['fast_trough_index'].values[index_start_df : index_end_df], dtype = int)\n",
    "    slow_trough_index = df['slow_trough_index'].values[index_start_df : index_end_df]\n",
    "    slow_trough_index = np.array(slow_trough_index[~np.isnan(slow_trough_index)], dtype = int)\n",
    "\n",
    "    \n",
    "    start_index = thresh_index[0]\n",
    "    end_index = fast_trough_index[0] + 50 # Plot 50 time indices after the fast trough index (should always exist)\n",
    "        # When last spike is clipped\n",
    "    if df['clipped'].values[index_end_df-1]:\n",
    "        return\n",
    "\n",
    "    f, ax = plt.subplots(figsize = (10, 10))\n",
    "    ax.plot(time[start_index : end_index], voltage[start_index : end_index, current_first])\n",
    "\n",
    "    ax.plot(time[thresh_index[0]], voltage[thresh_index[0], current_first], 'b.', ms = 15)\n",
    "    ax.plot(time[upstroke_index[0]], voltage[upstroke_index[0], current_first], 'r.', ms = 15)\n",
    "    ax.plot(time[peak_index[0]], voltage[peak_index[0], current_first], 'g.', ms = 15)\n",
    "    ax.plot(time[downstroke_index[0]], voltage[downstroke_index[0], current_first], 'k.', ms = 15)\n",
    "    ax.plot(time[fast_trough_index[0]], voltage[fast_trough_index[0], current_first], 'y.', ms = 15)\n",
    "    if slow_trough_index.size:\n",
    "        ax.plot(time[slow_trough_index[0]], voltage[slow_trough_index[0], current_first], 'm.')\n",
    "        ax.legend(['Trace', 'Threshold', 'Upstroke', 'Peak', 'Downstroke', 'Fast trough', 'Slow trough (if applicable)'])\n",
    "    else:\n",
    "        ax.legend(['Trace', 'Threshold', 'Upstroke', 'Peak', 'Downstroke', 'Fast trough'])\n",
    "    ax.set_xlabel('Time (s)', fontsize = 15)\n",
    "    ax.set_ylabel('Voltage (mV)', fontsize = 15)\n",
    "    ax.set_title('First peak annotations (voltage i.f.o. time)', fontsize = 25)\n",
    "\n",
    "    # Nice annotations\n",
    "\n",
    "    ax.annotate('', xy = (time[peak_index[0]], voltage[peak_index[0], current_first]), \\\n",
    "                xycoords = 'data', xytext = (time[peak_index[0]], voltage[thresh_index[0], current_first]), \\\n",
    "                textcoords = 'data', arrowprops = {'arrowstyle': '<->', 'connectionstyle': 'arc3', 'lw': 4, 'shrinkB': 0})\n",
    "    ax.plot(time[peak_index[0]], voltage[thresh_index[0], current_first], '_', color = 'black', ms = 100)\n",
    "    ax.plot(time[peak_index[0]], voltage[peak_index[0], current_first], '_', color = 'black', ms = 100)\n",
    "\n",
    "\n",
    "    width_level = (voltage[peak_index[0], current_first] - voltage[thresh_index[0], current_first])/2 + \\\n",
    "                   voltage[thresh_index[0], current_first]\n",
    "    width_start_index = peak_index[0] - np.flatnonzero(voltage[peak_index[0] : thresh_index[0]:-1, current_first] <= width_level)[0]\n",
    "    width_end_index = peak_index[0] + np.flatnonzero(voltage[peak_index[0]: fast_trough_index[0], current_first] <=width_level)[0]\n",
    "    plt.plot(time[width_start_index], voltage[width_start_index, current_first], '|', color = 'black', ms = 100)\n",
    "    plt.plot(time[width_end_index], voltage[width_end_index, current_first], '|', color = 'black', ms = 100)\n",
    "\n",
    "    # The half-width itself is calculated based on t[width_end_index] - t[width_start_index], but the voltages might be different\n",
    "    # at the respective indices, thus we choose the arrow to go from v[width_start_index] to v[width_start_index] to make\n",
    "    # it horizontal (interpretability of the figure improves)\n",
    "    ax.annotate('', xy = (time[width_start_index], voltage[width_start_index, current_first]), \\\n",
    "                xycoords = 'data', xytext = (time[width_end_index], voltage[width_start_index, current_first]), \\\n",
    "                textcoords = 'data', arrowprops = {'arrowstyle': '<->', 'connectionstyle': 'arc3', 'lw': 4, 'shrinkA': 0})\n",
    "    ax.annotate('AP half-width', xy = (time[width_start_index], \\\n",
    "                 width_level - 5), xycoords='data', xytext = (5, 0), textcoords = 'offset points', fontsize = 15)\n",
    "\n",
    "    # For the AP amplitude\n",
    "    ax.annotate('AP amplitude', xy = (time[peak_index[0]], width_level + 20), \\\n",
    "                 xycoords = 'data', xytext = (5, 0), textcoords = 'offset points', fontsize = 15)\n",
    "    \n",
    "    return ax"
   ]
  },
  {
   "cell_type": "code",
   "execution_count": 43,
   "metadata": {},
   "outputs": [],
   "source": [
    "def plot_info_first_peak_all(data_tuple, names, directory, el_num = 2, current_step = 20):\n",
    "    \"\"\" Plots info of the first spike train (with more than 3 peaks)\n",
    "    Parameters\n",
    "    ----------\n",
    "    data_tuple : tuple of dictionaries of data full of voltage (V) and time (s) traces for different cells\n",
    "    names : tuple of names of the samples\n",
    "    directory : directory where to output the figures\n",
    "    el_num : integer, from which electrode number has been measured (optional, 2 by default)\n",
    "    current_step : float, which current step (pA) has been used between consecutive experiments (optional, 20 by default)\n",
    "    \n",
    "    Saves\n",
    "    -------\n",
    "    Figures in specified directory\n",
    "    \"\"\"\n",
    "    for (data, name) in zip(data_tuple, names):\n",
    "        print('Processing: ', name)\n",
    "        time, current, voltage, curr_index_0 = data_preparation(data)\n",
    "        filter_ = 10\n",
    "        if (1/time[1]-time[0]) < 20e3:\n",
    "            filter_ = (1/time[1]-time[0])/(1e3*2)-0.5\n",
    "        df, df_related_features = extract_spike_features(time, current, voltage)\n",
    "        if ~np.any(df_related_features['spike_count'] >= 1):\n",
    "            continue\n",
    "        ax = plot_info_first_peak(data)\n",
    "        plt.title(name.split('/')[-1].split('.')[0], fontsize = 25)\n",
    "        plt.savefig('{}{}.png'.format(directory, name.split('/')[-1].split('.')[0]), bbox_inches = 'tight', \\\n",
    "                                                                                     pad_inches = 0.5)\n",
    "        plt.close()"
   ]
  },
  {
   "cell_type": "code",
   "execution_count": 50,
   "metadata": {},
   "outputs": [
    {
     "name": "stdout",
     "output_type": "stream",
     "text": [
      "Processing:  ../L4/ReAnalysis/data/S1 layer 4 non Martinotti/2018 21 09 slice 1 sample 6 (non-martinotti S1).mat\n",
      "Processing:  ../L4/ReAnalysis/data/S1 layer 4 non Martinotti/2018 26 06 slice 1 sample 15 (non-martinotti S1).mat\n"
     ]
    },
    {
     "name": "stderr",
     "output_type": "stream",
     "text": [
      "/gpfs01/berens/user/ybernaerts/EphysAnalysis/data/ephys/code/ephys_features.py:944: RuntimeWarning: invalid value encountered in sqrt\n",
      "  rsme = np.sqrt(np.mean(pred - v_window))\n",
      "/gpfs01/berens/user/ybernaerts/EphysAnalysis/data/ephys/code/ephys_features.py:944: RuntimeWarning: invalid value encountered in sqrt\n",
      "  rsme = np.sqrt(np.mean(pred - v_window))\n"
     ]
    },
    {
     "name": "stdout",
     "output_type": "stream",
     "text": [
      "Processing:  ../L4/ReAnalysis/data/S1 layer 4 non Martinotti/2018 26 06 slice 1 sample 16 (non-martinotti S1).mat\n"
     ]
    },
    {
     "name": "stderr",
     "output_type": "stream",
     "text": [
      "/gpfs01/berens/user/ybernaerts/EphysAnalysis/data/ephys/code/ephys_features.py:944: RuntimeWarning: invalid value encountered in sqrt\n",
      "  rsme = np.sqrt(np.mean(pred - v_window))\n",
      "/gpfs01/berens/user/ybernaerts/EphysAnalysis/data/ephys/code/ephys_features.py:944: RuntimeWarning: invalid value encountered in sqrt\n",
      "  rsme = np.sqrt(np.mean(pred - v_window))\n"
     ]
    },
    {
     "name": "stdout",
     "output_type": "stream",
     "text": [
      "Processing:  ../L4/ReAnalysis/data/S1 layer 4 non Martinotti/2018 26 06 slice 1 sample 8 (non-martinotti S1).mat\n"
     ]
    },
    {
     "name": "stderr",
     "output_type": "stream",
     "text": [
      "/gpfs01/berens/user/ybernaerts/EphysAnalysis/data/ephys/code/ephys_features.py:944: RuntimeWarning: invalid value encountered in sqrt\n",
      "  rsme = np.sqrt(np.mean(pred - v_window))\n",
      "/gpfs01/berens/user/ybernaerts/EphysAnalysis/data/ephys/code/ephys_features.py:944: RuntimeWarning: invalid value encountered in sqrt\n",
      "  rsme = np.sqrt(np.mean(pred - v_window))\n"
     ]
    },
    {
     "name": "stdout",
     "output_type": "stream",
     "text": [
      "Processing:  ../L4/ReAnalysis/data/S1 layer 4 non Martinotti/2018 21 09 slice 1 sample 8 (non-martinotti S1).mat\n"
     ]
    },
    {
     "name": "stderr",
     "output_type": "stream",
     "text": [
      "/gpfs01/berens/user/ybernaerts/EphysAnalysis/data/ephys/code/ephys_features.py:944: RuntimeWarning: invalid value encountered in sqrt\n",
      "  rsme = np.sqrt(np.mean(pred - v_window))\n",
      "/gpfs01/berens/user/ybernaerts/EphysAnalysis/data/ephys/code/ephys_features.py:944: RuntimeWarning: invalid value encountered in sqrt\n",
      "  rsme = np.sqrt(np.mean(pred - v_window))\n"
     ]
    },
    {
     "name": "stdout",
     "output_type": "stream",
     "text": [
      "Processing:  ../L4/ReAnalysis/data/S1 layer 4 non Martinotti/2018 26 06 slice 1 sample 6 (non-martinotti S1).mat\n",
      "Processing:  ../L4/ReAnalysis/data/S1 layer 4 non Martinotti/2018 05 06 slice 1 sample 16 (non-martinotti S1).mat\n",
      "Processing:  ../L4/ReAnalysis/data/S1 layer 4 non Martinotti/2018 27 06 slice 1 sample 9 (non-martinotti S1).mat\n",
      "Processing:  ../L4/ReAnalysis/data/S1 layer 4 non Martinotti/2018 19 09 slice 2 sample 23 (non-martinotti S1).mat\n"
     ]
    },
    {
     "name": "stderr",
     "output_type": "stream",
     "text": [
      "/gpfs01/berens/user/ybernaerts/EphysAnalysis/data/ephys/code/ephys_features.py:944: RuntimeWarning: invalid value encountered in sqrt\n",
      "  rsme = np.sqrt(np.mean(pred - v_window))\n",
      "/gpfs01/berens/user/ybernaerts/EphysAnalysis/data/ephys/code/ephys_features.py:944: RuntimeWarning: invalid value encountered in sqrt\n",
      "  rsme = np.sqrt(np.mean(pred - v_window))\n"
     ]
    },
    {
     "name": "stdout",
     "output_type": "stream",
     "text": [
      "Processing:  ../L4/ReAnalysis/data/S1 layer 4 non Martinotti/2018 20 09 slice 1 sample 9 (non-martinotti S1).mat\n"
     ]
    },
    {
     "name": "stderr",
     "output_type": "stream",
     "text": [
      "/gpfs01/berens/user/ybernaerts/EphysAnalysis/data/ephys/code/ephys_features.py:944: RuntimeWarning: invalid value encountered in sqrt\n",
      "  rsme = np.sqrt(np.mean(pred - v_window))\n",
      "/gpfs01/berens/user/ybernaerts/EphysAnalysis/data/ephys/code/ephys_features.py:944: RuntimeWarning: invalid value encountered in sqrt\n",
      "  rsme = np.sqrt(np.mean(pred - v_window))\n"
     ]
    },
    {
     "name": "stdout",
     "output_type": "stream",
     "text": [
      "Processing:  ../L4/ReAnalysis/data/S1 layer 4 non Martinotti/2018 19 09 slice 2 sample 14 (non-martinotti S1).mat\n"
     ]
    },
    {
     "name": "stderr",
     "output_type": "stream",
     "text": [
      "/gpfs01/berens/user/ybernaerts/EphysAnalysis/data/ephys/code/ephys_features.py:944: RuntimeWarning: invalid value encountered in sqrt\n",
      "  rsme = np.sqrt(np.mean(pred - v_window))\n",
      "/gpfs01/berens/user/ybernaerts/EphysAnalysis/data/ephys/code/ephys_features.py:944: RuntimeWarning: invalid value encountered in sqrt\n",
      "  rsme = np.sqrt(np.mean(pred - v_window))\n"
     ]
    },
    {
     "name": "stdout",
     "output_type": "stream",
     "text": [
      "Processing:  ../L4/ReAnalysis/data/S1 layer 4 non Martinotti/2018 19 09 slice 2 sample 20 (non-martinotti S1).mat\n",
      "Processing:  ../L4/ReAnalysis/data/S1 layer 4 non Martinotti/2018 05 06 slice 1 sample 14 (non-martinotti S1).mat\n",
      "Processing:  ../L4/ReAnalysis/data/S1 layer 4 non Martinotti/2018 21 09 slice 1 sample 4 (non-martinotti S1).mat\n"
     ]
    },
    {
     "name": "stderr",
     "output_type": "stream",
     "text": [
      "/gpfs01/berens/user/ybernaerts/EphysAnalysis/data/ephys/code/ephys_features.py:944: RuntimeWarning: invalid value encountered in sqrt\n",
      "  rsme = np.sqrt(np.mean(pred - v_window))\n",
      "/gpfs01/berens/user/ybernaerts/EphysAnalysis/data/ephys/code/ephys_features.py:944: RuntimeWarning: invalid value encountered in sqrt\n",
      "  rsme = np.sqrt(np.mean(pred - v_window))\n"
     ]
    },
    {
     "name": "stdout",
     "output_type": "stream",
     "text": [
      "Processing:  ../L4/ReAnalysis/data/S1 layer 4 non Martinotti/2018 21 09 slice 1 sample 5 (non-martinotti S1).mat\n"
     ]
    },
    {
     "name": "stderr",
     "output_type": "stream",
     "text": [
      "/gpfs01/berens/user/ybernaerts/EphysAnalysis/data/ephys/code/ephys_features.py:944: RuntimeWarning: invalid value encountered in sqrt\n",
      "  rsme = np.sqrt(np.mean(pred - v_window))\n",
      "/gpfs01/berens/user/ybernaerts/EphysAnalysis/data/ephys/code/ephys_features.py:944: RuntimeWarning: invalid value encountered in sqrt\n",
      "  rsme = np.sqrt(np.mean(pred - v_window))\n"
     ]
    },
    {
     "name": "stdout",
     "output_type": "stream",
     "text": [
      "Processing:  ../L4/ReAnalysis/data/S1 layer 4 non Martinotti/2018 19 09 slice 2 sample 18 (non-martinotti S1).mat\n"
     ]
    },
    {
     "name": "stderr",
     "output_type": "stream",
     "text": [
      "/gpfs01/berens/user/ybernaerts/EphysAnalysis/data/ephys/code/ephys_features.py:944: RuntimeWarning: invalid value encountered in sqrt\n",
      "  rsme = np.sqrt(np.mean(pred - v_window))\n",
      "/gpfs01/berens/user/ybernaerts/EphysAnalysis/data/ephys/code/ephys_features.py:944: RuntimeWarning: invalid value encountered in sqrt\n",
      "  rsme = np.sqrt(np.mean(pred - v_window))\n"
     ]
    },
    {
     "name": "stdout",
     "output_type": "stream",
     "text": [
      "Processing:  ../L4/ReAnalysis/data/S1 layer 4 non Martinotti/2018 19 09 slice 2 sample 24 (non-martinotti S1).mat\n"
     ]
    },
    {
     "name": "stderr",
     "output_type": "stream",
     "text": [
      "/gpfs01/berens/user/ybernaerts/EphysAnalysis/data/ephys/code/ephys_features.py:944: RuntimeWarning: invalid value encountered in sqrt\n",
      "  rsme = np.sqrt(np.mean(pred - v_window))\n",
      "/gpfs01/berens/user/ybernaerts/EphysAnalysis/data/ephys/code/ephys_features.py:944: RuntimeWarning: invalid value encountered in sqrt\n",
      "  rsme = np.sqrt(np.mean(pred - v_window))\n"
     ]
    },
    {
     "name": "stdout",
     "output_type": "stream",
     "text": [
      "Processing:  ../L4/ReAnalysis/data/S1 layer 4 non Martinotti/2018 19 09 slice 2 sample 22 (non-martinotti S1).mat\n"
     ]
    },
    {
     "name": "stderr",
     "output_type": "stream",
     "text": [
      "/gpfs01/berens/user/ybernaerts/EphysAnalysis/data/ephys/code/ephys_features.py:944: RuntimeWarning: invalid value encountered in sqrt\n",
      "  rsme = np.sqrt(np.mean(pred - v_window))\n",
      "/gpfs01/berens/user/ybernaerts/EphysAnalysis/data/ephys/code/ephys_features.py:944: RuntimeWarning: invalid value encountered in sqrt\n",
      "  rsme = np.sqrt(np.mean(pred - v_window))\n"
     ]
    },
    {
     "name": "stdout",
     "output_type": "stream",
     "text": [
      "Processing:  ../L4/ReAnalysis/data/S1 layer 4 non Martinotti/2018 05 06 slice 1 sample 15 (non-martinotti S1).mat\n"
     ]
    },
    {
     "name": "stderr",
     "output_type": "stream",
     "text": [
      "/gpfs01/berens/user/ybernaerts/EphysAnalysis/data/ephys/code/ephys_features.py:944: RuntimeWarning: invalid value encountered in sqrt\n",
      "  rsme = np.sqrt(np.mean(pred - v_window))\n",
      "/gpfs01/berens/user/ybernaerts/EphysAnalysis/data/ephys/code/ephys_features.py:944: RuntimeWarning: invalid value encountered in sqrt\n",
      "  rsme = np.sqrt(np.mean(pred - v_window))\n"
     ]
    },
    {
     "name": "stdout",
     "output_type": "stream",
     "text": [
      "Processing:  ../L4/ReAnalysis/data/S1 layer 4 non Martinotti/2018 19 09 slice 2 sample 19 (non-martinotti S1).mat\n"
     ]
    },
    {
     "name": "stderr",
     "output_type": "stream",
     "text": [
      "/gpfs01/berens/user/ybernaerts/EphysAnalysis/data/ephys/code/ephys_features.py:944: RuntimeWarning: invalid value encountered in sqrt\n",
      "  rsme = np.sqrt(np.mean(pred - v_window))\n",
      "/gpfs01/berens/user/ybernaerts/EphysAnalysis/data/ephys/code/ephys_features.py:944: RuntimeWarning: invalid value encountered in sqrt\n",
      "  rsme = np.sqrt(np.mean(pred - v_window))\n"
     ]
    },
    {
     "name": "stdout",
     "output_type": "stream",
     "text": [
      "Processing:  ../L4/ReAnalysis/data/S1 layer 4 non Martinotti/2018 21 09 slice 1 sample 2 (non-martinotti S1).mat\n"
     ]
    },
    {
     "name": "stderr",
     "output_type": "stream",
     "text": [
      "/gpfs01/berens/user/ybernaerts/EphysAnalysis/data/ephys/code/ephys_features.py:944: RuntimeWarning: invalid value encountered in sqrt\n",
      "  rsme = np.sqrt(np.mean(pred - v_window))\n",
      "/gpfs01/berens/user/ybernaerts/EphysAnalysis/data/ephys/code/ephys_features.py:944: RuntimeWarning: invalid value encountered in sqrt\n",
      "  rsme = np.sqrt(np.mean(pred - v_window))\n"
     ]
    },
    {
     "name": "stdout",
     "output_type": "stream",
     "text": [
      "Processing:  ../L4/ReAnalysis/data/S1 layer 4 non Martinotti/2018 20 09 slice 1 sample 10 (non-martinotti S1).mat\n"
     ]
    },
    {
     "name": "stderr",
     "output_type": "stream",
     "text": [
      "/gpfs01/berens/user/ybernaerts/EphysAnalysis/data/ephys/code/ephys_features.py:944: RuntimeWarning: invalid value encountered in sqrt\n",
      "  rsme = np.sqrt(np.mean(pred - v_window))\n",
      "/gpfs01/berens/user/ybernaerts/EphysAnalysis/data/ephys/code/ephys_features.py:944: RuntimeWarning: invalid value encountered in sqrt\n",
      "  rsme = np.sqrt(np.mean(pred - v_window))\n"
     ]
    },
    {
     "name": "stdout",
     "output_type": "stream",
     "text": [
      "Processing:  ../L4/ReAnalysis/data/S1 layer 4 non Martinotti/2018 26 06 slice 1 sample 17 (non-martinotti S1).mat\n",
      "Processing:  ../L4/ReAnalysis/data/S1 layer 4 non Martinotti/2018 19 09 slice 2 sample 21 (non-martinotti S1).mat\n"
     ]
    },
    {
     "name": "stderr",
     "output_type": "stream",
     "text": [
      "/gpfs01/berens/user/ybernaerts/EphysAnalysis/data/ephys/code/ephys_features.py:944: RuntimeWarning: invalid value encountered in sqrt\n",
      "  rsme = np.sqrt(np.mean(pred - v_window))\n",
      "/gpfs01/berens/user/ybernaerts/EphysAnalysis/data/ephys/code/ephys_features.py:944: RuntimeWarning: invalid value encountered in sqrt\n",
      "  rsme = np.sqrt(np.mean(pred - v_window))\n"
     ]
    },
    {
     "name": "stdout",
     "output_type": "stream",
     "text": [
      "Processing:  ../L4/ReAnalysis/data/S1 layer 4 non Martinotti/2018 27 06 slice 1 sample 8 (non-martinotti S1).mat\n"
     ]
    },
    {
     "name": "stderr",
     "output_type": "stream",
     "text": [
      "/gpfs01/berens/user/ybernaerts/EphysAnalysis/data/ephys/code/ephys_features.py:944: RuntimeWarning: invalid value encountered in sqrt\n",
      "  rsme = np.sqrt(np.mean(pred - v_window))\n",
      "/gpfs01/berens/user/ybernaerts/EphysAnalysis/data/ephys/code/ephys_features.py:944: RuntimeWarning: invalid value encountered in sqrt\n",
      "  rsme = np.sqrt(np.mean(pred - v_window))\n"
     ]
    },
    {
     "name": "stdout",
     "output_type": "stream",
     "text": [
      "Processing:  ../L4/ReAnalysis/data/S1 layer 4 non Martinotti/2018 03 07 slice 1 sample 11 (non-martinotti S1).mat\n"
     ]
    },
    {
     "name": "stderr",
     "output_type": "stream",
     "text": [
      "/gpfs01/berens/user/ybernaerts/EphysAnalysis/data/ephys/code/ephys_features.py:944: RuntimeWarning: invalid value encountered in sqrt\n",
      "  rsme = np.sqrt(np.mean(pred - v_window))\n",
      "/gpfs01/berens/user/ybernaerts/EphysAnalysis/data/ephys/code/ephys_features.py:944: RuntimeWarning: invalid value encountered in sqrt\n",
      "  rsme = np.sqrt(np.mean(pred - v_window))\n"
     ]
    },
    {
     "name": "stdout",
     "output_type": "stream",
     "text": [
      "Processing:  ../L4/ReAnalysis/data/S1 layer 4 non Martinotti/2018 27 06 slice 1 sample 3 (non-martinotti S1).mat\n",
      "Processing:  ../L4/ReAnalysis/data/S1 layer 4 non Martinotti/2018 19 09 slice 1 sample 7 (non-martinotti S1).mat\n",
      "Processing:  ../L4/ReAnalysis/data/S1 layer 4 non Martinotti/2018 21 09 slice 1 sample 1 (non-martinotti S1).mat\n"
     ]
    },
    {
     "name": "stderr",
     "output_type": "stream",
     "text": [
      "/gpfs01/berens/user/ybernaerts/EphysAnalysis/data/ephys/code/ephys_features.py:944: RuntimeWarning: invalid value encountered in sqrt\n",
      "  rsme = np.sqrt(np.mean(pred - v_window))\n",
      "/gpfs01/berens/user/ybernaerts/EphysAnalysis/data/ephys/code/ephys_features.py:944: RuntimeWarning: invalid value encountered in sqrt\n",
      "  rsme = np.sqrt(np.mean(pred - v_window))\n"
     ]
    },
    {
     "name": "stdout",
     "output_type": "stream",
     "text": [
      "Processing:  ../L4/ReAnalysis/data/S1 layer 4 non Martinotti/2018 03 07 slice 1 sample 7 (non-martinotti S1).mat\n"
     ]
    },
    {
     "name": "stderr",
     "output_type": "stream",
     "text": [
      "/gpfs01/berens/user/ybernaerts/EphysAnalysis/data/ephys/code/ephys_features.py:944: RuntimeWarning: invalid value encountered in sqrt\n",
      "  rsme = np.sqrt(np.mean(pred - v_window))\n",
      "/gpfs01/berens/user/ybernaerts/EphysAnalysis/data/ephys/code/ephys_features.py:944: RuntimeWarning: invalid value encountered in sqrt\n",
      "  rsme = np.sqrt(np.mean(pred - v_window))\n"
     ]
    },
    {
     "name": "stdout",
     "output_type": "stream",
     "text": [
      "Processing:  ../L4/ReAnalysis/data/S1 layer 4 non Martinotti/2018 05 06 slice 1 sample 18 (non-martinotti S1).mat\n",
      "Processing:  ../L4/ReAnalysis/data/V1 layer 4 Martinotti/2018 19 09 slice 1 sample 10 (martinotti V1).mat\n"
     ]
    },
    {
     "name": "stderr",
     "output_type": "stream",
     "text": [
      "/gpfs01/berens/user/ybernaerts/EphysAnalysis/data/ephys/code/ephys_features.py:944: RuntimeWarning: invalid value encountered in sqrt\n",
      "  rsme = np.sqrt(np.mean(pred - v_window))\n",
      "/gpfs01/berens/user/ybernaerts/EphysAnalysis/data/ephys/code/ephys_features.py:944: RuntimeWarning: invalid value encountered in sqrt\n",
      "  rsme = np.sqrt(np.mean(pred - v_window))\n"
     ]
    },
    {
     "name": "stdout",
     "output_type": "stream",
     "text": [
      "Processing:  ../L4/ReAnalysis/data/V1 layer 4 Martinotti/2018 20 09 slice 1 sample 4 (martinotti V1).mat\n",
      "Processing:  ../L4/ReAnalysis/data/V1 layer 4 Martinotti/2018 05 06 slice 1 sample 13 (martinotti V1).mat\n"
     ]
    },
    {
     "name": "stderr",
     "output_type": "stream",
     "text": [
      "/gpfs01/berens/user/ybernaerts/EphysAnalysis/data/ephys/code/ephys_features.py:944: RuntimeWarning: invalid value encountered in sqrt\n",
      "  rsme = np.sqrt(np.mean(pred - v_window))\n",
      "/gpfs01/berens/user/ybernaerts/EphysAnalysis/data/ephys/code/ephys_features.py:944: RuntimeWarning: invalid value encountered in sqrt\n",
      "  rsme = np.sqrt(np.mean(pred - v_window))\n",
      "/usr/local/lib/python3.5/dist-packages/ipykernel_launcher.py:57: RuntimeWarning: invalid value encountered in greater\n"
     ]
    },
    {
     "name": "stdout",
     "output_type": "stream",
     "text": [
      "Processing:  ../L4/ReAnalysis/data/V1 layer 4 Martinotti/2018 03 07 slice 1 sample 15 (martinotti V1).mat\n"
     ]
    },
    {
     "name": "stderr",
     "output_type": "stream",
     "text": [
      "/gpfs01/berens/user/ybernaerts/EphysAnalysis/data/ephys/code/ephys_features.py:944: RuntimeWarning: invalid value encountered in sqrt\n",
      "  rsme = np.sqrt(np.mean(pred - v_window))\n",
      "/gpfs01/berens/user/ybernaerts/EphysAnalysis/data/ephys/code/ephys_features.py:944: RuntimeWarning: invalid value encountered in sqrt\n",
      "  rsme = np.sqrt(np.mean(pred - v_window))\n"
     ]
    },
    {
     "name": "stdout",
     "output_type": "stream",
     "text": [
      "Processing:  ../L4/ReAnalysis/data/V1 layer 4 Martinotti/2018 26 06 slice 1 sample 13 (martinotti V1).mat\n"
     ]
    },
    {
     "name": "stderr",
     "output_type": "stream",
     "text": [
      "/gpfs01/berens/user/ybernaerts/EphysAnalysis/data/ephys/code/ephys_features.py:944: RuntimeWarning: invalid value encountered in sqrt\n",
      "  rsme = np.sqrt(np.mean(pred - v_window))\n",
      "/gpfs01/berens/user/ybernaerts/EphysAnalysis/data/ephys/code/ephys_features.py:944: RuntimeWarning: invalid value encountered in sqrt\n",
      "  rsme = np.sqrt(np.mean(pred - v_window))\n"
     ]
    },
    {
     "name": "stdout",
     "output_type": "stream",
     "text": [
      "Processing:  ../L4/ReAnalysis/data/V1 layer 4 Martinotti/2018 19 09 slice 1 sample 11 (martinotti V1).mat\n",
      "Processing:  ../L4/ReAnalysis/data/V1 layer 4 Martinotti/2018 19 09 slice 2 sample 13 (martinotti V1).mat\n",
      "Processing:  ../L4/ReAnalysis/data/V1 layer 4 Martinotti/2018 20 09 slice 1 sample 3 (martinotti V1).mat\n"
     ]
    },
    {
     "name": "stderr",
     "output_type": "stream",
     "text": [
      "/gpfs01/berens/user/ybernaerts/EphysAnalysis/data/ephys/code/ephys_features.py:944: RuntimeWarning: invalid value encountered in sqrt\n",
      "  rsme = np.sqrt(np.mean(pred - v_window))\n",
      "/gpfs01/berens/user/ybernaerts/EphysAnalysis/data/ephys/code/ephys_features.py:944: RuntimeWarning: invalid value encountered in sqrt\n",
      "  rsme = np.sqrt(np.mean(pred - v_window))\n"
     ]
    },
    {
     "name": "stdout",
     "output_type": "stream",
     "text": [
      "Processing:  ../L4/ReAnalysis/data/V1 layer 4 Martinotti/2018 19 09 slice 2 sample 16 (martinotti V1).mat\n",
      "Processing:  ../L4/ReAnalysis/data/V1 layer 4 Martinotti/2018 04 06 slice 1 sample 2 (martinotti V1).mat\n"
     ]
    },
    {
     "name": "stderr",
     "output_type": "stream",
     "text": [
      "/gpfs01/berens/user/ybernaerts/EphysAnalysis/data/ephys/code/ephys_features.py:944: RuntimeWarning: invalid value encountered in sqrt\n",
      "  rsme = np.sqrt(np.mean(pred - v_window))\n",
      "/gpfs01/berens/user/ybernaerts/EphysAnalysis/data/ephys/code/ephys_features.py:944: RuntimeWarning: invalid value encountered in sqrt\n",
      "  rsme = np.sqrt(np.mean(pred - v_window))\n"
     ]
    },
    {
     "name": "stdout",
     "output_type": "stream",
     "text": [
      "Processing:  ../L4/ReAnalysis/data/V1 layer 4 Martinotti/2018 05 06 slice 1 sample 5 (martinotti V1).mat\n"
     ]
    },
    {
     "name": "stderr",
     "output_type": "stream",
     "text": [
      "/gpfs01/berens/user/ybernaerts/EphysAnalysis/data/ephys/code/ephys_features.py:944: RuntimeWarning: invalid value encountered in sqrt\n",
      "  rsme = np.sqrt(np.mean(pred - v_window))\n",
      "/gpfs01/berens/user/ybernaerts/EphysAnalysis/data/ephys/code/ephys_features.py:944: RuntimeWarning: invalid value encountered in sqrt\n",
      "  rsme = np.sqrt(np.mean(pred - v_window))\n"
     ]
    },
    {
     "name": "stdout",
     "output_type": "stream",
     "text": [
      "Processing:  ../L4/ReAnalysis/data/V1 layer 4 Martinotti/2018 26 06 slice 1 sample 12 (martinotti V1).mat\n"
     ]
    },
    {
     "name": "stderr",
     "output_type": "stream",
     "text": [
      "/gpfs01/berens/user/ybernaerts/EphysAnalysis/data/ephys/code/ephys_features.py:944: RuntimeWarning: invalid value encountered in sqrt\n",
      "  rsme = np.sqrt(np.mean(pred - v_window))\n",
      "/gpfs01/berens/user/ybernaerts/EphysAnalysis/data/ephys/code/ephys_features.py:944: RuntimeWarning: invalid value encountered in sqrt\n",
      "  rsme = np.sqrt(np.mean(pred - v_window))\n"
     ]
    },
    {
     "name": "stdout",
     "output_type": "stream",
     "text": [
      "Processing:  ../L4/ReAnalysis/data/V1 layer 4 Martinotti/2018 19 09 slice 1 sample 2 (martinotti V1).mat\n"
     ]
    },
    {
     "name": "stderr",
     "output_type": "stream",
     "text": [
      "/gpfs01/berens/user/ybernaerts/EphysAnalysis/data/ephys/code/ephys_features.py:944: RuntimeWarning: invalid value encountered in sqrt\n",
      "  rsme = np.sqrt(np.mean(pred - v_window))\n",
      "/gpfs01/berens/user/ybernaerts/EphysAnalysis/data/ephys/code/ephys_features.py:944: RuntimeWarning: invalid value encountered in sqrt\n",
      "  rsme = np.sqrt(np.mean(pred - v_window))\n"
     ]
    },
    {
     "name": "stdout",
     "output_type": "stream",
     "text": [
      "Processing:  ../L4/ReAnalysis/data/V1 layer 4 Martinotti/2018 20 09 slice 1 sample 2 (martinotti V1).mat\n"
     ]
    },
    {
     "name": "stderr",
     "output_type": "stream",
     "text": [
      "/gpfs01/berens/user/ybernaerts/EphysAnalysis/data/ephys/code/ephys_features.py:944: RuntimeWarning: invalid value encountered in sqrt\n",
      "  rsme = np.sqrt(np.mean(pred - v_window))\n",
      "/gpfs01/berens/user/ybernaerts/EphysAnalysis/data/ephys/code/ephys_features.py:944: RuntimeWarning: invalid value encountered in sqrt\n",
      "  rsme = np.sqrt(np.mean(pred - v_window))\n"
     ]
    },
    {
     "name": "stdout",
     "output_type": "stream",
     "text": [
      "Processing:  ../L4/ReAnalysis/data/V1 layer 4 Martinotti/2018 05 06 slice 1 sample 19 (martinotti V1).mat\n"
     ]
    },
    {
     "name": "stderr",
     "output_type": "stream",
     "text": [
      "/gpfs01/berens/user/ybernaerts/EphysAnalysis/data/ephys/code/ephys_features.py:944: RuntimeWarning: invalid value encountered in sqrt\n",
      "  rsme = np.sqrt(np.mean(pred - v_window))\n",
      "/gpfs01/berens/user/ybernaerts/EphysAnalysis/data/ephys/code/ephys_features.py:944: RuntimeWarning: invalid value encountered in sqrt\n",
      "  rsme = np.sqrt(np.mean(pred - v_window))\n",
      "/usr/local/lib/python3.5/dist-packages/ipykernel_launcher.py:57: RuntimeWarning: invalid value encountered in greater\n"
     ]
    },
    {
     "name": "stdout",
     "output_type": "stream",
     "text": [
      "Processing:  ../L4/ReAnalysis/data/V1 layer 4 Martinotti/2018 04 06 slice 1 sample 1 (martinotti V1).mat\n"
     ]
    },
    {
     "name": "stderr",
     "output_type": "stream",
     "text": [
      "/usr/local/lib/python3.5/dist-packages/ipykernel_launcher.py:57: RuntimeWarning: invalid value encountered in greater\n"
     ]
    },
    {
     "name": "stdout",
     "output_type": "stream",
     "text": [
      "Processing:  ../L4/ReAnalysis/data/V1 layer 4 Martinotti/2018 05 06 slice 1 sample 2 (martinotti V1).mat\n"
     ]
    },
    {
     "name": "stderr",
     "output_type": "stream",
     "text": [
      "/gpfs01/berens/user/ybernaerts/EphysAnalysis/data/ephys/code/ephys_features.py:944: RuntimeWarning: invalid value encountered in sqrt\n",
      "  rsme = np.sqrt(np.mean(pred - v_window))\n",
      "/gpfs01/berens/user/ybernaerts/EphysAnalysis/data/ephys/code/ephys_features.py:944: RuntimeWarning: invalid value encountered in sqrt\n",
      "  rsme = np.sqrt(np.mean(pred - v_window))\n"
     ]
    },
    {
     "name": "stdout",
     "output_type": "stream",
     "text": [
      "Processing:  ../L4/ReAnalysis/data/V1 layer 4 Martinotti/2018 05 06 slice 1 sample 7 (martinotti V1).mat\n"
     ]
    },
    {
     "name": "stderr",
     "output_type": "stream",
     "text": [
      "/gpfs01/berens/user/ybernaerts/EphysAnalysis/data/ephys/code/ephys_features.py:944: RuntimeWarning: invalid value encountered in sqrt\n",
      "  rsme = np.sqrt(np.mean(pred - v_window))\n",
      "/gpfs01/berens/user/ybernaerts/EphysAnalysis/data/ephys/code/ephys_features.py:944: RuntimeWarning: invalid value encountered in sqrt\n",
      "  rsme = np.sqrt(np.mean(pred - v_window))\n"
     ]
    },
    {
     "name": "stdout",
     "output_type": "stream",
     "text": [
      "Processing:  ../L4/ReAnalysis/data/V1 layer 4 Martinotti/2018 19 09 slice 1 sample 6 (martinotti V1).mat\n",
      "Processing:  ../L4/ReAnalysis/data/V1 layer 4 Martinotti/2018 03 07 slice 1 sample 3 (martinotti V1).mat\n"
     ]
    },
    {
     "name": "stderr",
     "output_type": "stream",
     "text": [
      "/gpfs01/berens/user/ybernaerts/EphysAnalysis/data/ephys/code/ephys_features.py:944: RuntimeWarning: invalid value encountered in sqrt\n",
      "  rsme = np.sqrt(np.mean(pred - v_window))\n",
      "/gpfs01/berens/user/ybernaerts/EphysAnalysis/data/ephys/code/ephys_features.py:944: RuntimeWarning: invalid value encountered in sqrt\n",
      "  rsme = np.sqrt(np.mean(pred - v_window))\n"
     ]
    },
    {
     "name": "stdout",
     "output_type": "stream",
     "text": [
      "Processing:  ../L4/ReAnalysis/data/V1 layer 4 Martinotti/2018 19 09 slice 2 sample 25 (martinotti V1).mat\n",
      "Processing:  ../L4/ReAnalysis/data/V1 layer 4 Martinotti/2018 20 09 slice 1 sample 1 (martinotti V1).mat\n",
      "Processing:  ../L4/ReAnalysis/data/V1 layer 4 Martinotti/2018 05 06 slice 1 sample 10 (martinotti V1).mat\n",
      "Processing:  ../L4/ReAnalysis/data/V1 layer 4 Martinotti/2018 05 06 slice 1 sample 6 (martinotti V1).mat\n"
     ]
    },
    {
     "name": "stderr",
     "output_type": "stream",
     "text": [
      "/gpfs01/berens/user/ybernaerts/EphysAnalysis/data/ephys/code/ephys_features.py:944: RuntimeWarning: invalid value encountered in sqrt\n",
      "  rsme = np.sqrt(np.mean(pred - v_window))\n",
      "/gpfs01/berens/user/ybernaerts/EphysAnalysis/data/ephys/code/ephys_features.py:944: RuntimeWarning: invalid value encountered in sqrt\n",
      "  rsme = np.sqrt(np.mean(pred - v_window))\n"
     ]
    },
    {
     "name": "stdout",
     "output_type": "stream",
     "text": [
      "Processing:  ../L4/ReAnalysis/data/V1 layer 4 Martinotti/2018 19 09 slice 1 sample 4 (martinotti V1).mat\n",
      "Processing:  ../L4/ReAnalysis/data/V1 layer 4 Martinotti/2018 26 06 slice 1 sample 2 (martinotti V1).mat\n"
     ]
    },
    {
     "name": "stderr",
     "output_type": "stream",
     "text": [
      "/gpfs01/berens/user/ybernaerts/EphysAnalysis/data/ephys/code/ephys_features.py:944: RuntimeWarning: invalid value encountered in sqrt\n",
      "  rsme = np.sqrt(np.mean(pred - v_window))\n",
      "/gpfs01/berens/user/ybernaerts/EphysAnalysis/data/ephys/code/ephys_features.py:944: RuntimeWarning: invalid value encountered in sqrt\n",
      "  rsme = np.sqrt(np.mean(pred - v_window))\n",
      "/usr/local/lib/python3.5/dist-packages/ipykernel_launcher.py:57: RuntimeWarning: invalid value encountered in greater\n"
     ]
    },
    {
     "name": "stdout",
     "output_type": "stream",
     "text": [
      "Processing:  ../L4/ReAnalysis/data/V1 layer 4 Martinotti/2018 19 09 slice 1 sample 3 (martinotti V1).mat\n"
     ]
    },
    {
     "name": "stderr",
     "output_type": "stream",
     "text": [
      "/gpfs01/berens/user/ybernaerts/EphysAnalysis/data/ephys/code/ephys_features.py:944: RuntimeWarning: invalid value encountered in sqrt\n",
      "  rsme = np.sqrt(np.mean(pred - v_window))\n",
      "/gpfs01/berens/user/ybernaerts/EphysAnalysis/data/ephys/code/ephys_features.py:944: RuntimeWarning: invalid value encountered in sqrt\n",
      "  rsme = np.sqrt(np.mean(pred - v_window))\n"
     ]
    },
    {
     "name": "stdout",
     "output_type": "stream",
     "text": [
      "Processing:  ../L4/ReAnalysis/data/V1 layer 4 Martinotti/2018 26 06 slice 1 sample 11 (martinotti V1).mat\n"
     ]
    },
    {
     "name": "stderr",
     "output_type": "stream",
     "text": [
      "/gpfs01/berens/user/ybernaerts/EphysAnalysis/data/ephys/code/ephys_features.py:944: RuntimeWarning: invalid value encountered in sqrt\n",
      "  rsme = np.sqrt(np.mean(pred - v_window))\n",
      "/gpfs01/berens/user/ybernaerts/EphysAnalysis/data/ephys/code/ephys_features.py:944: RuntimeWarning: invalid value encountered in sqrt\n",
      "  rsme = np.sqrt(np.mean(pred - v_window))\n"
     ]
    },
    {
     "name": "stdout",
     "output_type": "stream",
     "text": [
      "Processing:  ../L4/ReAnalysis/data/V1 layer 4 Martinotti/2018 20 09 slice 1 sample 5 (martinotti V1).mat\n"
     ]
    },
    {
     "name": "stderr",
     "output_type": "stream",
     "text": [
      "/gpfs01/berens/user/ybernaerts/EphysAnalysis/data/ephys/code/ephys_features.py:944: RuntimeWarning: invalid value encountered in sqrt\n",
      "  rsme = np.sqrt(np.mean(pred - v_window))\n",
      "/gpfs01/berens/user/ybernaerts/EphysAnalysis/data/ephys/code/ephys_features.py:944: RuntimeWarning: invalid value encountered in sqrt\n",
      "  rsme = np.sqrt(np.mean(pred - v_window))\n"
     ]
    }
   ],
   "source": [
    "directory = '../L4/ReAnalysis/Figures/PlotInfoFirstPeak/'\n",
    "plot_info_first_peak_all(L4_re, L4_re_names, directory)"
   ]
  },
  {
   "cell_type": "code",
   "execution_count": 55,
   "metadata": {},
   "outputs": [
    {
     "name": "stdout",
     "output_type": "stream",
     "text": [
      "Processing:  ../L4/ReAnalysis/data/Excluded Data//2018 06 06 slice 1 sample 1.mat\n",
      "Processing:  ../L4/ReAnalysis/data/Excluded Data//2018 03 07 slice 1 sample 2 (martinotti V1).mat\n"
     ]
    },
    {
     "name": "stderr",
     "output_type": "stream",
     "text": [
      "/gpfs01/berens/user/ybernaerts/EphysAnalysis/data/ephys/code/ephys_features.py:944: RuntimeWarning: invalid value encountered in sqrt\n",
      "  rsme = np.sqrt(np.mean(pred - v_window))\n",
      "/gpfs01/berens/user/ybernaerts/EphysAnalysis/data/ephys/code/ephys_features.py:944: RuntimeWarning: invalid value encountered in sqrt\n",
      "  rsme = np.sqrt(np.mean(pred - v_window))\n",
      "/usr/local/lib/python3.5/dist-packages/ipykernel_launcher.py:57: RuntimeWarning: invalid value encountered in greater\n"
     ]
    },
    {
     "name": "stdout",
     "output_type": "stream",
     "text": [
      "Processing:  ../L4/ReAnalysis/data/Excluded Data//2018 03 07 slice 1 sample 14 (non-martinotti S1; not sure layer).mat\n"
     ]
    },
    {
     "name": "stderr",
     "output_type": "stream",
     "text": [
      "/gpfs01/berens/user/ybernaerts/EphysAnalysis/data/ephys/code/ephys_features.py:944: RuntimeWarning: invalid value encountered in sqrt\n",
      "  rsme = np.sqrt(np.mean(pred - v_window))\n",
      "/gpfs01/berens/user/ybernaerts/EphysAnalysis/data/ephys/code/ephys_features.py:944: RuntimeWarning: invalid value encountered in sqrt\n",
      "  rsme = np.sqrt(np.mean(pred - v_window))\n"
     ]
    },
    {
     "name": "stdout",
     "output_type": "stream",
     "text": [
      "Processing:  ../L4/ReAnalysis/data/Excluded Data//2018 05 06 slice 1 sample 4 (martinotti V1).mat\n"
     ]
    },
    {
     "name": "stderr",
     "output_type": "stream",
     "text": [
      "/gpfs01/berens/user/ybernaerts/EphysAnalysis/data/ephys/code/ephys_features.py:944: RuntimeWarning: invalid value encountered in sqrt\n",
      "  rsme = np.sqrt(np.mean(pred - v_window))\n",
      "/gpfs01/berens/user/ybernaerts/EphysAnalysis/data/ephys/code/ephys_features.py:944: RuntimeWarning: invalid value encountered in sqrt\n",
      "  rsme = np.sqrt(np.mean(pred - v_window))\n"
     ]
    },
    {
     "name": "stdout",
     "output_type": "stream",
     "text": [
      "Processing:  ../L4/ReAnalysis/data/Excluded Data//2018 03 07 slice 1 sample 14 (fast spiking S1).mat\n"
     ]
    },
    {
     "name": "stderr",
     "output_type": "stream",
     "text": [
      "/gpfs01/berens/user/ybernaerts/EphysAnalysis/data/ephys/code/ephys_features.py:944: RuntimeWarning: invalid value encountered in sqrt\n",
      "  rsme = np.sqrt(np.mean(pred - v_window))\n",
      "/gpfs01/berens/user/ybernaerts/EphysAnalysis/data/ephys/code/ephys_features.py:944: RuntimeWarning: invalid value encountered in sqrt\n",
      "  rsme = np.sqrt(np.mean(pred - v_window))\n"
     ]
    },
    {
     "name": "stdout",
     "output_type": "stream",
     "text": [
      "Processing:  ../L4/ReAnalysis/data/Excluded Data//2018 19 09 slice 1 sample 1 (matinotti V1).mat\n",
      "Processing:  ../L4/ReAnalysis/data/Excluded Data//2018 05 06 slice 1 sample 17 (fast spiking S1).mat\n"
     ]
    },
    {
     "name": "stderr",
     "output_type": "stream",
     "text": [
      "/gpfs01/berens/user/ybernaerts/EphysAnalysis/data/ephys/code/ephys_features.py:944: RuntimeWarning: invalid value encountered in sqrt\n",
      "  rsme = np.sqrt(np.mean(pred - v_window))\n",
      "/gpfs01/berens/user/ybernaerts/EphysAnalysis/data/ephys/code/ephys_features.py:944: RuntimeWarning: invalid value encountered in sqrt\n",
      "  rsme = np.sqrt(np.mean(pred - v_window))\n"
     ]
    },
    {
     "name": "stdout",
     "output_type": "stream",
     "text": [
      "Processing:  ../L4/ReAnalysis/data/Excluded Data//2018 26 06 slice 1 sample 2 (non-martinoti S1).mat\n",
      "Processing:  ../L4/ReAnalysis/data/Excluded Data//2018 04 06 slice 1 sample 3 (martinotti V1).mat\n"
     ]
    },
    {
     "name": "stderr",
     "output_type": "stream",
     "text": [
      "/gpfs01/berens/user/ybernaerts/EphysAnalysis/data/ephys/code/ephys_features.py:944: RuntimeWarning: invalid value encountered in sqrt\n",
      "  rsme = np.sqrt(np.mean(pred - v_window))\n",
      "/gpfs01/berens/user/ybernaerts/EphysAnalysis/data/ephys/code/ephys_features.py:944: RuntimeWarning: invalid value encountered in sqrt\n",
      "  rsme = np.sqrt(np.mean(pred - v_window))\n",
      "/usr/local/lib/python3.5/dist-packages/ipykernel_launcher.py:57: RuntimeWarning: invalid value encountered in greater\n"
     ]
    },
    {
     "name": "stdout",
     "output_type": "stream",
     "text": [
      "Processing:  ../L4/ReAnalysis/data/Excluded Data//2018 26 06 slice 1 sample 7 (non-martinoti S1).mat\n",
      "Processing:  ../L4/ReAnalysis/data/Excluded Data//2018 03 07 slice 1 sample 8 (matinotti V1; not good quality).mat\n"
     ]
    },
    {
     "name": "stderr",
     "output_type": "stream",
     "text": [
      "/gpfs01/berens/user/ybernaerts/EphysAnalysis/data/ephys/code/ephys_features.py:944: RuntimeWarning: invalid value encountered in sqrt\n",
      "  rsme = np.sqrt(np.mean(pred - v_window))\n",
      "/gpfs01/berens/user/ybernaerts/EphysAnalysis/data/ephys/code/ephys_features.py:944: RuntimeWarning: invalid value encountered in sqrt\n",
      "  rsme = np.sqrt(np.mean(pred - v_window))\n"
     ]
    }
   ],
   "source": [
    "directory = '../L4/ReAnalysis/Figures/PlotInfoFirstPeakExcludedData/'\n",
    "plot_info_first_peak_all(L4_excluded, L4_excluded_names, directory)"
   ]
  },
  {
   "cell_type": "code",
   "execution_count": null,
   "metadata": {},
   "outputs": [],
   "source": []
  }
 ],
 "metadata": {
  "kernelspec": {
   "display_name": "Python 3",
   "language": "python",
   "name": "python3"
  },
  "language_info": {
   "codemirror_mode": {
    "name": "ipython",
    "version": 3
   },
   "file_extension": ".py",
   "mimetype": "text/x-python",
   "name": "python",
   "nbconvert_exporter": "python",
   "pygments_lexer": "ipython3",
   "version": "3.5.2"
  }
 },
 "nbformat": 4,
 "nbformat_minor": 2
}
